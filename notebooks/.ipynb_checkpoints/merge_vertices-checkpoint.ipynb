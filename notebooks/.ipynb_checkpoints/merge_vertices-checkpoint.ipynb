{
 "cells": [
  {
   "cell_type": "code",
   "execution_count": 1,
   "metadata": {},
   "outputs": [
    {
     "data": {
      "text/plain": [
       "LinearAlgebraicRepresentation"
      ]
     },
     "execution_count": 1,
     "metadata": {},
     "output_type": "execute_result"
    }
   ],
   "source": [
    "using BenchmarkTools\n",
    "using SparseArrays\n",
    "using Distributed\n",
    "using LinearAlgebra\n",
    "using LinearAlgebraicRepresentation\n",
    "using NearestNeighbors\n",
    "Lar = LinearAlgebraicRepresentation"
   ]
  },
  {
   "cell_type": "markdown",
   "metadata": {},
   "source": []
  },
  {
   "cell_type": "code",
   "execution_count": 2,
   "metadata": {},
   "outputs": [
    {
     "data": {
      "text/plain": [
       "merge_vertices (generic function with 2 methods)"
      ]
     },
     "metadata": {},
     "output_type": "display_data"
    }
   ],
   "source": [
    "function merge_vertices(V::Lar.Points, EV::Lar.ChainOp, FE::Lar.ChainOp, err=1e-4)\n",
    "    vertsnum = size(V, 1)\n",
    "    edgenum = size(EV, 1)\n",
    "    facenum = size(FE, 1)\n",
    "    newverts = zeros(Int, vertsnum)\n",
    "    # KDTree constructor needs an explicit array of Float64\n",
    "    V = Array{Float64,2}(V)\n",
    "    W = convert(Lar.Points, LinearAlgebra.transpose(V))\n",
    "    kdtree = KDTree(W)\n",
    "    # remove vertices congruent to a single representative\n",
    "    todelete = []\n",
    "    i = 1\n",
    "    for vi in 1:vertsnum\n",
    "        if !(vi in todelete)\n",
    "            nearvs = Lar.inrange(kdtree, V[vi, :], err)\n",
    "            newverts[nearvs] .= i\n",
    "            nearvs = setdiff(nearvs, vi)\n",
    "            todelete = union(todelete, nearvs)\n",
    "            i = i + 1\n",
    "        end\n",
    "    end\n",
    "    nV = V[setdiff(collect(1:vertsnum), todelete), :]\n",
    "    \n",
    "    # translate edges to take congruence into account\n",
    "    edges = Array{Tuple{Int, Int}, 1}(undef, edgenum)\n",
    "    oedges = Array{Tuple{Int, Int}, 1}(undef, edgenum)\n",
    "    for ei in 1:edgenum\n",
    "        v1, v2 = EV[ei, :].nzind\n",
    "        edges[ei] = Tuple{Int, Int}(sort([newverts[v1], newverts[v2]]))\n",
    "        oedges[ei] = Tuple{Int, Int}(sort([v1, v2]))\n",
    "    end\n",
    "    nedges = union(edges)\n",
    "    # remove edges of zero length\n",
    "    nedges = filter(t->t[1]!=t[2], nedges)\n",
    "    nedgenum = length(nedges)\n",
    "    nEV = spzeros(Int8, nedgenum, size(nV, 1))\n",
    " \n",
    "    etuple2idx = Dict{Tuple{Int, Int}, Int}()\n",
    "    for ei in 1:nedgenum\n",
    "        begin\n",
    "            nEV[ei, collect(nedges[ei])] .= 1\n",
    "            nEV\n",
    "        end\n",
    "        etuple2idx[nedges[ei]] = ei\n",
    "    end\n",
    "    for e in 1:nedgenum\n",
    "        v1,v2 = findnz(nEV[e,:])[1]\n",
    "        nEV[e,v1] = -1; nEV[e,v2] = 1\n",
    "    end\n",
    " \n",
    "    # compute new faces to take congruence into account\n",
    "    faces = [[\n",
    "        map(x->newverts[x], FE[fi, ei] > 0 ? oedges[ei] : reverse(oedges[ei]))\n",
    "        for ei in FE[fi, :].nzind\n",
    "    ] for fi in 1:facenum]\n",
    " \n",
    " \n",
    "    visited = []\n",
    "    function filter_fn(face)\n",
    " \n",
    "        verts = []\n",
    "        map(e->verts = union(verts, collect(e)), face)\n",
    "        verts = Set(verts)\n",
    " \n",
    "        if !(verts in visited)\n",
    "            push!(visited, verts)\n",
    "            return true\n",
    "        end\n",
    "        return false\n",
    "    end\n",
    " \n",
    "    nfaces = filter(filter_fn, faces)\n",
    " \n",
    "    nfacenum = length(nfaces)\n",
    "    nFE = spzeros(Int8, nfacenum, size(nEV, 1))\n",
    " \n",
    "    for fi in 1:nfacenum\n",
    "        for edge in nfaces[fi]\n",
    "            ei = etuple2idx[Tuple{Int, Int}(sort(collect(edge)))]\n",
    "            nFE[fi, ei] = sign(edge[2] - edge[1])\n",
    "        end\n",
    "    end\n",
    " \n",
    "    return Lar.Points(nV), nEV, nFE\n",
    " end"
   ]
  },
  {
   "cell_type": "code",
   "execution_count": 3,
   "metadata": {},
   "outputs": [
    {
     "data": {
      "text/plain": [
       "6×12 SparseMatrixCSC{Int8, Int64} with 24 stored entries:\n",
       "  1   1   1  -1   ⋅   ⋅   ⋅   ⋅   ⋅   ⋅   ⋅   ⋅\n",
       "  ⋅   ⋅   ⋅   ⋅   ⋅   ⋅   ⋅   ⋅  -1  -1  -1   1\n",
       " -1   ⋅   ⋅   ⋅   1  -1   ⋅   ⋅   1   ⋅   ⋅   ⋅\n",
       "  ⋅  -1   ⋅   ⋅   ⋅   1  -1   ⋅   ⋅   1   ⋅   ⋅\n",
       "  ⋅   ⋅  -1   ⋅   ⋅   ⋅   1  -1   ⋅   ⋅   1   ⋅\n",
       "  ⋅   ⋅   ⋅   1  -1   ⋅   ⋅   1   ⋅   ⋅   ⋅  -1"
      ]
     },
     "metadata": {},
     "output_type": "display_data"
    }
   ],
   "source": [
    "V = Float64[\n",
    "        0 0 0; 0 1 0;\n",
    "        1 1 0; 1 0 0;\n",
    "        0 0 1; 0 1 1;\n",
    "        1 1 1; 1 0 1\n",
    "    ]\n",
    "\n",
    "    EV = sparse(Int8[\n",
    "        -1  1  0  0  0  0  0  0;\n",
    "        0 -1  1  0  0  0  0  0;\n",
    "        0  0 -1  1  0  0  0  0;\n",
    "        -1  0  0  1  0  0  0  0;\n",
    "        -1  0  0  0  1  0  0  0;\n",
    "        0 -1  0  0  0  1  0  0;\n",
    "        0  0 -1  0  0  0  1  0;\n",
    "        0  0  0 -1  0  0  0  1;\n",
    "        0  0  0  0 -1  1  0  0;\n",
    "        0  0  0  0  0 -1  1  0;\n",
    "        0  0  0  0  0  0 -1  1;\n",
    "        0  0  0  0 -1  0  0  1;\n",
    "    ])\n",
    "\n",
    "    FE = sparse(Int8[\n",
    "        1  1  1 -1  0  0  0  0  0  0  0  0;\n",
    "        0  0  0  0  0  0  0  0 -1 -1 -1  1;\n",
    "        -1  0  0  0  1 -1  0  0  1  0  0  0;\n",
    "        0 -1  0  0  0  1 -1  0  0  1  0  0;\n",
    "        0  0 -1  0  0  0  1 -1  0  0  1  0;\n",
    "        0  0  0  1 -1  0  0  1  0  0  0 -1;\n",
    "    ])"
   ]
  },
  {
   "cell_type": "code",
   "execution_count": 8,
   "metadata": {},
   "outputs": [
    {
     "name": "stdout",
     "output_type": "stream",
     "text": [
      "  0.000184 seconds (920 allocations: 64.000 KiB)\n"
     ]
    },
    {
     "data": {
      "text/plain": [
       "([0.0 0.0 0.0; 0.0 1.0 0.0; … ; 1.0 1.0 1.0; 1.0 0.0 1.0], sparse([1, 4, 5, 1, 2, 6, 2, 3, 7, 3  …  12, 6, 9, 10, 7, 10, 11, 8, 11, 12], [1, 1, 1, 2, 2, 2, 3, 3, 3, 4  …  5, 6, 6, 6, 7, 7, 7, 8, 8, 8], Int8[-1, -1, -1, 1, -1, -1, 1, -1, -1, 1  …  -1, 1, 1, -1, 1, 1, -1, 1, 1, 1], 12, 8), sparse([1, 3, 1, 4, 1, 5, 1, 6, 3, 6  …  5, 6, 2, 3, 2, 4, 2, 5, 2, 6], [1, 1, 2, 2, 3, 3, 4, 4, 5, 5  …  8, 8, 9, 9, 10, 10, 11, 11, 12, 12], Int8[1, -1, 1, -1, 1, -1, -1, 1, 1, -1  …  -1, 1, -1, 1, -1, 1, -1, 1, 1, -1], 6, 12))"
      ]
     },
     "metadata": {},
     "output_type": "display_data"
    }
   ],
   "source": [
    "@time merge_vertices(Lar.Points(V),Lar.ChainOp(EV),Lar.ChainOp(FE),1e-4)"
   ]
  },
  {
   "cell_type": "code",
   "execution_count": 9,
   "metadata": {},
   "outputs": [
    {
     "name": "stdout",
     "output_type": "stream",
     "text": [
      "  39.900 μs (920 allocations: 64.00 KiB)\n"
     ]
    },
    {
     "data": {
      "text/plain": [
       "([0.0 0.0 0.0; 0.0 1.0 0.0; … ; 1.0 1.0 1.0; 1.0 0.0 1.0], sparse([1, 4, 5, 1, 2, 6, 2, 3, 7, 3  …  12, 6, 9, 10, 7, 10, 11, 8, 11, 12], [1, 1, 1, 2, 2, 2, 3, 3, 3, 4  …  5, 6, 6, 6, 7, 7, 7, 8, 8, 8], Int8[-1, -1, -1, 1, -1, -1, 1, -1, -1, 1  …  -1, 1, 1, -1, 1, 1, -1, 1, 1, 1], 12, 8), sparse([1, 3, 1, 4, 1, 5, 1, 6, 3, 6  …  5, 6, 2, 3, 2, 4, 2, 5, 2, 6], [1, 1, 2, 2, 3, 3, 4, 4, 5, 5  …  8, 8, 9, 9, 10, 10, 11, 11, 12, 12], Int8[1, -1, 1, -1, 1, -1, -1, 1, 1, -1  …  -1, 1, -1, 1, -1, 1, -1, 1, 1, -1], 6, 12))"
      ]
     },
     "metadata": {},
     "output_type": "display_data"
    }
   ],
   "source": [
    "@btime merge_vertices(Lar.Points(V),Lar.ChainOp(EV),Lar.ChainOp(FE),1e-4)"
   ]
  },
  {
   "cell_type": "code",
   "execution_count": null,
   "metadata": {},
   "outputs": [],
   "source": []
  }
 ],
 "metadata": {
  "kernelspec": {
   "display_name": "Julia 1.7.2",
   "language": "julia",
   "name": "julia-1.7"
  },
  "language_info": {
   "file_extension": ".jl",
   "mimetype": "application/julia",
   "name": "julia",
   "version": "1.7.2"
  }
 },
 "nbformat": 4,
 "nbformat_minor": 2
}
