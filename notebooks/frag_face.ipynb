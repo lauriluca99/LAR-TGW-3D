{
 "cells": [
  {
   "cell_type": "code",
   "execution_count": 2,
   "metadata": {},
   "outputs": [
    {
     "data": {
      "text/plain": [
       "LinearAlgebraicRepresentation"
      ]
     },
     "metadata": {},
     "output_type": "display_data"
    }
   ],
   "source": [
    "#Importing all the library used in the notebooks\n",
    "using Profile\n",
    "using ProfileView\n",
    "using BenchmarkTools\n",
    "using SparseArrays\n",
    "using LinearAlgebraicRepresentation\n",
    "Lar = LinearAlgebraicRepresentation"
   ]
  },
  {
   "cell_type": "markdown",
   "metadata": {},
   "source": [
    "### Versione iniziale di frag_face"
   ]
  },
  {
   "cell_type": "code",
   "execution_count": 3,
   "metadata": {},
   "outputs": [
    {
     "data": {
      "text/plain": [
       "frag_face (generic function with 1 method)"
      ]
     },
     "metadata": {},
     "output_type": "display_data"
    }
   ],
   "source": [
    "function frag_face(V, EV, FE, sp_idx, sigma)\n",
    "\n",
    "    vs_num = size(V, 1)\n",
    "    \n",
    "\n",
    "\t# 2D transformation of sigma face\n",
    "    sigmavs = (abs.(FE[sigma:sigma,:])*abs.(EV))[1,:].nzind\n",
    "    \n",
    "    sV = V[sigmavs, :]\n",
    "    sEV = EV[FE[sigma, :].nzind, sigmavs]\n",
    "    M = Lar.Arrangement.submanifold_mapping(sV)\n",
    "    tV = ([V ones(vs_num)]*M)[:, 1:3]  # folle convertire *tutti* i vertici\n",
    "    sV = tV[sigmavs, :]\n",
    "    # sigma face intersection with faces in sp_idx[sigma]\n",
    "    for i in sp_idx[sigma]\n",
    "        tmpV, tmpEV = Lar.Arrangement.face_int(tV, EV, FE[i, :])\n",
    "       \n",
    "\n",
    "        \n",
    "        sV, sEV = Lar.skel_merge(sV, sEV, tmpV, tmpEV)\n",
    "    end\n",
    "\n",
    "    # computation of 2D arrangement of sigma face\n",
    "    sV = sV[:, 1:2]\n",
    "    nV, nEV, nFE = Lar.Arrangement.planar_arrangement(sV, sEV, sparsevec(ones(Int8, length(sigmavs))))\n",
    "    if nV == nothing ## not possible !! ... (each original face maps to its decomposition)\n",
    "        return [], spzeros(Int8, 0,0), spzeros(Int8, 0,0)\n",
    "    end\n",
    "    nvsize = size(nV, 1)\n",
    "    nV = [nV zeros(nvsize) ones(nvsize)]*inv(M)[:, 1:3] ## ????\n",
    "    \n",
    "    return nV, nEV, nFE\n",
    "end"
   ]
  },
  {
   "cell_type": "code",
   "execution_count": 4,
   "metadata": {},
   "outputs": [
    {
     "data": {
      "text/plain": [
       "8×3 Matrix{Float64}:\n",
       " 0.0  0.0  0.0\n",
       " 0.0  1.0  0.0\n",
       " 1.0  1.0  0.0\n",
       " 1.0  0.0  0.0\n",
       " 0.0  0.0  1.0\n",
       " 0.0  1.0  1.0\n",
       " 1.0  1.0  1.0\n",
       " 1.0  0.0  1.0"
      ]
     },
     "metadata": {},
     "output_type": "display_data"
    }
   ],
   "source": [
    "V = Float64[\n",
    "    0 0 0; 0 1 0;\n",
    "    1 1 0; 1 0 0;\n",
    "    0 0 1; 0 1 1;\n",
    "    1 1 1; 1 0 1\n",
    "]"
   ]
  },
  {
   "cell_type": "code",
   "execution_count": 5,
   "metadata": {},
   "outputs": [
    {
     "data": {
      "text/plain": [
       "12×8 SparseMatrixCSC{Int8, Int64} with 24 stored entries:\n",
       " -1   1   ⋅   ⋅   ⋅   ⋅   ⋅  ⋅\n",
       "  ⋅  -1   1   ⋅   ⋅   ⋅   ⋅  ⋅\n",
       "  ⋅   ⋅  -1   1   ⋅   ⋅   ⋅  ⋅\n",
       " -1   ⋅   ⋅   1   ⋅   ⋅   ⋅  ⋅\n",
       " -1   ⋅   ⋅   ⋅   1   ⋅   ⋅  ⋅\n",
       "  ⋅  -1   ⋅   ⋅   ⋅   1   ⋅  ⋅\n",
       "  ⋅   ⋅  -1   ⋅   ⋅   ⋅   1  ⋅\n",
       "  ⋅   ⋅   ⋅  -1   ⋅   ⋅   ⋅  1\n",
       "  ⋅   ⋅   ⋅   ⋅  -1   1   ⋅  ⋅\n",
       "  ⋅   ⋅   ⋅   ⋅   ⋅  -1   1  ⋅\n",
       "  ⋅   ⋅   ⋅   ⋅   ⋅   ⋅  -1  1\n",
       "  ⋅   ⋅   ⋅   ⋅  -1   ⋅   ⋅  1"
      ]
     },
     "metadata": {},
     "output_type": "display_data"
    }
   ],
   "source": [
    "EV = sparse(Int8[\n",
    "        -1  1  0  0  0  0  0  0;\n",
    "        0 -1  1  0  0  0  0  0;\n",
    "        0  0 -1  1  0  0  0  0;\n",
    "        -1  0  0  1  0  0  0  0;\n",
    "        -1  0  0  0  1  0  0  0;\n",
    "        0 -1  0  0  0  1  0  0;\n",
    "        0  0 -1  0  0  0  1  0;\n",
    "        0  0  0 -1  0  0  0  1;\n",
    "        0  0  0  0 -1  1  0  0;\n",
    "        0  0  0  0  0 -1  1  0;\n",
    "        0  0  0  0  0  0 -1  1;\n",
    "        0  0  0  0 -1  0  0  1;\n",
    "])"
   ]
  },
  {
   "cell_type": "code",
   "execution_count": 6,
   "metadata": {},
   "outputs": [
    {
     "data": {
      "text/plain": [
       "6×12 SparseMatrixCSC{Int8, Int64} with 24 stored entries:\n",
       "  1   1   1  -1   ⋅   ⋅   ⋅   ⋅   ⋅   ⋅   ⋅   ⋅\n",
       "  ⋅   ⋅   ⋅   ⋅   ⋅   ⋅   ⋅   ⋅  -1  -1  -1   1\n",
       " -1   ⋅   ⋅   ⋅   1  -1   ⋅   ⋅   1   ⋅   ⋅   ⋅\n",
       "  ⋅  -1   ⋅   ⋅   ⋅   1  -1   ⋅   ⋅   1   ⋅   ⋅\n",
       "  ⋅   ⋅  -1   ⋅   ⋅   ⋅   1  -1   ⋅   ⋅   1   ⋅\n",
       "  ⋅   ⋅   ⋅   1  -1   ⋅   ⋅   1   ⋅   ⋅   ⋅  -1"
      ]
     },
     "metadata": {},
     "output_type": "display_data"
    }
   ],
   "source": [
    "FE = sparse(Int8[\n",
    "        1  1  1 -1  0  0  0  0  0  0  0  0;\n",
    "        0  0  0  0  0  0  0  0 -1 -1 -1  1;\n",
    "        -1  0  0  0  1 -1  0  0  1  0  0  0;\n",
    "        0 -1  0  0  0  1 -1  0  0  1  0  0;\n",
    "        0  0 -1  0  0  0  1 -1  0  0  1  0;\n",
    "        0  0  0  1 -1  0  0  1  0  0  0 -1;\n",
    "])"
   ]
  },
  {
   "cell_type": "markdown",
   "metadata": {},
   "source": [
    "`@btime` riporta i risultati come `@time`, mostrando le allocazioni ed il tempo minimo trascorso in una singola chiamata di funzione durante l'esecuzione della funzione su più campionamenti. Useremo `@btime` nella maggior parte dei nostri esempi."
   ]
  },
  {
   "cell_type": "code",
   "execution_count": 7,
   "metadata": {},
   "outputs": [
    {
     "name": "stdout",
     "output_type": "stream",
     "text": [
      "  356.700 μs (4870 allocations: 265.34 KiB)\n"
     ]
    },
    {
     "data": {
      "text/plain": [
       "([0.0 0.0 1.0; 0.0 1.0 1.0; 1.0 1.0 1.0; 1.0 0.0 1.0], sparse([1, 4, 1, 2, 2, 3, 3, 4], [1, 1, 2, 2, 3, 3, 4, 4], Int8[-1, -1, 1, -1, 1, -1, 1, 1], 4, 4), sparse([1, 1, 1, 1], [1, 2, 3, 4], Int8[1, 1, 1, -1], 1, 4))"
      ]
     },
     "metadata": {},
     "output_type": "display_data"
    }
   ],
   "source": [
    "@btime frag_face(Lar.Points(V),EV,FE,[2,3,4,5],2)"
   ]
  },
  {
   "cell_type": "markdown",
   "metadata": {},
   "source": [
    "Utilizzando la macro `@code_warntype` si individuano molte variabili assegnate al tipo `Any`. Questo significa essenzialmente che ci sarà un'allocazione per la posizione della memoria e l'indirezione al valore effettivo durante il calcolo. "
   ]
  },
  {
   "cell_type": "code",
   "execution_count": 8,
   "metadata": {},
   "outputs": [
    {
     "name": "stdout",
     "output_type": "stream",
     "text": [
      "MethodInstance for frag_face(::Matrix{Float64}, ::SparseMatrixCSC{Int8, Int64}, ::SparseMatrixCSC{Int8, Int64}, ::Vector{Int64}, ::Int64)\n",
      "  from frag_face(V, EV, FE, sp_idx, sigma) in Main at c:\\Users\\Valerio\\OneDrive - Universita degli Studi Roma Tre\\CP\\LAR TGW 3D\\notebooks\\frag_face.ipynb:1\n",
      "Arguments\n",
      "  #self#\u001b[36m::Core.Const(frag_face)\u001b[39m\n",
      "  V\u001b[36m::Matrix{Float64}\u001b[39m\n",
      "  EV\u001b[36m::SparseMatrixCSC{Int8, Int64}\u001b[39m\n",
      "  FE\u001b[36m::SparseMatrixCSC{Int8, Int64}\u001b[39m\n",
      "  sp_idx\u001b[36m::Vector{Int64}\u001b[39m\n",
      "  sigma\u001b[36m::Int64\u001b[39m\n",
      "Locals\n",
      "  @_7\u001b[91m\u001b[1m::Any\u001b[22m\u001b[39m\n",
      "  @_8\u001b[33m\u001b[1m::Union{Nothing, Tuple{Int64, Nothing}}\u001b[22m\u001b[39m\n",
      "  nvsize\u001b[91m\u001b[1m::Any\u001b[22m\u001b[39m\n",
      "  nFE\u001b[91m\u001b[1m::Any\u001b[22m\u001b[39m\n",
      "  nEV\u001b[91m\u001b[1m::Any\u001b[22m\u001b[39m\n",
      "  nV\u001b[91m\u001b[1m::Any\u001b[22m\u001b[39m\n",
      "  tV\u001b[91m\u001b[1m::Any\u001b[22m\u001b[39m\n",
      "  M\u001b[91m\u001b[1m::Any\u001b[22m\u001b[39m\n",
      "  sEV\u001b[91m\u001b[1m::Any\u001b[22m\u001b[39m\n",
      "  sV\u001b[91m\u001b[1m::Any\u001b[22m\u001b[39m\n",
      "  sigmavs\u001b[36m::Vector{Int64}\u001b[39m\n",
      "  vs_num\u001b[36m::Int64\u001b[39m\n",
      "  @_19\u001b[91m\u001b[1m::Any\u001b[22m\u001b[39m\n",
      "  @_20\u001b[91m\u001b[1m::Any\u001b[22m\u001b[39m\n",
      "  i\u001b[36m::Int64\u001b[39m\n",
      "  tmpEV\u001b[91m\u001b[1m::Any\u001b[22m\u001b[39m\n",
      "  tmpV\u001b[91m\u001b[1m::Any\u001b[22m\u001b[39m\n",
      "Body\u001b[91m\u001b[1m::Tuple{Any, Any, Any}\u001b[22m\u001b[39m\n",
      "\u001b[90m1 ─\u001b[39m       Core.NewvarNode(:(@_7))\n",
      "\u001b[90m│  \u001b[39m       Core.NewvarNode(:(nvsize))\n",
      "\u001b[90m│  \u001b[39m       Core.NewvarNode(:(nFE))\n",
      "\u001b[90m│  \u001b[39m       Core.NewvarNode(:(nEV))\n",
      "\u001b[90m│  \u001b[39m       Core.NewvarNode(:(nV))\n",
      "\u001b[90m│  \u001b[39m       (vs_num = Main.size(V, 1))\n",
      "\u001b[90m│  \u001b[39m %7  = (sigma:sigma)\u001b[36m::UnitRange{Int64}\u001b[39m\n",
      "\u001b[90m│  \u001b[39m %8  = Base.getindex(FE, %7, Main.:(:))\u001b[36m::SparseMatrixCSC{Int8, Int64}\u001b[39m\n",
      "\u001b[90m│  \u001b[39m %9  = Base.broadcasted(Main.abs, %8)\u001b[36m::Base.Broadcast.Broadcasted{SparseArrays.HigherOrderFns.SparseMatStyle, Nothing, typeof(abs), Tuple{SparseMatrixCSC{Int8, Int64}}}\u001b[39m\n",
      "\u001b[90m│  \u001b[39m %10 = Base.materialize(%9)\u001b[36m::SparseMatrixCSC{Int8, Int64}\u001b[39m\n",
      "\u001b[90m│  \u001b[39m %11 = Base.broadcasted(Main.abs, EV)\u001b[36m::Base.Broadcast.Broadcasted{SparseArrays.HigherOrderFns.SparseMatStyle, Nothing, typeof(abs), Tuple{SparseMatrixCSC{Int8, Int64}}}\u001b[39m\n",
      "\u001b[90m│  \u001b[39m %12 = Base.materialize(%11)\u001b[36m::SparseMatrixCSC{Int8, Int64}\u001b[39m\n",
      "\u001b[90m│  \u001b[39m %13 = (%10 * %12)\u001b[36m::SparseMatrixCSC{Int8, Int64}\u001b[39m\n",
      "\u001b[90m│  \u001b[39m %14 = Base.getindex(%13, 1, Main.:(:))\u001b[36m::SparseVector{Int8, Int64}\u001b[39m\n",
      "\u001b[90m│  \u001b[39m       (sigmavs = Base.getproperty(%14, :nzind))\n",
      "\u001b[90m│  \u001b[39m       (sV = Base.getindex(V, sigmavs, Main.:(:)))\n",
      "\u001b[90m│  \u001b[39m %17 = Base.getindex(FE, sigma, Main.:(:))\u001b[36m::SparseVector{Int8, Int64}\u001b[39m\n",
      "\u001b[90m│  \u001b[39m %18 = Base.getproperty(%17, :nzind)\u001b[36m::Vector{Int64}\u001b[39m\n",
      "\u001b[90m│  \u001b[39m       (sEV = Base.getindex(EV, %18, sigmavs))\n",
      "\u001b[90m│  \u001b[39m %20 = Base.getproperty(Main.Lar, :Arrangement)\u001b[91m\u001b[1m::Any\u001b[22m\u001b[39m\n",
      "\u001b[90m│  \u001b[39m %21 = Base.getproperty(%20, :submanifold_mapping)\u001b[91m\u001b[1m::Any\u001b[22m\u001b[39m\n",
      "\u001b[90m│  \u001b[39m       (M = (%21)(sV::Matrix{Float64}))\n",
      "\u001b[90m│  \u001b[39m %23 = Main.ones(vs_num)\u001b[36m::Vector{Float64}\u001b[39m\n",
      "\u001b[90m│  \u001b[39m %24 = Base.hcat(V, %23)\u001b[36m::Matrix{Float64}\u001b[39m\n",
      "\u001b[90m│  \u001b[39m %25 = (%24 * M)\u001b[91m\u001b[1m::Any\u001b[22m\u001b[39m\n",
      "\u001b[90m│  \u001b[39m %26 = (1:3)\u001b[36m::Core.Const(1:3)\u001b[39m\n",
      "\u001b[90m│  \u001b[39m       (tV = Base.getindex(%25, Main.:(:), %26))\n",
      "\u001b[90m│  \u001b[39m       (sV = Base.getindex(tV, sigmavs, Main.:(:)))\n",
      "\u001b[90m│  \u001b[39m %29 = Base.getindex(sp_idx, sigma)\u001b[36m::Int64\u001b[39m\n",
      "\u001b[90m│  \u001b[39m       (@_8 = Base.iterate(%29))\n",
      "\u001b[90m│  \u001b[39m %31 = (@_8::Tuple{Int64, Nothing} === nothing)\u001b[36m::Core.Const(false)\u001b[39m\n",
      "\u001b[90m│  \u001b[39m %32 = Base.not_int(%31)\u001b[36m::Core.Const(true)\u001b[39m\n",
      "\u001b[90m└──\u001b[39m       goto #4 if not %32\n",
      "\u001b[90m2 ─\u001b[39m %34 = @_8\u001b[36m::Tuple{Int64, Nothing}\u001b[39m\n",
      "\u001b[90m│  \u001b[39m       (i = Core.getfield(%34, 1))\n",
      "\u001b[90m│  \u001b[39m %36 = Core.getfield(%34, 2)\u001b[36m::Core.Const(nothing)\u001b[39m\n",
      "\u001b[90m│  \u001b[39m %37 = Base.getproperty(Main.Lar, :Arrangement)\u001b[91m\u001b[1m::Any\u001b[22m\u001b[39m\n",
      "\u001b[90m│  \u001b[39m %38 = Base.getproperty(%37, :face_int)\u001b[91m\u001b[1m::Any\u001b[22m\u001b[39m\n",
      "\u001b[90m│  \u001b[39m %39 = tV\u001b[91m\u001b[1m::Any\u001b[22m\u001b[39m\n",
      "\u001b[90m│  \u001b[39m %40 = Base.getindex(FE, i, Main.:(:))\u001b[36m::SparseVector{Int8, Int64}\u001b[39m\n",
      "\u001b[90m│  \u001b[39m %41 = (%38)(%39, EV, %40)\u001b[91m\u001b[1m::Any\u001b[22m\u001b[39m\n",
      "\u001b[90m│  \u001b[39m %42 = Base.indexed_iterate(%41, 1)\u001b[91m\u001b[1m::Any\u001b[22m\u001b[39m\n",
      "\u001b[90m│  \u001b[39m       (tmpV = Core.getfield(%42, 1))\n",
      "\u001b[90m│  \u001b[39m       (@_20 = Core.getfield(%42, 2))\n",
      "\u001b[90m│  \u001b[39m %45 = Base.indexed_iterate(%41, 2, @_20)\u001b[91m\u001b[1m::Any\u001b[22m\u001b[39m\n",
      "\u001b[90m│  \u001b[39m       (tmpEV = Core.getfield(%45, 1))\n",
      "\u001b[90m│  \u001b[39m %47 = Base.getproperty(Main.Lar, :skel_merge)\u001b[91m\u001b[1m::Any\u001b[22m\u001b[39m\n",
      "\u001b[90m│  \u001b[39m %48 = sV\u001b[91m\u001b[1m::Any\u001b[22m\u001b[39m\n",
      "\u001b[90m│  \u001b[39m %49 = sEV\u001b[36m::SparseMatrixCSC{Int8, Int64}\u001b[39m\n",
      "\u001b[90m│  \u001b[39m %50 = tmpV\u001b[91m\u001b[1m::Any\u001b[22m\u001b[39m\n",
      "\u001b[90m│  \u001b[39m %51 = (%47)(%48, %49, %50, tmpEV)\u001b[91m\u001b[1m::Any\u001b[22m\u001b[39m\n",
      "\u001b[90m│  \u001b[39m %52 = Base.indexed_iterate(%51, 1)\u001b[91m\u001b[1m::Any\u001b[22m\u001b[39m\n",
      "\u001b[90m│  \u001b[39m       (sV = Core.getfield(%52, 1))\n",
      "\u001b[90m│  \u001b[39m       (@_19 = Core.getfield(%52, 2))\n",
      "\u001b[90m│  \u001b[39m %55 = Base.indexed_iterate(%51, 2, @_19)\u001b[91m\u001b[1m::Any\u001b[22m\u001b[39m\n",
      "\u001b[90m│  \u001b[39m       (sEV = Core.getfield(%55, 1))\n",
      "\u001b[90m│  \u001b[39m       (@_8 = Base.iterate(%29, %36))\n",
      "\u001b[90m│  \u001b[39m %58 = (@_8::Core.Const(nothing) === nothing)\u001b[36m::Core.Const(true)\u001b[39m\n",
      "\u001b[90m│  \u001b[39m %59 = Base.not_int(%58)\u001b[36m::Core.Const(false)\u001b[39m\n",
      "\u001b[90m└──\u001b[39m       goto #4 if not %59\n",
      "\u001b[90m3 ─\u001b[39m       Core.Const(:(goto %34))\n",
      "\u001b[90m4 ┄\u001b[39m %62 = sV\u001b[91m\u001b[1m::Any\u001b[22m\u001b[39m\n",
      "\u001b[90m│  \u001b[39m %63 = (1:2)\u001b[36m::Core.Const(1:2)\u001b[39m\n",
      "\u001b[90m│  \u001b[39m       (sV = Base.getindex(%62, Main.:(:), %63))\n",
      "\u001b[90m│  \u001b[39m %65 = Base.getproperty(Main.Lar, :Arrangement)\u001b[91m\u001b[1m::Any\u001b[22m\u001b[39m\n",
      "\u001b[90m│  \u001b[39m %66 = Base.getproperty(%65, :planar_arrangement)\u001b[91m\u001b[1m::Any\u001b[22m\u001b[39m\n",
      "\u001b[90m│  \u001b[39m %67 = sV\u001b[91m\u001b[1m::Any\u001b[22m\u001b[39m\n",
      "\u001b[90m│  \u001b[39m %68 = sEV\u001b[91m\u001b[1m::Any\u001b[22m\u001b[39m\n",
      "\u001b[90m│  \u001b[39m %69 = Main.length(sigmavs)\u001b[36m::Int64\u001b[39m\n",
      "\u001b[90m│  \u001b[39m %70 = Main.ones(Main.Int8, %69)\u001b[36m::Vector{Int8}\u001b[39m\n",
      "\u001b[90m│  \u001b[39m %71 = Main.sparsevec(%70)\u001b[36m::SparseVector{Int8, Int64}\u001b[39m\n",
      "\u001b[90m│  \u001b[39m %72 = (%66)(%67, %68, %71)\u001b[91m\u001b[1m::Any\u001b[22m\u001b[39m\n",
      "\u001b[90m│  \u001b[39m %73 = Base.indexed_iterate(%72, 1)\u001b[91m\u001b[1m::Any\u001b[22m\u001b[39m\n",
      "\u001b[90m│  \u001b[39m       (nV = Core.getfield(%73, 1))\n",
      "\u001b[90m│  \u001b[39m       (@_7 = Core.getfield(%73, 2))\n",
      "\u001b[90m│  \u001b[39m %76 = Base.indexed_iterate(%72, 2, @_7)\u001b[91m\u001b[1m::Any\u001b[22m\u001b[39m\n",
      "\u001b[90m│  \u001b[39m       (nEV = Core.getfield(%76, 1))\n",
      "\u001b[90m│  \u001b[39m       (@_7 = Core.getfield(%76, 2))\n",
      "\u001b[90m│  \u001b[39m %79 = Base.indexed_iterate(%72, 3, @_7)\u001b[91m\u001b[1m::Any\u001b[22m\u001b[39m\n",
      "\u001b[90m│  \u001b[39m       (nFE = Core.getfield(%79, 1))\n",
      "\u001b[90m│  \u001b[39m %81 = (nV == Main.nothing)\u001b[33m\u001b[1m::Union{Missing, Bool}\u001b[22m\u001b[39m\n",
      "\u001b[90m└──\u001b[39m       goto #6 if not %81\n",
      "\u001b[90m5 ─\u001b[39m %83 = Base.vect()\u001b[36m::Vector{Any}\u001b[39m\n",
      "\u001b[90m│  \u001b[39m %84 = Main.spzeros(Main.Int8, 0, 0)\u001b[36m::SparseMatrixCSC{Int8, Int64}\u001b[39m\n",
      "\u001b[90m│  \u001b[39m %85 = Main.spzeros(Main.Int8, 0, 0)\u001b[36m::SparseMatrixCSC{Int8, Int64}\u001b[39m\n",
      "\u001b[90m│  \u001b[39m %86 = Core.tuple(%83, %84, %85)\u001b[36m::Tuple{Vector{Any}, SparseMatrixCSC{Int8, Int64}, SparseMatrixCSC{Int8, Int64}}\u001b[39m\n",
      "\u001b[90m└──\u001b[39m       return %86\n",
      "\u001b[90m6 ─\u001b[39m       (nvsize = Main.size(nV, 1))\n",
      "\u001b[90m│  \u001b[39m %89 = nV\u001b[91m\u001b[1m::Any\u001b[22m\u001b[39m\n",
      "\u001b[90m│  \u001b[39m %90 = Main.zeros(nvsize)\u001b[91m\u001b[1m::Any\u001b[22m\u001b[39m\n",
      "\u001b[90m│  \u001b[39m %91 = Main.ones(nvsize)\u001b[91m\u001b[1m::Any\u001b[22m\u001b[39m\n",
      "\u001b[90m│  \u001b[39m %92 = Base.hcat(%89, %90, %91)\u001b[91m\u001b[1m::Any\u001b[22m\u001b[39m\n",
      "\u001b[90m│  \u001b[39m %93 = Main.inv(M)\u001b[91m\u001b[1m::Any\u001b[22m\u001b[39m\n",
      "\u001b[90m│  \u001b[39m %94 = (1:3)\u001b[36m::Core.Const(1:3)\u001b[39m\n",
      "\u001b[90m│  \u001b[39m %95 = Base.getindex(%93, Main.:(:), %94)\u001b[91m\u001b[1m::Any\u001b[22m\u001b[39m\n",
      "\u001b[90m│  \u001b[39m       (nV = %92 * %95)\n",
      "\u001b[90m│  \u001b[39m %97 = Core.tuple(nV, nEV, nFE)\u001b[91m\u001b[1m::Tuple{Any, Any, Any}\u001b[22m\u001b[39m\n",
      "\u001b[90m└──\u001b[39m       return %97\n",
      "\n"
     ]
    }
   ],
   "source": [
    "@code_warntype frag_face(Lar.Points(V),EV,FE,[2,3,4,5],2)"
   ]
  },
  {
   "cell_type": "markdown",
   "metadata": {},
   "source": [
    "Utilizzando la macro `@profile` si immagazzinano le informazioni relative alla funzione che successivamente vengono mostrate graficamente. Tramite il grafico riusciamo a dare una misurazione temporale di ogni singola funzione. La larghezza delle barre mostra il tempo trascorso in ogni locazione di chiamata, mentre la gerarchia di chiamata è rappresentata dalle varie altezze del grafico."
   ]
  },
  {
   "cell_type": "code",
   "execution_count": 9,
   "metadata": {},
   "outputs": [],
   "source": [
    "Profile.clear()\n",
    "Profile.init(delay=.000000001)\n",
    "@profile for _ in 1:200\n",
    "    @profile frag_face(Lar.Points(V),EV,FE,[2,3,4,5],2)\n",
    "end"
   ]
  },
  {
   "cell_type": "code",
   "execution_count": 10,
   "metadata": {},
   "outputs": [
    {
     "data": {
      "text/plain": [
       "Gtk.GtkWindowLeaf(name=\"\", parent, width-request=-1, height-request=-1, visible=TRUE, sensitive=TRUE, app-paintable=FALSE, can-focus=FALSE, has-focus=FALSE, is-focus=FALSE, focus-on-click=TRUE, can-default=FALSE, has-default=FALSE, receives-default=FALSE, composite-child=FALSE, style, events=0, no-show-all=FALSE, has-tooltip=FALSE, tooltip-markup=NULL, tooltip-text=NULL, window, opacity=1,000000, double-buffered, halign=GTK_ALIGN_FILL, valign=GTK_ALIGN_FILL, margin-left, margin-right, margin-start=0, margin-end=0, margin-top=0, margin-bottom=0, margin=0, hexpand=FALSE, vexpand=FALSE, hexpand-set=FALSE, vexpand-set=FALSE, expand=FALSE, scale-factor=1, border-width=0, resize-mode, child, type=GTK_WINDOW_TOPLEVEL, title=\"Profile\", role=NULL, resizable=TRUE, modal=FALSE, window-position=GTK_WIN_POS_NONE, default-width=800, default-height=600, destroy-with-parent=FALSE, hide-titlebar-when-maximized=FALSE, icon, icon-name=NULL, screen, type-hint=GDK_WINDOW_TYPE_HINT_NORMAL, skip-taskbar-hint=FALSE, skip-pager-hint=FALSE, urgency-hint=FALSE, accept-focus=TRUE, focus-on-map=TRUE, decorated=TRUE, deletable=TRUE, gravity=GDK_GRAVITY_NORTH_WEST, transient-for, attached-to, has-resize-grip, resize-grip-visible, application, is-active=TRUE, has-toplevel-focus=TRUE, startup-id, mnemonics-visible=FALSE, focus-visible=FALSE, is-maximized=FALSE)"
      ]
     },
     "metadata": {},
     "output_type": "display_data"
    }
   ],
   "source": [
    "ProfileView.view()"
   ]
  },
  {
   "cell_type": "markdown",
   "metadata": {},
   "source": [
    "# Ottimizzazione\n",
    "\n"
   ]
  },
  {
   "cell_type": "markdown",
   "metadata": {},
   "source": [
    "Possiamo assegnare alle variabili locali un tipo deterministico per rimuovere il tipo `Any`.\n",
    "Inoltre si possono creare delle viste degli array, con la macro `@views`, che permettono di accedere ai valori dell'array senza dover effettuare una copia."
   ]
  },
  {
   "cell_type": "markdown",
   "metadata": {},
   "source": [
    "Si nota come utilizzando le macro `@views` e `@async` la funzione frag_face ottiene un nuovo tempo minimo con un decremento di circa 20% rispetto alla funzione originale."
   ]
  },
  {
   "cell_type": "code",
   "execution_count": 11,
   "metadata": {},
   "outputs": [
    {
     "data": {
      "text/plain": [
       "frag_face2 (generic function with 1 method)"
      ]
     },
     "metadata": {},
     "output_type": "display_data"
    }
   ],
   "source": [
    "function frag_face2(V::Matrix{Float64}, EV::SparseMatrixCSC{Int8, Int64}, FE::SparseMatrixCSC{Int8, Int64}, \n",
    "    sp_idx::Vector{Int64}, sigma::Int64)\n",
    "\n",
    "    vs_num::Int64 = size(V, 1)\n",
    "    \n",
    "\t# 2D transformation of sigma face\n",
    "    sigmavs::Vector{Int64} = (abs.(FE[sigma:sigma,:])*abs.(EV))[1,:].nzind\n",
    "    \n",
    "    sV::Matrix{Float64} = V[sigmavs, :]\n",
    "    sEV::SparseMatrixCSC{Int8, Int64} = EV[FE[sigma, :].nzind, sigmavs]\n",
    "    M::Matrix{Float64} = Lar.Arrangement.submanifold_mapping(sV)\n",
    "    @views tV::Matrix{Float64} = ([V ones(vs_num)]*M)[:, 1:3]  # folle convertire *tutti* i vertici\n",
    "    sV = tV[sigmavs, :]\n",
    "    \n",
    "    # sigma face intersection with faces in sp_idx[sigma]\n",
    "    @async for i in sp_idx[sigma]\n",
    "        tmpV::Matrix{Any}, tmpEV::SparseMatrixCSC{Int8, Int64} = Lar.Arrangement.face_int(tV, EV, FE[i, :])\n",
    "        sV, sEV = Lar.skel_merge(sV, sEV, tmpV, tmpEV)\n",
    "    end\n",
    "\n",
    "    # computation of 2D arrangement of sigma face\n",
    "    @views sV = sV[:, 1:2]\n",
    "    nV::Matrix{Float64}, nEV::SparseMatrixCSC{Int8, Int64}, nFE::SparseMatrixCSC{Int8, Int64} = Lar.Arrangement.planar_arrangement(sV, sEV, sparsevec(ones(Int8, length(sigmavs))))\n",
    "    \n",
    "    nvsize::Int64 = size(nV, 1)\n",
    "    @views nV = [nV zeros(nvsize) ones(nvsize)]*inv(M)[:, 1:3] ## ????\n",
    "    \n",
    "    return nV, nEV, nFE\n",
    "end"
   ]
  },
  {
   "cell_type": "markdown",
   "metadata": {},
   "source": [
    "### Tempi minimi ottenuti da `@btime` con le diverse macro:\n",
    "\n",
    "`@async` = 292.500 μs (3873 allocations: 218.65 KiB)\n",
    "\n",
    "`Threads.@spawn` = 305.200 μs (4093 allocations: 230.38 KiB)\n",
    "\n",
    "`@simd` = 383.000 μs (4996 allocations: 269.99 KiB)\n",
    "\n",
    "`@inbounds` = 377.700 μs (4996 allocations: 269.99 KiB)"
   ]
  },
  {
   "cell_type": "code",
   "execution_count": 12,
   "metadata": {},
   "outputs": [
    {
     "name": "stdout",
     "output_type": "stream",
     "text": [
      "  288.000 μs (3873 allocations: 218.65 KiB)\n"
     ]
    },
    {
     "data": {
      "text/plain": [
       "([0.0 0.0 1.0; 0.0 1.0 1.0; 1.0 1.0 1.0; 1.0 0.0 1.0], sparse([1, 4, 1, 2, 2, 3, 3, 4], [1, 1, 2, 2, 3, 3, 4, 4], Int8[-1, -1, 1, -1, 1, -1, 1, 1], 4, 4), sparse([1, 1, 1, 1], [1, 2, 3, 4], Int8[1, 1, 1, -1], 1, 4))"
      ]
     },
     "metadata": {},
     "output_type": "display_data"
    }
   ],
   "source": [
    "@btime frag_face2(Lar.Points(V),EV,FE,[2,3,4,5],2)"
   ]
  },
  {
   "cell_type": "code",
   "execution_count": 13,
   "metadata": {},
   "outputs": [
    {
     "name": "stdout",
     "output_type": "stream",
     "text": [
      "MethodInstance for frag_face2(::Matrix{Float64}, ::SparseMatrixCSC{Int8, Int64}, ::SparseMatrixCSC{Int8, Int64}, ::Vector{Int64}, ::Int64)\n",
      "  from frag_face2(V::Matrix{Float64}, EV::SparseMatrixCSC{Int8, Int64}, FE::SparseMatrixCSC{Int8, Int64}, sp_idx::Vector{Int64}, sigma::Int64) in Main at c:\\Users\\Valerio\\OneDrive - Universita degli Studi Roma Tre\\CP\\LAR TGW 3D\\notebooks\\frag_face.ipynb:1\n",
      "Arguments\n",
      "  #self#\u001b[36m::Core.Const(frag_face2)\u001b[39m\n",
      "  V\u001b[36m::Matrix{Float64}\u001b[39m\n",
      "  EV\u001b[36m::SparseMatrixCSC{Int8, Int64}\u001b[39m\n",
      "  FE\u001b[36m::SparseMatrixCSC{Int8, Int64}\u001b[39m\n",
      "  sp_idx\u001b[36m::Vector{Int64}\u001b[39m\n",
      "  sigma\u001b[36m::Int64\u001b[39m\n",
      "Locals\n",
      "  @_7\u001b[91m\u001b[1m::Any\u001b[22m\u001b[39m\n",
      "  nvsize\u001b[36m::Int64\u001b[39m\n",
      "  nFE\u001b[36m::SparseMatrixCSC{Int8, Int64}\u001b[39m\n",
      "  nEV\u001b[36m::SparseMatrixCSC{Int8, Int64}\u001b[39m\n",
      "  nV\u001b[36m::Matrix{Float64}\u001b[39m\n",
      "  tV\u001b[36m::Matrix{Float64}\u001b[39m\n",
      "  M\u001b[36m::Matrix{Float64}\u001b[39m\n",
      "  sEV@_14\u001b[91m\u001b[1m::Core.Box\u001b[22m\u001b[39m\n",
      "  sV@_15\u001b[91m\u001b[1m::Core.Box\u001b[22m\u001b[39m\n",
      "  sigmavs\u001b[36m::Vector{Int64}\u001b[39m\n",
      "  vs_num\u001b[36m::Int64\u001b[39m\n",
      "  #9\u001b[36m::var\"#9#10\"{SparseMatrixCSC{Int8, Int64}, SparseMatrixCSC{Int8, Int64}, Vector{Int64}, Int64, Matrix{Float64}}\u001b[39m\n",
      "  task\u001b[36m::Task\u001b[39m\n",
      "  sV@_20\u001b[36m::Union{}\u001b[39m\n",
      "  sV@_21\u001b[36m::Union{}\u001b[39m\n",
      "  sV@_22\u001b[36m::Union{}\u001b[39m\n",
      "  sEV@_23\u001b[36m::Union{}\u001b[39m\n",
      "Body\u001b[36m::Tuple{Matrix{Float64}, SparseMatrixCSC{Int8, Int64}, SparseMatrixCSC{Int8, Int64}}\u001b[39m\n",
      "\u001b[90m1 ──\u001b[39m        Core.NewvarNode(:(@_7))\n",
      "\u001b[90m│   \u001b[39m        Core.NewvarNode(:(nvsize))\n",
      "\u001b[90m│   \u001b[39m        Core.NewvarNode(:(nFE))\n",
      "\u001b[90m│   \u001b[39m        Core.NewvarNode(:(nEV))\n",
      "\u001b[90m│   \u001b[39m        Core.NewvarNode(:(nV))\n",
      "\u001b[90m│   \u001b[39m        Core.NewvarNode(:(tV))\n",
      "\u001b[90m│   \u001b[39m        Core.NewvarNode(:(M))\n",
      "\u001b[90m│   \u001b[39m        (sEV@_14 = Core.Box())\n",
      "\u001b[90m│   \u001b[39m        (sV@_15 = Core.Box())\n",
      "\u001b[90m│   \u001b[39m %10  = Main.size(V, 1)\u001b[36m::Int64\u001b[39m\n",
      "\u001b[90m│   \u001b[39m %11  = Base.convert(Main.Int64, %10)\u001b[36m::Int64\u001b[39m\n",
      "\u001b[90m│   \u001b[39m        (vs_num = Core.typeassert(%11, Main.Int64))\n",
      "\u001b[90m│   \u001b[39m %13  = (sigma:sigma)\u001b[36m::UnitRange{Int64}\u001b[39m\n",
      "\u001b[90m│   \u001b[39m %14  = Base.getindex(FE, %13, Main.:(:))\u001b[36m::SparseMatrixCSC{Int8, Int64}\u001b[39m\n",
      "\u001b[90m│   \u001b[39m %15  = Base.broadcasted(Main.abs, %14)\u001b[36m::Base.Broadcast.Broadcasted{SparseArrays.HigherOrderFns.SparseMatStyle, Nothing, typeof(abs), Tuple{SparseMatrixCSC{Int8, Int64}}}\u001b[39m\n",
      "\u001b[90m│   \u001b[39m %16  = Base.materialize(%15)\u001b[36m::SparseMatrixCSC{Int8, Int64}\u001b[39m\n",
      "\u001b[90m│   \u001b[39m %17  = Base.broadcasted(Main.abs, EV)\u001b[36m::Base.Broadcast.Broadcasted{SparseArrays.HigherOrderFns.SparseMatStyle, Nothing, typeof(abs), Tuple{SparseMatrixCSC{Int8, Int64}}}\u001b[39m\n",
      "\u001b[90m│   \u001b[39m %18  = Base.materialize(%17)\u001b[36m::SparseMatrixCSC{Int8, Int64}\u001b[39m\n",
      "\u001b[90m│   \u001b[39m %19  = (%16 * %18)\u001b[36m::SparseMatrixCSC{Int8, Int64}\u001b[39m\n",
      "\u001b[90m│   \u001b[39m %20  = Base.getindex(%19, 1, Main.:(:))\u001b[36m::SparseVector{Int8, Int64}\u001b[39m\n",
      "\u001b[90m│   \u001b[39m %21  = Base.getproperty(%20, :nzind)\u001b[36m::Vector{Int64}\u001b[39m\n",
      "\u001b[90m│   \u001b[39m %22  = Core.apply_type(Main.Vector, Main.Int64)\u001b[36m::Core.Const(Vector{Int64})\u001b[39m\n",
      "\u001b[90m│   \u001b[39m %23  = Base.convert(%22, %21)\u001b[36m::Vector{Int64}\u001b[39m\n",
      "\u001b[90m│   \u001b[39m        (sigmavs = Core.typeassert(%23, %22))\n",
      "\u001b[90m│   \u001b[39m %25  = Base.getindex(V, sigmavs, Main.:(:))\u001b[36m::Matrix{Float64}\u001b[39m\n",
      "\u001b[90m│   \u001b[39m %26  = sV@_15\u001b[91m\u001b[1m::Core.Box\u001b[22m\u001b[39m\n",
      "\u001b[90m│   \u001b[39m %27  = Core.apply_type(Main.Matrix, Main.Float64)\u001b[36m::Core.Const(Matrix{Float64})\u001b[39m\n",
      "\u001b[90m│   \u001b[39m %28  = Base.convert(%27, %25)\u001b[36m::Matrix{Float64}\u001b[39m\n",
      "\u001b[90m│   \u001b[39m %29  = Core.typeassert(%28, %27)\u001b[36m::Matrix{Float64}\u001b[39m\n",
      "\u001b[90m│   \u001b[39m        Core.setfield!(%26, :contents, %29)\n",
      "\u001b[90m│   \u001b[39m %31  = Base.getindex(FE, sigma, Main.:(:))\u001b[36m::SparseVector{Int8, Int64}\u001b[39m\n",
      "\u001b[90m│   \u001b[39m %32  = Base.getproperty(%31, :nzind)\u001b[36m::Vector{Int64}\u001b[39m\n",
      "\u001b[90m│   \u001b[39m %33  = Base.getindex(EV, %32, sigmavs)\u001b[36m::SparseMatrixCSC{Int8, Int64}\u001b[39m\n",
      "\u001b[90m│   \u001b[39m %34  = sEV@_14\u001b[91m\u001b[1m::Core.Box\u001b[22m\u001b[39m\n",
      "\u001b[90m│   \u001b[39m %35  = Core.apply_type(Main.SparseMatrixCSC, Main.Int8, Main.Int64)\u001b[36m::Core.Const(SparseMatrixCSC{Int8, Int64})\u001b[39m\n",
      "\u001b[90m│   \u001b[39m %36  = Base.convert(%35, %33)\u001b[36m::SparseMatrixCSC{Int8, Int64}\u001b[39m\n",
      "\u001b[90m│   \u001b[39m %37  = Core.typeassert(%36, %35)\u001b[36m::SparseMatrixCSC{Int8, Int64}\u001b[39m\n",
      "\u001b[90m│   \u001b[39m        Core.setfield!(%34, :contents, %37)\n",
      "\u001b[90m│   \u001b[39m %39  = Base.getproperty(Main.Lar, :Arrangement)\u001b[91m\u001b[1m::Any\u001b[22m\u001b[39m\n",
      "\u001b[90m│   \u001b[39m %40  = Base.getproperty(%39, :submanifold_mapping)\u001b[91m\u001b[1m::Any\u001b[22m\u001b[39m\n",
      "\u001b[90m│   \u001b[39m %41  = Core.isdefined(sV@_15, :contents)\u001b[36m::Bool\u001b[39m\n",
      "\u001b[90m└───\u001b[39m        goto #3 if not %41\n",
      "\u001b[90m2 ──\u001b[39m        goto #4\n",
      "\u001b[90m3 ──\u001b[39m        Core.NewvarNode(:(sV@_20))\n",
      "\u001b[90m└───\u001b[39m        sV@_20\n",
      "\u001b[90m4 ┄─\u001b[39m %46  = Core.getfield(sV@_15, :contents)\u001b[91m\u001b[1m::Any\u001b[22m\u001b[39m\n",
      "\u001b[90m│   \u001b[39m %47  = Core.apply_type(Main.Matrix, Main.Float64)\u001b[36m::Core.Const(Matrix{Float64})\u001b[39m\n",
      "\u001b[90m│   \u001b[39m %48  = Core.typeassert(%46, %47)\u001b[36m::Matrix{Float64}\u001b[39m\n",
      "\u001b[90m│   \u001b[39m %49  = (%40)(%48)\u001b[91m\u001b[1m::Any\u001b[22m\u001b[39m\n",
      "\u001b[90m│   \u001b[39m %50  = Core.apply_type(Main.Matrix, Main.Float64)\u001b[36m::Core.Const(Matrix{Float64})\u001b[39m\n",
      "\u001b[90m│   \u001b[39m %51  = Base.convert(%50, %49)\u001b[91m\u001b[1m::Any\u001b[22m\u001b[39m\n",
      "\u001b[90m│   \u001b[39m        (M = Core.typeassert(%51, %50))\n",
      "\u001b[90m│   \u001b[39m %53  = Main.ones(vs_num)\u001b[36m::Vector{Float64}\u001b[39m\n",
      "\u001b[90m│   \u001b[39m %54  = Base.hcat(V, %53)\u001b[36m::Matrix{Float64}\u001b[39m\n",
      "\u001b[90m│   \u001b[39m %55  = (%54 * M)\u001b[36m::Matrix{Float64}\u001b[39m\n",
      "\u001b[90m│   \u001b[39m %56  = (1:3)\u001b[36m::Core.Const(1:3)\u001b[39m\n",
      "\u001b[90m│   \u001b[39m %57  = (Base.maybeview)(%55, Main.:(:), %56)\u001b[36m::Core.PartialStruct(SubArray{Float64, 2, Matrix{Float64}, Tuple{Base.Slice{Base.OneTo{Int64}}, UnitRange{Int64}}, true}, Any[Matrix{Float64}, Core.PartialStruct(Tuple{Base.Slice{Base.OneTo{Int64}}, UnitRange{Int64}}, Any[Base.Slice{Base.OneTo{Int64}}, Core.Const(1:3)]), Int64, Core.Const(1)])\u001b[39m\n",
      "\u001b[90m│   \u001b[39m %58  = Core.apply_type(Main.Matrix, Main.Float64)\u001b[36m::Core.Const(Matrix{Float64})\u001b[39m\n",
      "\u001b[90m│   \u001b[39m %59  = Base.convert(%58, %57)\u001b[36m::Matrix{Float64}\u001b[39m\n",
      "\u001b[90m│   \u001b[39m        (tV = Core.typeassert(%59, %58))\n",
      "\u001b[90m│   \u001b[39m %61  = Base.getindex(tV, sigmavs, Main.:(:))\u001b[36m::Matrix{Float64}\u001b[39m\n",
      "\u001b[90m│   \u001b[39m %62  = sV@_15\u001b[91m\u001b[1m::Core.Box\u001b[22m\u001b[39m\n",
      "\u001b[90m│   \u001b[39m %63  = Core.apply_type(Main.Matrix, Main.Float64)\u001b[36m::Core.Const(Matrix{Float64})\u001b[39m\n",
      "\u001b[90m│   \u001b[39m %64  = Base.convert(%63, %61)\u001b[36m::Matrix{Float64}\u001b[39m\n",
      "\u001b[90m│   \u001b[39m %65  = Core.typeassert(%64, %63)\u001b[36m::Matrix{Float64}\u001b[39m\n",
      "\u001b[90m│   \u001b[39m        Core.setfield!(%62, :contents, %65)\n",
      "\u001b[90m│   \u001b[39m %67  = Main.:(var\"#9#10\")\u001b[36m::Core.Const(var\"#9#10\")\u001b[39m\n",
      "\u001b[90m│   \u001b[39m %68  = Core.typeof(EV)\u001b[36m::Core.Const(SparseMatrixCSC{Int8, Int64})\u001b[39m\n",
      "\u001b[90m│   \u001b[39m %69  = Core.typeof(FE)\u001b[36m::Core.Const(SparseMatrixCSC{Int8, Int64})\u001b[39m\n",
      "\u001b[90m│   \u001b[39m %70  = Core.typeof(sp_idx)\u001b[36m::Core.Const(Vector{Int64})\u001b[39m\n",
      "\u001b[90m│   \u001b[39m %71  = Core.typeof(sigma)\u001b[36m::Core.Const(Int64)\u001b[39m\n",
      "\u001b[90m│   \u001b[39m %72  = Core.typeof(tV)\u001b[36m::Core.Const(Matrix{Float64})\u001b[39m\n",
      "\u001b[90m│   \u001b[39m %73  = Core.apply_type(%67, %68, %69, %70, %71, %72)\u001b[36m::Core.Const(var\"#9#10\"{SparseMatrixCSC{Int8, Int64}, SparseMatrixCSC{Int8, Int64}, Vector{Int64}, Int64, Matrix{Float64}})\u001b[39m\n",
      "\u001b[90m│   \u001b[39m %74  = tV\u001b[36m::Matrix{Float64}\u001b[39m\n",
      "\u001b[90m│   \u001b[39m %75  = sEV@_14\u001b[91m\u001b[1m::Core.Box\u001b[22m\u001b[39m\n",
      "\u001b[90m│   \u001b[39m        (#9 = %new(%73, EV, FE, sp_idx, sigma, %74, %75, sV@_15))\n",
      "\u001b[90m│   \u001b[39m %77  = #9\u001b[36m::var\"#9#10\"{SparseMatrixCSC{Int8, Int64}, SparseMatrixCSC{Int8, Int64}, Vector{Int64}, Int64, Matrix{Float64}}\u001b[39m\n",
      "\u001b[90m│   \u001b[39m        (task = Base.Task(%77))\n",
      "\u001b[90m└───\u001b[39m        goto #6 if not false\n",
      "\u001b[90m5 ──\u001b[39m        Core.Const(:(Base.put!(Main.:(var\"##sync#52\"), task)))\n",
      "\u001b[90m6 ┄─\u001b[39m        Base.schedule(task)\n",
      "\u001b[90m│   \u001b[39m        task\n",
      "\u001b[90m│   \u001b[39m %83  = Core.isdefined(sV@_15, :contents)\u001b[36m::Bool\u001b[39m\n",
      "\u001b[90m└───\u001b[39m        goto #8 if not %83\n",
      "\u001b[90m7 ──\u001b[39m        goto #9\n",
      "\u001b[90m8 ──\u001b[39m        Core.NewvarNode(:(sV@_21))\n",
      "\u001b[90m└───\u001b[39m        sV@_21\n",
      "\u001b[90m9 ┄─\u001b[39m %88  = Core.getfield(sV@_15, :contents)\u001b[91m\u001b[1m::Any\u001b[22m\u001b[39m\n",
      "\u001b[90m│   \u001b[39m %89  = Core.apply_type(Main.Matrix, Main.Float64)\u001b[36m::Core.Const(Matrix{Float64})\u001b[39m\n",
      "\u001b[90m│   \u001b[39m %90  = Core.typeassert(%88, %89)\u001b[36m::Matrix{Float64}\u001b[39m\n",
      "\u001b[90m│   \u001b[39m %91  = (1:2)\u001b[36m::Core.Const(1:2)\u001b[39m\n",
      "\u001b[90m│   \u001b[39m %92  = (Base.maybeview)(%90, Main.:(:), %91)\u001b[36m::Core.PartialStruct(SubArray{Float64, 2, Matrix{Float64}, Tuple{Base.Slice{Base.OneTo{Int64}}, UnitRange{Int64}}, true}, Any[Matrix{Float64}, Core.PartialStruct(Tuple{Base.Slice{Base.OneTo{Int64}}, UnitRange{Int64}}, Any[Base.Slice{Base.OneTo{Int64}}, Core.Const(1:2)]), Int64, Core.Const(1)])\u001b[39m\n",
      "\u001b[90m│   \u001b[39m %93  = sV@_15\u001b[91m\u001b[1m::Core.Box\u001b[22m\u001b[39m\n",
      "\u001b[90m│   \u001b[39m %94  = Core.apply_type(Main.Matrix, Main.Float64)\u001b[36m::Core.Const(Matrix{Float64})\u001b[39m\n",
      "\u001b[90m│   \u001b[39m %95  = Base.convert(%94, %92)\u001b[36m::Matrix{Float64}\u001b[39m\n",
      "\u001b[90m│   \u001b[39m %96  = Core.typeassert(%95, %94)\u001b[36m::Matrix{Float64}\u001b[39m\n",
      "\u001b[90m│   \u001b[39m        Core.setfield!(%93, :contents, %96)\n",
      "\u001b[90m│   \u001b[39m %98  = Base.getproperty(Main.Lar, :Arrangement)\u001b[91m\u001b[1m::Any\u001b[22m\u001b[39m\n",
      "\u001b[90m│   \u001b[39m %99  = Base.getproperty(%98, :planar_arrangement)\u001b[91m\u001b[1m::Any\u001b[22m\u001b[39m\n",
      "\u001b[90m│   \u001b[39m %100 = Core.isdefined(sV@_15, :contents)\u001b[36m::Bool\u001b[39m\n",
      "\u001b[90m└───\u001b[39m        goto #11 if not %100\n",
      "\u001b[90m10 ─\u001b[39m        goto #12\n",
      "\u001b[90m11 ─\u001b[39m        Core.NewvarNode(:(sV@_22))\n",
      "\u001b[90m└───\u001b[39m        sV@_22\n",
      "\u001b[90m12 ┄\u001b[39m %105 = Core.getfield(sV@_15, :contents)\u001b[91m\u001b[1m::Any\u001b[22m\u001b[39m\n",
      "\u001b[90m│   \u001b[39m %106 = Core.apply_type(Main.Matrix, Main.Float64)\u001b[36m::Core.Const(Matrix{Float64})\u001b[39m\n",
      "\u001b[90m│   \u001b[39m %107 = Core.typeassert(%105, %106)\u001b[36m::Matrix{Float64}\u001b[39m\n",
      "\u001b[90m│   \u001b[39m %108 = Core.isdefined(sEV@_14, :contents)\u001b[36m::Bool\u001b[39m\n",
      "\u001b[90m└───\u001b[39m        goto #14 if not %108\n",
      "\u001b[90m13 ─\u001b[39m        goto #15\n",
      "\u001b[90m14 ─\u001b[39m        Core.NewvarNode(:(sEV@_23))\n",
      "\u001b[90m└───\u001b[39m        "
     ]
    },
    {
     "name": "stdout",
     "output_type": "stream",
     "text": [
      "sEV@_23\n",
      "\u001b[90m15 ┄\u001b[39m %113 = Core.getfield(sEV@_14, :contents)\u001b[91m\u001b[1m::Any\u001b[22m\u001b[39m\n",
      "\u001b[90m│   \u001b[39m %114 = Core.apply_type(Main.SparseMatrixCSC, Main.Int8, Main.Int64)\u001b[36m::Core.Const(SparseMatrixCSC{Int8, Int64})\u001b[39m\n",
      "\u001b[90m│   \u001b[39m %115 = Core.typeassert(%113, %114)\u001b[36m::SparseMatrixCSC{Int8, Int64}\u001b[39m\n",
      "\u001b[90m│   \u001b[39m %116 = Main.length(sigmavs)\u001b[36m::Int64\u001b[39m\n",
      "\u001b[90m│   \u001b[39m %117 = Main.ones(Main.Int8, %116)\u001b[36m::Vector{Int8}\u001b[39m\n",
      "\u001b[90m│   \u001b[39m %118 = Main.sparsevec(%117)\u001b[36m::SparseVector{Int8, Int64}\u001b[39m\n",
      "\u001b[90m│   \u001b[39m %119 = (%99)(%107, %115, %118)\u001b[91m\u001b[1m::Any\u001b[22m\u001b[39m\n",
      "\u001b[90m│   \u001b[39m %120 = Base.indexed_iterate(%119, 1)\u001b[91m\u001b[1m::Any\u001b[22m\u001b[39m\n",
      "\u001b[90m│   \u001b[39m %121 = Core.getfield(%120, 1)\u001b[91m\u001b[1m::Any\u001b[22m\u001b[39m\n",
      "\u001b[90m│   \u001b[39m        (@_7 = Core.getfield(%120, 2))\n",
      "\u001b[90m│   \u001b[39m %123 = Base.indexed_iterate(%119, 2, @_7)\u001b[91m\u001b[1m::Any\u001b[22m\u001b[39m\n",
      "\u001b[90m│   \u001b[39m %124 = Core.getfield(%123, 1)\u001b[91m\u001b[1m::Any\u001b[22m\u001b[39m\n",
      "\u001b[90m│   \u001b[39m        (@_7 = Core.getfield(%123, 2))\n",
      "\u001b[90m│   \u001b[39m %126 = Base.indexed_iterate(%119, 3, @_7)\u001b[91m\u001b[1m::Any\u001b[22m\u001b[39m\n",
      "\u001b[90m│   \u001b[39m %127 = Core.getfield(%126, 1)\u001b[91m\u001b[1m::Any\u001b[22m\u001b[39m\n",
      "\u001b[90m│   \u001b[39m %128 = Core.apply_type(Main.Matrix, Main.Float64)\u001b[36m::Core.Const(Matrix{Float64})\u001b[39m\n",
      "\u001b[90m│   \u001b[39m %129 = Base.convert(%128, %121)\u001b[91m\u001b[1m::Any\u001b[22m\u001b[39m\n",
      "\u001b[90m│   \u001b[39m        (nV = Core.typeassert(%129, %128))\n",
      "\u001b[90m│   \u001b[39m %131 = Core.apply_type(Main.SparseMatrixCSC, Main.Int8, Main.Int64)\u001b[36m::Core.Const(SparseMatrixCSC{Int8, Int64})\u001b[39m\n",
      "\u001b[90m│   \u001b[39m %132 = Base.convert(%131, %124)\u001b[91m\u001b[1m::Any\u001b[22m\u001b[39m\n",
      "\u001b[90m│   \u001b[39m        (nEV = Core.typeassert(%132, %131))\n",
      "\u001b[90m│   \u001b[39m %134 = Core.apply_type(Main.SparseMatrixCSC, Main.Int8, Main.Int64)\u001b[36m::Core.Const(SparseMatrixCSC{Int8, Int64})\u001b[39m\n",
      "\u001b[90m│   \u001b[39m %135 = Base.convert(%134, %127)\u001b[91m\u001b[1m::Any\u001b[22m\u001b[39m\n",
      "\u001b[90m│   \u001b[39m        (nFE = Core.typeassert(%135, %134))\n",
      "\u001b[90m│   \u001b[39m %137 = Main.size(nV, 1)\u001b[36m::Int64\u001b[39m\n",
      "\u001b[90m│   \u001b[39m %138 = Base.convert(Main.Int64, %137)\u001b[36m::Int64\u001b[39m\n",
      "\u001b[90m│   \u001b[39m        (nvsize = Core.typeassert(%138, Main.Int64))\n",
      "\u001b[90m│   \u001b[39m %140 = nV\u001b[36m::Matrix{Float64}\u001b[39m\n",
      "\u001b[90m│   \u001b[39m %141 = Main.zeros(nvsize)\u001b[36m::Vector{Float64}\u001b[39m\n",
      "\u001b[90m│   \u001b[39m %142 = Main.ones(nvsize)\u001b[36m::Vector{Float64}\u001b[39m\n",
      "\u001b[90m│   \u001b[39m %143 = Base.hcat(%140, %141, %142)\u001b[36m::Matrix{Float64}\u001b[39m\n",
      "\u001b[90m│   \u001b[39m %144 = Main.inv(M)\u001b[36m::Matrix{Float64}\u001b[39m\n",
      "\u001b[90m│   \u001b[39m %145 = (1:3)\u001b[36m::Core.Const(1:3)\u001b[39m\n",
      "\u001b[90m│   \u001b[39m %146 = (Base.maybeview)(%144, Main.:(:), %145)\u001b[36m::Core.PartialStruct(SubArray{Float64, 2, Matrix{Float64}, Tuple{Base.Slice{Base.OneTo{Int64}}, UnitRange{Int64}}, true}, Any[Matrix{Float64}, Core.PartialStruct(Tuple{Base.Slice{Base.OneTo{Int64}}, UnitRange{Int64}}, Any[Base.Slice{Base.OneTo{Int64}}, Core.Const(1:3)]), Int64, Core.Const(1)])\u001b[39m\n",
      "\u001b[90m│   \u001b[39m %147 = (%143 * %146)\u001b[36m::Matrix{Float64}\u001b[39m\n",
      "\u001b[90m│   \u001b[39m %148 = Core.apply_type(Main.Matrix, Main.Float64)\u001b[36m::Core.Const(Matrix{Float64})\u001b[39m\n",
      "\u001b[90m│   \u001b[39m %149 = Base.convert(%148, %147)\u001b[36m::Matrix{Float64}\u001b[39m\n",
      "\u001b[90m│   \u001b[39m        (nV = Core.typeassert(%149, %148))\n",
      "\u001b[90m│   \u001b[39m %151 = Core.tuple(nV, nEV, nFE)\u001b[36m::Tuple{Matrix{Float64}, SparseMatrixCSC{Int8, Int64}, SparseMatrixCSC{Int8, Int64}}\u001b[39m\n",
      "\u001b[90m└───\u001b[39m        return %151\n",
      "\n"
     ]
    }
   ],
   "source": [
    "@code_warntype frag_face2(Lar.Points(V),EV,FE,[2,3,4,5],2)"
   ]
  },
  {
   "cell_type": "code",
   "execution_count": 14,
   "metadata": {},
   "outputs": [],
   "source": [
    "Profile.clear()\n",
    "Profile.init(delay=.000000001)\n",
    "@profile for _ in 1:200\n",
    "    frag_face2(Lar.Points(V),EV,FE,[2,3,4,5],2)\n",
    "end"
   ]
  },
  {
   "cell_type": "code",
   "execution_count": 15,
   "metadata": {},
   "outputs": [
    {
     "data": {
      "text/plain": [
       "Gtk.GtkWindowLeaf(name=\"\", parent, width-request=-1, height-request=-1, visible=TRUE, sensitive=TRUE, app-paintable=FALSE, can-focus=FALSE, has-focus=FALSE, is-focus=FALSE, focus-on-click=TRUE, can-default=FALSE, has-default=FALSE, receives-default=FALSE, composite-child=FALSE, style, events=0, no-show-all=FALSE, has-tooltip=FALSE, tooltip-markup=NULL, tooltip-text=NULL, window, opacity=1,000000, double-buffered, halign=GTK_ALIGN_FILL, valign=GTK_ALIGN_FILL, margin-left, margin-right, margin-start=0, margin-end=0, margin-top=0, margin-bottom=0, margin=0, hexpand=FALSE, vexpand=FALSE, hexpand-set=FALSE, vexpand-set=FALSE, expand=FALSE, scale-factor=1, border-width=0, resize-mode, child, type=GTK_WINDOW_TOPLEVEL, title=\"Profile\", role=NULL, resizable=TRUE, modal=FALSE, window-position=GTK_WIN_POS_NONE, default-width=800, default-height=600, destroy-with-parent=FALSE, hide-titlebar-when-maximized=FALSE, icon, icon-name=NULL, screen, type-hint=GDK_WINDOW_TYPE_HINT_NORMAL, skip-taskbar-hint=FALSE, skip-pager-hint=FALSE, urgency-hint=FALSE, accept-focus=TRUE, focus-on-map=TRUE, decorated=TRUE, deletable=TRUE, gravity=GDK_GRAVITY_NORTH_WEST, transient-for, attached-to, has-resize-grip, resize-grip-visible, application, is-active=TRUE, has-toplevel-focus=TRUE, startup-id, mnemonics-visible=FALSE, focus-visible=FALSE, is-maximized=FALSE)"
      ]
     },
     "metadata": {},
     "output_type": "display_data"
    }
   ],
   "source": [
    "ProfileView.view()"
   ]
  },
  {
   "cell_type": "code",
   "execution_count": 16,
   "metadata": {},
   "outputs": [
    {
     "name": "stdout",
     "output_type": "stream",
     "text": [
      "Uguali"
     ]
    }
   ],
   "source": [
    "if(frag_face(Lar.Points(V),EV,FE,[2,3,4,5],2) == frag_face2(Lar.Points(V),EV,FE,[2,3,4,5],2))\n",
    "    print(\"Uguali\")\n",
    "else\n",
    "    print(\"Diversi\")\n",
    "end"
   ]
  },
  {
   "cell_type": "code",
   "execution_count": 17,
   "metadata": {},
   "outputs": [
    {
     "data": {
      "text/plain": [
       "BenchmarkTools.Trial: 8564 samples with 1 evaluation.\n",
       " Range \u001b[90m(\u001b[39m\u001b[36m\u001b[1mmin\u001b[22m\u001b[39m … \u001b[35mmax\u001b[39m\u001b[90m):  \u001b[39m\u001b[36m\u001b[1m364.500 μs\u001b[22m\u001b[39m … \u001b[35m28.761 ms\u001b[39m  \u001b[90m┊\u001b[39m GC \u001b[90m(\u001b[39mmin … max\u001b[90m): \u001b[39m 0.00% … 93.91%\n",
       " Time  \u001b[90m(\u001b[39m\u001b[34m\u001b[1mmedian\u001b[22m\u001b[39m\u001b[90m):     \u001b[39m\u001b[34m\u001b[1m427.700 μs              \u001b[22m\u001b[39m\u001b[90m┊\u001b[39m GC \u001b[90m(\u001b[39mmedian\u001b[90m):    \u001b[39m 0.00%\n",
       " Time  \u001b[90m(\u001b[39m\u001b[32m\u001b[1mmean\u001b[22m\u001b[39m ± \u001b[32mσ\u001b[39m\u001b[90m):   \u001b[39m\u001b[32m\u001b[1m580.318 μs\u001b[22m\u001b[39m ± \u001b[32m 1.258 ms\u001b[39m  \u001b[90m┊\u001b[39m GC \u001b[90m(\u001b[39mmean ± σ\u001b[90m):  \u001b[39m15.37% ±  7.25%\n",
       "\n",
       "  \u001b[39m▁\u001b[39m▆\u001b[39m█\u001b[39m█\u001b[39m▇\u001b[39m▆\u001b[34m▅\u001b[39m\u001b[39m▅\u001b[39m▅\u001b[39m▄\u001b[39m▄\u001b[39m▄\u001b[39m▄\u001b[39m▄\u001b[39m▃\u001b[39m▃\u001b[39m▃\u001b[39m▃\u001b[39m▃\u001b[39m▂\u001b[39m▂\u001b[32m▂\u001b[39m\u001b[39m▁\u001b[39m▁\u001b[39m▁\u001b[39m▁\u001b[39m▁\u001b[39m▂\u001b[39m▂\u001b[39m▁\u001b[39m▁\u001b[39m▂\u001b[39m▂\u001b[39m▂\u001b[39m▂\u001b[39m▂\u001b[39m▂\u001b[39m▁\u001b[39m▁\u001b[39m▁\u001b[39m▁\u001b[39m▂\u001b[39m▁\u001b[39m \u001b[39m \u001b[39m \u001b[39m \u001b[39m \u001b[39m \u001b[39m \u001b[39m \u001b[39m \u001b[39m \u001b[39m \u001b[39m \u001b[39m \u001b[39m \u001b[39m \u001b[39m \u001b[39m \u001b[39m \u001b[39m▂\n",
       "  \u001b[39m█\u001b[39m█\u001b[39m█\u001b[39m█\u001b[39m█\u001b[39m█\u001b[34m█\u001b[39m\u001b[39m█\u001b[39m█\u001b[39m█\u001b[39m█\u001b[39m█\u001b[39m█\u001b[39m█\u001b[39m█\u001b[39m█\u001b[39m█\u001b[39m█\u001b[39m█\u001b[39m█\u001b[39m█\u001b[32m█\u001b[39m\u001b[39m█\u001b[39m█\u001b[39m█\u001b[39m█\u001b[39m█\u001b[39m█\u001b[39m█\u001b[39m█\u001b[39m█\u001b[39m█\u001b[39m█\u001b[39m█\u001b[39m█\u001b[39m█\u001b[39m█\u001b[39m█\u001b[39m█\u001b[39m█\u001b[39m█\u001b[39m█\u001b[39m█\u001b[39m█\u001b[39m█\u001b[39m█\u001b[39m█\u001b[39m█\u001b[39m▇\u001b[39m▇\u001b[39m█\u001b[39m▇\u001b[39m▇\u001b[39m▆\u001b[39m▅\u001b[39m▆\u001b[39m▄\u001b[39m▅\u001b[39m▅\u001b[39m▄\u001b[39m \u001b[39m█\n",
       "  364 μs\u001b[90m        \u001b[39m\u001b[90mHistogram: \u001b[39m\u001b[90m\u001b[1mlog(\u001b[22m\u001b[39m\u001b[90mfrequency\u001b[39m\u001b[90m\u001b[1m)\u001b[22m\u001b[39m\u001b[90m by time\u001b[39m       993 μs \u001b[0m\u001b[1m<\u001b[22m\n",
       "\n",
       " Memory estimate\u001b[90m: \u001b[39m\u001b[33m265.71 KiB\u001b[39m, allocs estimate\u001b[90m: \u001b[39m\u001b[33m4874\u001b[39m."
      ]
     },
     "metadata": {},
     "output_type": "display_data"
    }
   ],
   "source": [
    "@benchmark frag_face(Lar.Points(V),EV,FE,[2,3,4,5],2)"
   ]
  },
  {
   "cell_type": "code",
   "execution_count": 18,
   "metadata": {},
   "outputs": [
    {
     "data": {
      "text/plain": [
       "BenchmarkTools.Trial: 9673 samples with 1 evaluation.\n",
       " Range \u001b[90m(\u001b[39m\u001b[36m\u001b[1mmin\u001b[22m\u001b[39m … \u001b[35mmax\u001b[39m\u001b[90m):  \u001b[39m\u001b[36m\u001b[1m282.100 μs\u001b[22m\u001b[39m … \u001b[35m35.334 ms\u001b[39m  \u001b[90m┊\u001b[39m GC \u001b[90m(\u001b[39mmin … max\u001b[90m): \u001b[39m 0.00% … 97.93%\n",
       " Time  \u001b[90m(\u001b[39m\u001b[34m\u001b[1mmedian\u001b[22m\u001b[39m\u001b[90m):     \u001b[39m\u001b[34m\u001b[1m354.600 μs              \u001b[22m\u001b[39m\u001b[90m┊\u001b[39m GC \u001b[90m(\u001b[39mmedian\u001b[90m):    \u001b[39m 0.00%\n",
       " Time  \u001b[90m(\u001b[39m\u001b[32m\u001b[1mmean\u001b[22m\u001b[39m ± \u001b[32mσ\u001b[39m\u001b[90m):   \u001b[39m\u001b[32m\u001b[1m512.921 μs\u001b[22m\u001b[39m ± \u001b[32m 1.559 ms\u001b[39m  \u001b[90m┊\u001b[39m GC \u001b[90m(\u001b[39mmean ± σ\u001b[90m):  \u001b[39m20.08% ±  6.64%\n",
       "\n",
       "  \u001b[39m \u001b[39m \u001b[39m█\u001b[39m█\u001b[39m▂\u001b[39m \u001b[39m \u001b[39m \u001b[34m \u001b[39m\u001b[39m \u001b[39m \u001b[39m \u001b[39m \u001b[39m \u001b[39m \u001b[39m \u001b[39m \u001b[39m \u001b[39m \u001b[39m \u001b[39m \u001b[39m \u001b[39m \u001b[39m \u001b[32m \u001b[39m\u001b[39m \u001b[39m \u001b[39m \u001b[39m \u001b[39m \u001b[39m \u001b[39m \u001b[39m \u001b[39m \u001b[39m \u001b[39m \u001b[39m \u001b[39m \u001b[39m \u001b[39m \u001b[39m \u001b[39m \u001b[39m \u001b[39m \u001b[39m \u001b[39m \u001b[39m \u001b[39m \u001b[39m \u001b[39m \u001b[39m \u001b[39m \u001b[39m \u001b[39m \u001b[39m \u001b[39m \u001b[39m \u001b[39m \u001b[39m \u001b[39m \u001b[39m \u001b[39m \n",
       "  \u001b[39m▁\u001b[39m▃\u001b[39m█\u001b[39m█\u001b[39m█\u001b[39m▇\u001b[39m▅\u001b[39m▄\u001b[34m▄\u001b[39m\u001b[39m▅\u001b[39m▅\u001b[39m▅\u001b[39m▄\u001b[39m▃\u001b[39m▃\u001b[39m▃\u001b[39m▃\u001b[39m▂\u001b[39m▂\u001b[39m▂\u001b[39m▂\u001b[39m▂\u001b[39m▂\u001b[39m▂\u001b[32m▂\u001b[39m\u001b[39m▂\u001b[39m▁\u001b[39m▁\u001b[39m▁\u001b[39m▁\u001b[39m▂\u001b[39m▂\u001b[39m▂\u001b[39m▂\u001b[39m▂\u001b[39m▂\u001b[39m▂\u001b[39m▂\u001b[39m▂\u001b[39m▂\u001b[39m▂\u001b[39m▂\u001b[39m▂\u001b[39m▂\u001b[39m▂\u001b[39m▁\u001b[39m▂\u001b[39m▁\u001b[39m▁\u001b[39m▁\u001b[39m▁\u001b[39m▁\u001b[39m▁\u001b[39m▁\u001b[39m▁\u001b[39m▁\u001b[39m▁\u001b[39m▁\u001b[39m▁\u001b[39m▁\u001b[39m \u001b[39m▂\n",
       "  282 μs\u001b[90m          Histogram: frequency by time\u001b[39m          850 μs \u001b[0m\u001b[1m<\u001b[22m\n",
       "\n",
       " Memory estimate\u001b[90m: \u001b[39m\u001b[33m218.65 KiB\u001b[39m, allocs estimate\u001b[90m: \u001b[39m\u001b[33m3873\u001b[39m."
      ]
     },
     "metadata": {},
     "output_type": "display_data"
    }
   ],
   "source": [
    "@benchmark frag_face2(Lar.Points(V),EV,FE,[2,3,4,5],2)"
   ]
  },
  {
   "cell_type": "code",
   "execution_count": 19,
   "metadata": {},
   "outputs": [],
   "source": []
  }
 ],
 "metadata": {
  "kernelspec": {
   "display_name": "Julia 1.7.2",
   "language": "julia",
   "name": "julia-1.7"
  },
  "language_info": {
   "file_extension": ".jl",
   "mimetype": "application/julia",
   "name": "julia",
   "version": "1.7.2"
  }
 },
 "nbformat": 4,
 "nbformat_minor": 2
}
