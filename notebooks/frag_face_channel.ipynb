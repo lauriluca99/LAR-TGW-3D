{
 "cells": [
  {
   "cell_type": "markdown",
   "metadata": {},
   "source": [
    "### Progetto 8b\n",
    "Luca Maria Lauricella\n",
    "\n",
    "Valerio Marini\n",
    "\n",
    "Repository del progetto:\n",
    "https://github.com/lauriluca99/TGW-3D.jl\n",
    "\n",
    "Documentazione del progetto:\n",
    "https://lauriluca99.github.io/TGW-3D.jl"
   ]
  },
  {
   "cell_type": "code",
   "execution_count": null,
   "metadata": {},
   "outputs": [],
   "source": [
    "using BenchmarkTools\n",
    "using SparseArrays\n",
    "using Distributed\n",
    "using LinearAlgebraicRepresentation\n",
    "Lar = LinearAlgebraicRepresentation"
   ]
  },
  {
   "cell_type": "markdown",
   "metadata": {},
   "source": [
    "    function frag_face_channel(\n",
    "            in_chan, \n",
    "            out_chan, \n",
    "            V::Points, \n",
    "            EV::ChainOp, \n",
    "            FE::ChainOp, \n",
    "            sp_idx::Vector{Int64})\n",
    "\t\t\t\n",
    "Funziona che parallelizza, con l'utilizzo dei canali, la frammentazione delle facce in `FE` rispetto le facce in `sp_idx`.\n"
   ]
  },
  {
   "cell_type": "code",
   "execution_count": null,
   "metadata": {},
   "outputs": [],
   "source": [
    "function frag_face_channel(in_chan, out_chan, V, EV, FE, sp_idx)\n",
    "    run_loop = true\n",
    "    while run_loop \n",
    "        \n",
    "        sigma = take!(in_chan)\n",
    "        \n",
    "        if sigma != -1\n",
    "            put!(out_chan,Lar.Arrangement.frag_face(V, EV, FE, sp_idx, sigma))\n",
    "        else\n",
    "            run_loop = false\n",
    "        end\n",
    "    end\n",
    "    return V,EV\n",
    "end"
   ]
  },
  {
   "cell_type": "code",
   "execution_count": null,
   "metadata": {},
   "outputs": [],
   "source": [
    "V = Float64[\n",
    "    0 0 0; 0 1 0;\n",
    "    1 1 0; 1 0 0;\n",
    "    0 0 1; 0 1 1;\n",
    "    1 1 1; 1 0 1\n",
    "]\n"
   ]
  },
  {
   "cell_type": "code",
   "execution_count": null,
   "metadata": {},
   "outputs": [],
   "source": [
    "EV = sparse(Int8[\n",
    "    -1  1  0  0  0  0  0  0;\n",
    "    0 -1  1  0  0  0  0  0;\n",
    "    0  0 -1  1  0  0  0  0;\n",
    "    -1  0  0  1  0  0  0  0;\n",
    "    -1  0  0  0  1  0  0  0;\n",
    "    0 -1  0  0  0  1  0  0;\n",
    "    0  0 -1  0  0  0  1  0;\n",
    "    0  0  0 -1  0  0  0  1;\n",
    "    0  0  0  0 -1  1  0  0;\n",
    "    0  0  0  0  0 -1  1  0;\n",
    "    0  0  0  0  0  0 -1  1;\n",
    "    0  0  0  0 -1  0  0  1;\n",
    "])\n"
   ]
  },
  {
   "cell_type": "code",
   "execution_count": null,
   "metadata": {},
   "outputs": [],
   "source": [
    "FE = sparse(Int8[\n",
    "    1  1  1 -1  0  0  0  0  0  0  0  0;\n",
    "    0  0  0  0  0  0  0  0 -1 -1 -1  1;\n",
    "    -1  0  0  0  1 -1  0  0  1  0  0  0;\n",
    "    0 -1  0  0  0  1 -1  0  0  1  0  0;\n",
    "    0  0 -1  0  0  0  1 -1  0  0  1  0;\n",
    "    0  0  0  1 -1  0  0  1  0  0  0 -1;\n",
    "])"
   ]
  },
  {
   "cell_type": "code",
   "execution_count": null,
   "metadata": {},
   "outputs": [],
   "source": [
    "fs_num = size(FE, 1)\n",
    "    \n",
    "FV = Lar.compute_FV( EV, FE )\n",
    "model = (convert(Lar.Points,V'), FV)\n",
    "sp_idx = Lar.spaceindex(model)\n",
    "\n",
    "in_chan = Distributed.RemoteChannel(()->Channel{Int64}(fs_num*2))\n",
    "out_chan = Distributed.RemoteChannel(()->Channel{Tuple}(10))\n",
    "\n",
    "\n",
    "@async begin\n",
    "    for sigma2 in 1:fs_num\n",
    "        put!(in_chan, sigma2)\n",
    "    end\n",
    "    for p in Distributed.workers()\n",
    "        put!(in_chan, -1)\n",
    "    end\n",
    "    for p in Distributed.workers()\n",
    "        @async Distributed.remote_do(\n",
    "        frag_face_channel, p, in_chan, out_chan, V, EV, FE, sp_idx)\n",
    "    end\n",
    "end\n",
    "\n",
    "#@time frag_face_channel(in_chan, out_chan, V, EV, FE, sp_idx)\n",
    "#@btime frag_face_channel(in_chan, out_chan, V, EV, FE, sp_idx)"
   ]
  },
  {
   "cell_type": "code",
   "execution_count": null,
   "metadata": {},
   "outputs": [],
   "source": [
    "function inizia()\n",
    "    fs_num = size(FE, 1)\n",
    "    \n",
    "    FV = Lar.compute_FV( EV, FE )\n",
    "    model = (convert(Lar.Points,V'), FV)\n",
    "    sp_idx = Lar.spaceindex(model)\n",
    "\n",
    "    in_chan = Distributed.RemoteChannel(()->Channel{Int64}(fs_num*2))\n",
    "    out_chan = Distributed.RemoteChannel(()->Channel{Tuple}(10))\n",
    "\n",
    "    @async begin\n",
    "        for sigma2 in 1:fs_num\n",
    "            put!(in_chan, sigma2)\n",
    "        end\n",
    "        for p in Distributed.workers()\n",
    "            put!(in_chan, -1)\n",
    "        end\n",
    "        @sync for p in Distributed.workers() \n",
    "            #modificato Base.remote_do in Distributed.remote_do altrimenti non chiamava la funzione\n",
    "            @async Distributed.remote_do(\n",
    "            frag_face_channel, p, in_chan, out_chan, V, EV, FE, sp_idx)\n",
    "        end\n",
    "    end\n",
    "end"
   ]
  }
 ],
 "metadata": {
  "kernelspec": {
   "display_name": "Julia 1.7.2",
   "language": "julia",
   "name": "julia-1.7"
  },
  "language_info": {
   "file_extension": ".jl",
   "mimetype": "application/julia",
   "name": "julia",
   "version": "1.7.2"
  }
 },
 "nbformat": 4,
 "nbformat_minor": 2
}
