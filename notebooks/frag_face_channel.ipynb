{
 "cells": [
  {
   "cell_type": "code",
   "execution_count": null,
   "metadata": {},
   "outputs": [
    {
     "ename": "",
     "evalue": "",
     "output_type": "error",
     "traceback": [
      "\u001b[1;31mFailed to start the Kernel. \n",
      "Unable to start Kernel 'Julia 1.7.2' due to connection timeout. \n",
      "View Jupyter <a href='command:jupyter.viewOutput'>log</a> for further details."
     ]
    }
   ],
   "source": [
    "using BenchmarkTools\n",
    "using SparseArrays\n",
    "using Distributed\n",
    "using LinearAlgebraicRepresentation\n",
    "Lar = LinearAlgebraicRepresentation"
   ]
  },
  {
   "cell_type": "markdown",
   "metadata": {},
   "source": [
    "\tfrag_face_channel(in_chan, out_chan, V, EV, FE, sp_idx)\n",
    "\n",
    "Parallel fragmentation of faces in `FE` against faces in `sp_idx`.\n"
   ]
  },
  {
   "cell_type": "code",
   "execution_count": null,
   "metadata": {},
   "outputs": [
    {
     "ename": "",
     "evalue": "",
     "output_type": "error",
     "traceback": [
      "\u001b[1;31mFailed to start the Kernel. \n",
      "Unable to start Kernel 'Julia 1.7.2' due to connection timeout. \n",
      "View Jupyter <a href='command:jupyter.viewOutput'>log</a> for further details."
     ]
    }
   ],
   "source": [
    "function frag_face_channel(in_chan, out_chan, V, EV, FE, sp_idx)\n",
    "    run_loop = true\n",
    "    while run_loop \n",
    "        \n",
    "        sigma = take!(in_chan)\n",
    "        \n",
    "        if sigma != -1\n",
    "            put!(out_chan,Lar.Arrangement.frag_face(V, EV, FE, sp_idx, sigma))\n",
    "        else\n",
    "            run_loop = false\n",
    "        end\n",
    "    end\n",
    "    return V,EV\n",
    "end"
   ]
  },
  {
   "cell_type": "code",
   "execution_count": null,
   "metadata": {},
   "outputs": [
    {
     "ename": "",
     "evalue": "",
     "output_type": "error",
     "traceback": [
      "\u001b[1;31mFailed to start the Kernel. \n",
      "Unable to start Kernel 'Julia 1.7.2' due to connection timeout. \n",
      "View Jupyter <a href='command:jupyter.viewOutput'>log</a> for further details."
     ]
    }
   ],
   "source": [
    "V = Float64[\n",
    "    0 0 0; 0 1 0;\n",
    "    1 1 0; 1 0 0;\n",
    "    0 0 1; 0 1 1;\n",
    "    1 1 1; 1 0 1\n",
    "]\n"
   ]
  },
  {
   "cell_type": "code",
   "execution_count": null,
   "metadata": {},
   "outputs": [
    {
     "ename": "",
     "evalue": "",
     "output_type": "error",
     "traceback": [
      "\u001b[1;31mFailed to start the Kernel. \n",
      "Unable to start Kernel 'Julia 1.7.2' due to connection timeout. \n",
      "View Jupyter <a href='command:jupyter.viewOutput'>log</a> for further details."
     ]
    }
   ],
   "source": [
    "EV = sparse(Int8[\n",
    "    -1  1  0  0  0  0  0  0;\n",
    "    0 -1  1  0  0  0  0  0;\n",
    "    0  0 -1  1  0  0  0  0;\n",
    "    -1  0  0  1  0  0  0  0;\n",
    "    -1  0  0  0  1  0  0  0;\n",
    "    0 -1  0  0  0  1  0  0;\n",
    "    0  0 -1  0  0  0  1  0;\n",
    "    0  0  0 -1  0  0  0  1;\n",
    "    0  0  0  0 -1  1  0  0;\n",
    "    0  0  0  0  0 -1  1  0;\n",
    "    0  0  0  0  0  0 -1  1;\n",
    "    0  0  0  0 -1  0  0  1;\n",
    "])\n"
   ]
  },
  {
   "cell_type": "code",
   "execution_count": null,
   "metadata": {},
   "outputs": [
    {
     "ename": "",
     "evalue": "",
     "output_type": "error",
     "traceback": [
      "\u001b[1;31mFailed to start the Kernel. \n",
      "Unable to start Kernel 'Julia 1.7.2' due to connection timeout. \n",
      "View Jupyter <a href='command:jupyter.viewOutput'>log</a> for further details."
     ]
    }
   ],
   "source": [
    "FE = sparse(Int8[\n",
    "    1  1  1 -1  0  0  0  0  0  0  0  0;\n",
    "    0  0  0  0  0  0  0  0 -1 -1 -1  1;\n",
    "    -1  0  0  0  1 -1  0  0  1  0  0  0;\n",
    "    0 -1  0  0  0  1 -1  0  0  1  0  0;\n",
    "    0  0 -1  0  0  0  1 -1  0  0  1  0;\n",
    "    0  0  0  1 -1  0  0  1  0  0  0 -1;\n",
    "])"
   ]
  },
  {
   "cell_type": "code",
   "execution_count": null,
   "metadata": {},
   "outputs": [
    {
     "ename": "",
     "evalue": "",
     "output_type": "error",
     "traceback": [
      "\u001b[1;31mFailed to start the Kernel. \n",
      "Unable to start Kernel 'Julia 1.7.2' due to connection timeout. \n",
      "View Jupyter <a href='command:jupyter.viewOutput'>log</a> for further details."
     ]
    }
   ],
   "source": [
    "fs_num = size(FE, 1)\n",
    "    \n",
    "FV = Lar.compute_FV( EV, FE )\n",
    "model = (convert(Lar.Points,V'), FV)\n",
    "sp_idx = Lar.spaceindex(model)\n",
    "\n",
    "in_chan = Distributed.RemoteChannel(()->Channel{Int64}(fs_num*2))\n",
    "out_chan = Distributed.RemoteChannel(()->Channel{Tuple}(10))\n",
    "\n",
    "\n",
    "@async begin\n",
    "    for sigma2 in 1:fs_num\n",
    "        put!(in_chan, sigma2)\n",
    "    end\n",
    "    for p in Distributed.workers()\n",
    "        put!(in_chan, -1)\n",
    "    end\n",
    "    for p in Distributed.workers()\n",
    "        @async Distributed.remote_do(\n",
    "        frag_face_channel, p, in_chan, out_chan, V, EV, FE, sp_idx)\n",
    "    end\n",
    "end\n",
    "\n",
    "#@time frag_face_channel(in_chan, out_chan, V, EV, FE, sp_idx)\n",
    "#@btime frag_face_channel(in_chan, out_chan, V, EV, FE, sp_idx)"
   ]
  },
  {
   "cell_type": "code",
   "execution_count": null,
   "metadata": {},
   "outputs": [
    {
     "ename": "",
     "evalue": "",
     "output_type": "error",
     "traceback": [
      "\u001b[1;31mFailed to start the Kernel. \n",
      "Unable to start Kernel 'Julia 1.7.2' due to connection timeout. \n",
      "View Jupyter <a href='command:jupyter.viewOutput'>log</a> for further details."
     ]
    }
   ],
   "source": [
    "function inizia()\n",
    "    fs_num = size(FE, 1)\n",
    "    \n",
    "    FV = Lar.compute_FV( EV, FE )\n",
    "    model = (convert(Lar.Points,V'), FV)\n",
    "    sp_idx = Lar.spaceindex(model)\n",
    "\n",
    "    in_chan = Distributed.RemoteChannel(()->Channel{Int64}(fs_num*2))\n",
    "    out_chan = Distributed.RemoteChannel(()->Channel{Tuple}(10))\n",
    "\n",
    "    @async begin\n",
    "        for sigma2 in 1:fs_num\n",
    "            put!(in_chan, sigma2)\n",
    "        end\n",
    "        for p in Distributed.workers()\n",
    "            put!(in_chan, -1)\n",
    "        end\n",
    "        @sync for p in Distributed.workers() \n",
    "            #modificato Base.remote_do in Distributed.remote_do altrimenti non chiamava la funzione\n",
    "            @async Distributed.remote_do(\n",
    "            frag_face_channel, p, in_chan, out_chan, V, EV, FE, sp_idx)\n",
    "        end\n",
    "    end\n",
    "end"
   ]
  },
  {
   "cell_type": "code",
   "execution_count": null,
   "metadata": {},
   "outputs": [
    {
     "ename": "",
     "evalue": "",
     "output_type": "error",
     "traceback": [
      "\u001b[1;31mFailed to start the Kernel. \n",
      "Unable to start Kernel 'Julia 1.7.2' due to connection timeout. \n",
      "View Jupyter <a href='command:jupyter.viewOutput'>log</a> for further details."
     ]
    }
   ],
   "source": [
    "out_chan"
   ]
  },
  {
   "cell_type": "code",
   "execution_count": null,
   "metadata": {},
   "outputs": [
    {
     "ename": "",
     "evalue": "",
     "output_type": "error",
     "traceback": [
      "\u001b[1;31mFailed to start the Kernel. \n",
      "Unable to start Kernel 'Julia 1.7.2' due to connection timeout. \n",
      "View Jupyter <a href='command:jupyter.viewOutput'>log</a> for further details."
     ]
    }
   ],
   "source": []
  },
  {
   "cell_type": "code",
   "execution_count": null,
   "metadata": {},
   "outputs": [
    {
     "ename": "",
     "evalue": "",
     "output_type": "error",
     "traceback": [
      "\u001b[1;31mFailed to start the Kernel. \n",
      "Unable to start Kernel 'Julia 1.7.2' due to connection timeout. \n",
      "View Jupyter <a href='command:jupyter.viewOutput'>log</a> for further details."
     ]
    }
   ],
   "source": []
  }
 ],
 "metadata": {
  "kernelspec": {
   "display_name": "Julia 1.7.2",
   "language": "julia",
   "name": "julia-1.7"
  },
  "language_info": {
   "file_extension": ".jl",
   "mimetype": "application/julia",
   "name": "julia",
   "version": "1.7.2"
  }
 },
 "nbformat": 4,
 "nbformat_minor": 2
}
