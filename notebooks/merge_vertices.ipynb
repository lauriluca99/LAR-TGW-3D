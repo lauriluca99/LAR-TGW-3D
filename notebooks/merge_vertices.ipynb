{
 "cells": [
  {
   "cell_type": "markdown",
   "metadata": {},
   "source": [
    "### Progetto 8b\n",
    "Luca Maria Lauricella 519997\n",
    "\n",
    "Valerio Marini 512489\n",
    "\n",
    "Repository del progetto:\n",
    "https://github.com/lauriluca99/TGW-3D.jl\n",
    "\n",
    "Documentazione del progetto:\n",
    "https://lauriluca99.github.io/TGW-3D.jl"
   ]
  },
  {
   "cell_type": "code",
   "execution_count": 1,
   "metadata": {},
   "outputs": [
    {
     "data": {
      "text/plain": [
       "LinearAlgebraicRepresentation"
      ]
     },
     "metadata": {},
     "output_type": "display_data"
    }
   ],
   "source": [
    "#Importing all the libraries used in the notebooks\n",
    "using Profile\n",
    "using ProfileView\n",
    "using BenchmarkTools\n",
    "using SparseArrays\n",
    "using LinearAlgebra\n",
    "using LinearAlgebraicRepresentation\n",
    "using NearestNeighbors\n",
    "Lar = LinearAlgebraicRepresentation"
   ]
  },
  {
   "cell_type": "markdown",
   "metadata": {},
   "source": [
    "    function merge_vertices(\n",
    "            V::Points, \n",
    "            EV::ChainOp, \n",
    "            FE::ChainOp, \n",
    "            [err=1e-4])\n",
    "\t\n",
    "Rimuove i vertici congruenti ad un singolo rappresentatante, traduce i lati per tener \n",
    "conto della congruenza ed otteniene nuove facce congruenti.\n",
    "#### Argomenti addizionali:\n",
    "- `err`: Limite di errore massimo che si vuole utilizzare. Di Defaults a `1e-4`."
   ]
  },
  {
   "cell_type": "markdown",
   "metadata": {},
   "source": [
    "### Versione iniziale di merge_vertices"
   ]
  },
  {
   "cell_type": "code",
   "execution_count": 2,
   "metadata": {},
   "outputs": [
    {
     "data": {
      "text/plain": [
       "merge_vertices (generic function with 2 methods)"
      ]
     },
     "metadata": {},
     "output_type": "display_data"
    }
   ],
   "source": [
    "function merge_vertices(V::Lar.Points, EV::Lar.ChainOp, FE::Lar.ChainOp, err=1e-4)\n",
    "    vertsnum = size(V, 1)\n",
    "    edgenum = size(EV, 1)\n",
    "    facenum = size(FE, 1)\n",
    "    newverts = zeros(Int, vertsnum)\n",
    "    # KDTree constructor needs an explicit array of Float64\n",
    "    V = Array{Float64,2}(V)\n",
    "    W = convert(Lar.Points, LinearAlgebra.transpose(V))\n",
    "    kdtree = KDTree(W)\n",
    "    # remove vertices congruent to a single representative\n",
    "    todelete = []\n",
    "    i = 1\n",
    "    for vi in 1:vertsnum\n",
    "        if !(vi in todelete)\n",
    "            nearvs = Lar.inrange(kdtree, V[vi, :], err)\n",
    "            newverts[nearvs] .= i\n",
    "            nearvs = setdiff(nearvs, vi)\n",
    "            todelete = union(todelete, nearvs)\n",
    "            i = i + 1\n",
    "        end\n",
    "    end\n",
    "    nV = V[setdiff(collect(1:vertsnum), todelete), :]\n",
    "    \n",
    "    # translate edges to take congruence into account\n",
    "    edges = Array{Tuple{Int, Int}, 1}(undef, edgenum)\n",
    "    oedges = Array{Tuple{Int, Int}, 1}(undef, edgenum)\n",
    "    for ei in 1:edgenum\n",
    "        v1, v2 = EV[ei, :].nzind\n",
    "        edges[ei] = Tuple{Int, Int}(sort([newverts[v1], newverts[v2]]))\n",
    "        oedges[ei] = Tuple{Int, Int}(sort([v1, v2]))\n",
    "    end\n",
    "    nedges = union(edges)\n",
    "    # remove edges of zero length\n",
    "    nedges = filter(t->t[1]!=t[2], nedges)\n",
    "    nedgenum = length(nedges)\n",
    "    nEV = spzeros(Int8, nedgenum, size(nV, 1))\n",
    " \n",
    "    etuple2idx = Dict{Tuple{Int, Int}, Int}()\n",
    "    for ei in 1:nedgenum\n",
    "        begin\n",
    "            nEV[ei, collect(nedges[ei])] .= 1\n",
    "            nEV\n",
    "        end\n",
    "        etuple2idx[nedges[ei]] = ei\n",
    "    end\n",
    "    for e in 1:nedgenum\n",
    "        v1,v2 = findnz(nEV[e,:])[1]\n",
    "        nEV[e,v1] = -1; nEV[e,v2] = 1\n",
    "    end\n",
    " \n",
    "    # compute new faces to take congruence into account\n",
    "    faces = [[\n",
    "        map(x->newverts[x], FE[fi, ei] > 0 ? oedges[ei] : reverse(oedges[ei]))\n",
    "        for ei in FE[fi, :].nzind\n",
    "    ] for fi in 1:facenum]\n",
    " \n",
    " \n",
    "    visited = []\n",
    "    function filter_fn(face)\n",
    " \n",
    "        verts = []\n",
    "        map(e->verts = union(verts, collect(e)), face)\n",
    "        verts = Set(verts)\n",
    " \n",
    "        if !(verts in visited)\n",
    "            push!(visited, verts)\n",
    "            return true\n",
    "        end\n",
    "        return false\n",
    "    end\n",
    " \n",
    "    nfaces = filter(filter_fn, faces)\n",
    " \n",
    "    nfacenum = length(nfaces)\n",
    "    nFE = spzeros(Int8, nfacenum, size(nEV, 1))\n",
    " \n",
    "    for fi in 1:nfacenum\n",
    "        for edge in nfaces[fi]\n",
    "            ei = etuple2idx[Tuple{Int, Int}(sort(collect(edge)))]\n",
    "            nFE[fi, ei] = sign(edge[2] - edge[1])\n",
    "        end\n",
    "    end\n",
    " \n",
    "    return Lar.Points(nV), nEV, nFE\n",
    " end"
   ]
  },
  {
   "cell_type": "code",
   "execution_count": 3,
   "metadata": {},
   "outputs": [
    {
     "data": {
      "text/plain": [
       "6×12 SparseMatrixCSC{Int8, Int64} with 24 stored entries:\n",
       "  1   1   1  -1   ⋅   ⋅   ⋅   ⋅   ⋅   ⋅   ⋅   ⋅\n",
       "  ⋅   ⋅   ⋅   ⋅   ⋅   ⋅   ⋅   ⋅  -1  -1  -1   1\n",
       " -1   ⋅   ⋅   ⋅   1  -1   ⋅   ⋅   1   ⋅   ⋅   ⋅\n",
       "  ⋅  -1   ⋅   ⋅   ⋅   1  -1   ⋅   ⋅   1   ⋅   ⋅\n",
       "  ⋅   ⋅  -1   ⋅   ⋅   ⋅   1  -1   ⋅   ⋅   1   ⋅\n",
       "  ⋅   ⋅   ⋅   1  -1   ⋅   ⋅   1   ⋅   ⋅   ⋅  -1"
      ]
     },
     "metadata": {},
     "output_type": "display_data"
    }
   ],
   "source": [
    "V = Float64[\n",
    "        0 0 0; 0 1 0;\n",
    "        1 1 0; 1 0 0;\n",
    "        0 0 1; 0 1 1;\n",
    "        1 1 1; 1 0 1\n",
    "]\n",
    "\n",
    "EV = sparse(Int8[\n",
    "        -1  1  0  0  0  0  0  0;\n",
    "        0 -1  1  0  0  0  0  0;\n",
    "        0  0 -1  1  0  0  0  0;\n",
    "        -1  0  0  1  0  0  0  0;\n",
    "        -1  0  0  0  1  0  0  0;\n",
    "        0 -1  0  0  0  1  0  0;\n",
    "        0  0 -1  0  0  0  1  0;\n",
    "        0  0  0 -1  0  0  0  1;\n",
    "        0  0  0  0 -1  1  0  0;\n",
    "        0  0  0  0  0 -1  1  0;\n",
    "        0  0  0  0  0  0 -1  1;\n",
    "        0  0  0  0 -1  0  0  1;\n",
    "])\n",
    "\n",
    "FE = sparse(Int8[\n",
    "        1  1  1 -1  0  0  0  0  0  0  0  0;\n",
    "        0  0  0  0  0  0  0  0 -1 -1 -1  1;\n",
    "        -1  0  0  0  1 -1  0  0  1  0  0  0;\n",
    "        0 -1  0  0  0  1 -1  0  0  1  0  0;\n",
    "        0  0 -1  0  0  0  1 -1  0  0  1  0;\n",
    "        0  0  0  1 -1  0  0  1  0  0  0 -1;\n",
    "])"
   ]
  },
  {
   "cell_type": "code",
   "execution_count": 4,
   "metadata": {},
   "outputs": [
    {
     "name": "stdout",
     "output_type": "stream",
     "text": [
      "  40.000 μs (920 allocations: 64.00 KiB)\n"
     ]
    },
    {
     "data": {
      "text/plain": [
       "([0.0 0.0 0.0; 0.0 1.0 0.0; … ; 1.0 1.0 1.0; 1.0 0.0 1.0], sparse([1, 4, 5, 1, 2, 6, 2, 3, 7, 3  …  12, 6, 9, 10, 7, 10, 11, 8, 11, 12], [1, 1, 1, 2, 2, 2, 3, 3, 3, 4  …  5, 6, 6, 6, 7, 7, 7, 8, 8, 8], Int8[-1, -1, -1, 1, -1, -1, 1, -1, -1, 1  …  -1, 1, 1, -1, 1, 1, -1, 1, 1, 1], 12, 8), sparse([1, 3, 1, 4, 1, 5, 1, 6, 3, 6  …  5, 6, 2, 3, 2, 4, 2, 5, 2, 6], [1, 1, 2, 2, 3, 3, 4, 4, 5, 5  …  8, 8, 9, 9, 10, 10, 11, 11, 12, 12], Int8[1, -1, 1, -1, 1, -1, -1, 1, 1, -1  …  -1, 1, -1, 1, -1, 1, -1, 1, 1, -1], 6, 12))"
      ]
     },
     "metadata": {},
     "output_type": "display_data"
    }
   ],
   "source": [
    "@btime merge_vertices(Lar.Points(V),Lar.ChainOp(EV),Lar.ChainOp(FE),1e-8)"
   ]
  },
  {
   "cell_type": "markdown",
   "metadata": {},
   "source": [
    "Si nota come i tipi delle variabili sono state già assegnati opportunamente in precedenza. Dunque non si ritiene necessario assegnarne di nuovi."
   ]
  },
  {
   "cell_type": "code",
   "execution_count": 5,
   "metadata": {},
   "outputs": [
    {
     "name": "stdout",
     "output_type": "stream",
     "text": [
      "MethodInstance for merge_vertices(::Matrix{Float64}, ::SparseMatrixCSC{Int8, Int64}, ::SparseMatrixCSC{Int8, Int64}, ::Float64)\n",
      "  from merge_vertices(V::Matrix, EV::SparseMatrixCSC{Int8, Int64}, FE::SparseMatrixCSC{Int8, Int64}, err) in Main at c:\\Users\\Valerio\\Desktop\\TGW-3D.jl\\notebooks\\merge_vertices.ipynb:1\n",
      "Arguments\n",
      "  #self#\u001b[36m::Core.Const(merge_vertices)\u001b[39m\n",
      "  V@_2\u001b[36m::Matrix{Float64}\u001b[39m\n",
      "  EV\u001b[36m::SparseMatrixCSC{Int8, Int64}\u001b[39m\n",
      "  FE\u001b[36m::SparseMatrixCSC{Int8, Int64}\u001b[39m\n",
      "  err\u001b[36m::Float64\u001b[39m\n",
      "Locals\n",
      "  @_6\u001b[33m\u001b[1m::Union{Nothing, Tuple{Int64, Int64}}\u001b[22m\u001b[39m\n",
      "  #10\u001b[36m::var\"#10#15\"{SparseMatrixCSC{Int8, Int64}, Vector{Tuple{Int64, Int64}}, Vector{Int64}}\u001b[39m\n",
      "  @_8\u001b[33m\u001b[1m::Union{Nothing, Tuple{Int64, Int64}}\u001b[22m\u001b[39m\n",
      "  @_9\u001b[33m\u001b[1m::Union{Nothing, Tuple{Int64, Int64}}\u001b[22m\u001b[39m\n",
      "  #9\u001b[36m::var\"#9#14\"\u001b[39m\n",
      "  @_11\u001b[33m\u001b[1m::Union{Nothing, Tuple{Int64, Int64}}\u001b[22m\u001b[39m\n",
      "  @_12\u001b[33m\u001b[1m::Union{Nothing, Tuple{Int64, Int64}}\u001b[22m\u001b[39m\n",
      "  nFE\u001b[36m::SparseMatrixCSC{Int8, Int64}\u001b[39m\n",
      "  nfacenum\u001b[36m::Int64\u001b[39m\n",
      "  nfaces\u001b[36m::Vector{Vector{Tuple{Int64, Int64}}}\u001b[39m\n",
      "  filter_fn\u001b[36m::var\"#filter_fn#18\"{Vector{Any}}\u001b[39m\n",
      "  visited\u001b[36m::Vector{Any}\u001b[39m\n",
      "  faces\u001b[36m::Vector{Vector{Tuple{Int64, Int64}}}\u001b[39m\n",
      "  etuple2idx\u001b[36m::Dict{Tuple{Int64, Int64}, Int64}\u001b[39m\n",
      "  nEV\u001b[36m::SparseMatrixCSC{Int8, Int64}\u001b[39m\n",
      "  nedgenum\u001b[36m::Int64\u001b[39m\n",
      "  nedges\u001b[36m::Vector{Tuple{Int64, Int64}}\u001b[39m\n",
      "  oedges\u001b[36m::Vector{Tuple{Int64, Int64}}\u001b[39m\n",
      "  edges\u001b[36m::Vector{Tuple{Int64, Int64}}\u001b[39m\n",
      "  nV\u001b[36m::Matrix{Float64}\u001b[39m\n",
      "  i\u001b[36m::Int64\u001b[39m\n",
      "  todelete\u001b[36m::Vector{Any}\u001b[39m\n",
      "  kdtree\u001b[91m\u001b[1m::KDTree{_A, Euclidean} where _A<:(AbstractVector)\u001b[22m\u001b[39m\n",
      "  W\u001b[91m\u001b[1m::Any\u001b[22m\u001b[39m\n",
      "  newverts\u001b[36m::Vector{Int64}\u001b[39m\n",
      "  facenum\u001b[36m::Int64\u001b[39m\n",
      "  edgenum\u001b[36m::Int64\u001b[39m\n",
      "  vertsnum\u001b[36m::Int64\u001b[39m\n",
      "  vi\u001b[36m::Int64\u001b[39m\n",
      "  nearvs\u001b[91m\u001b[1m::Any\u001b[22m\u001b[39m\n",
      "  @_36\u001b[36m::Int64\u001b[39m\n",
      "  ei@_37\u001b[36m::Int64\u001b[39m\n",
      "  v2@_38\u001b[36m::Int64\u001b[39m\n",
      "  v1@_39\u001b[36m::Int64\u001b[39m\n",
      "  ei@_40\u001b[36m::Int64\u001b[39m\n",
      "  @_41\u001b[36m::Int64\u001b[39m\n",
      "  e\u001b[36m::Int64\u001b[39m\n",
      "  v2@_43\u001b[36m::Int64\u001b[39m\n",
      "  v1@_44\u001b[36m::Int64\u001b[39m\n",
      "  @_45\u001b[33m\u001b[1m::Union{Nothing, Tuple{Tuple{Int64, Int64}, Int64}}\u001b[22m\u001b[39m\n",
      "  fi\u001b[36m::Int64\u001b[39m\n",
      "  edge\u001b[36m::Tuple{Int64, Int64}\u001b[39m\n",
      "  ei@_48\u001b[36m::Int64\u001b[39m\n",
      "  V@_49\u001b[36m::Matrix{Float64}\u001b[39m\n",
      "Body\u001b[91m\u001b[1m::Tuple{Any, SparseMatrixCSC{Int8, Int64}, SparseMatrixCSC{Int8, Int64}}\u001b[22m\u001b[39m\n",
      "\u001b[90m1 ──\u001b[39m        (V@_49 = V@_2)\n",
      "\u001b[90m│   \u001b[39m        Core.NewvarNode(:(@_6))\n",
      "\u001b[90m│   \u001b[39m        Core.NewvarNode(:(#10))\n",
      "\u001b[90m│   \u001b[39m        Core.NewvarNode(:(@_8))\n",
      "\u001b[90m│   \u001b[39m        Core.NewvarNode(:(@_9))\n",
      "\u001b[90m│   \u001b[39m        Core.NewvarNode(:(#9))\n",
      "\u001b[90m│   \u001b[39m        Core.NewvarNode(:(@_11))\n",
      "\u001b[90m│   \u001b[39m        Core.NewvarNode(:(nFE))\n",
      "\u001b[90m│   \u001b[39m        Core.NewvarNode(:(nfacenum))\n",
      "\u001b[90m│   \u001b[39m        Core.NewvarNode(:(nfaces))\n",
      "\u001b[90m│   \u001b[39m        Core.NewvarNode(:(filter_fn))\n",
      "\u001b[90m│   \u001b[39m        Core.NewvarNode(:(visited))\n",
      "\u001b[90m│   \u001b[39m        Core.NewvarNode(:(faces))\n",
      "\u001b[90m│   \u001b[39m        Core.NewvarNode(:(etuple2idx))\n",
      "\u001b[90m│   \u001b[39m        Core.NewvarNode(:(nEV))\n",
      "\u001b[90m│   \u001b[39m        Core.NewvarNode(:(nedgenum))\n",
      "\u001b[90m│   \u001b[39m        Core.NewvarNode(:(nedges))\n",
      "\u001b[90m│   \u001b[39m        Core.NewvarNode(:(oedges))\n",
      "\u001b[90m│   \u001b[39m        Core.NewvarNode(:(edges))\n",
      "\u001b[90m│   \u001b[39m        Core.NewvarNode(:(nV))\n",
      "\u001b[90m│   \u001b[39m        (vertsnum = Main.size(V@_49, 1))\n",
      "\u001b[90m│   \u001b[39m        (edgenum = Main.size(EV, 1))\n",
      "\u001b[90m│   \u001b[39m        (facenum = Main.size(FE, 1))\n",
      "\u001b[90m│   \u001b[39m        (newverts = Main.zeros(Main.Int, vertsnum))\n",
      "\u001b[90m│   \u001b[39m %25  = Core.apply_type(Main.Array, Main.Float64, 2)\u001b[36m::Core.Const(Matrix{Float64})\u001b[39m\n",
      "\u001b[90m│   \u001b[39m        (V@_49 = (%25)(V@_49))\n",
      "\u001b[90m│   \u001b[39m %27  = Base.getproperty(Main.Lar, :Points)\u001b[91m\u001b[1m::Any\u001b[22m\u001b[39m\n",
      "\u001b[90m│   \u001b[39m %28  = LinearAlgebra.transpose\u001b[36m::Core.Const(transpose)\u001b[39m\n",
      "\u001b[90m│   \u001b[39m %29  = (%28)(V@_49)\u001b[36m::Transpose{Float64, Matrix{Float64}}\u001b[39m\n",
      "\u001b[90m│   \u001b[39m        (W = Main.convert(%27, %29))\n",
      "\u001b[90m│   \u001b[39m        (kdtree = Main.KDTree(W))\n",
      "\u001b[90m│   \u001b[39m        (todelete = Base.vect())\n",
      "\u001b[90m│   \u001b[39m        (i = 1)\n",
      "\u001b[90m│   \u001b[39m %34  = (1:vertsnum)\u001b[36m::Core.PartialStruct(UnitRange{Int64}, Any[Core.Const(1), Int64])\u001b[39m\n",
      "\u001b[90m│   \u001b[39m        (@_12 = Base.iterate(%34))\n",
      "\u001b[90m│   \u001b[39m %36  = (@_12 === nothing)\u001b[36m::Bool\u001b[39m\n",
      "\u001b[90m│   \u001b[39m %37  = Base.not_int(%36)\u001b[36m::Bool\u001b[39m\n",
      "\u001b[90m└───\u001b[39m        goto #6 if not %37\n",
      "\u001b[90m2 ┄─\u001b[39m        Core.NewvarNode(:(nearvs))\n",
      "\u001b[90m│   \u001b[39m %40  = @_12\u001b[36m::Tuple{Int64, Int64}\u001b[39m\n",
      "\u001b[90m│   \u001b[39m        (vi = Core.getfield(%40, 1))\n",
      "\u001b[90m│   \u001b[39m %42  = Core.getfield(%40, 2)\u001b[36m::Int64\u001b[39m\n",
      "\u001b[90m│   \u001b[39m %43  = (vi in todelete)\u001b[33m\u001b[1m::Union{Missing, Bool}\u001b[22m\u001b[39m\n",
      "\u001b[90m│   \u001b[39m %44  = !%43\u001b[33m\u001b[1m::Union{Missing, Bool}\u001b[22m\u001b[39m\n",
      "\u001b[90m└───\u001b[39m        goto #4 if not %44\n",
      "\u001b[90m3 ──\u001b[39m %46  = Base.getproperty(Main.Lar, :inrange)\u001b[91m\u001b[1m::Any\u001b[22m\u001b[39m\n",
      "\u001b[90m│   \u001b[39m %47  = kdtree\u001b[91m\u001b[1m::KDTree{_A, Euclidean} where _A<:(AbstractVector)\u001b[22m\u001b[39m\n",
      "\u001b[90m│   \u001b[39m %48  = Base.getindex(V@_49, vi, Main.:(:))\u001b[36m::Vector{Float64}\u001b[39m\n",
      "\u001b[90m│   \u001b[39m        (nearvs = (%46)(%47, %48, err))\n",
      "\u001b[90m│   \u001b[39m %50  = Base.dotview(newverts, nearvs)\u001b[91m\u001b[1m::Any\u001b[22m\u001b[39m\n",
      "\u001b[90m│   \u001b[39m %51  = Base.broadcasted(Base.identity, i)\u001b[36m::Base.Broadcast.Broadcasted{Base.Broadcast.DefaultArrayStyle{0}, Nothing, typeof(identity), Tuple{Int64}}\u001b[39m\n",
      "\u001b[90m│   \u001b[39m        Base.materialize!(%50, %51)\n",
      "\u001b[90m│   \u001b[39m        (nearvs = Main.setdiff(nearvs, vi))\n",
      "\u001b[90m│   \u001b[39m        (todelete = Main.union(todelete, nearvs))\n",
      "\u001b[90m└───\u001b[39m        (i = i + 1)\n",
      "\u001b[90m4 ┄─\u001b[39m        (@_12 = Base.iterate(%34, %42))\n",
      "\u001b[90m│   \u001b[39m %57  = (@_12 === nothing)\u001b[36m::Bool\u001b[39m\n",
      "\u001b[90m│   \u001b[39m %58  = Base.not_int(%57)\u001b[36m::Bool\u001b[39m\n",
      "\u001b[90m└───\u001b[39m        goto #6 if not %58\n",
      "\u001b[90m5 ──\u001b[39m        goto #2\n",
      "\u001b[90m6 ┄─\u001b[39m %61  = V@_49\u001b[36m::Matrix{Float64}\u001b[39m\n",
      "\u001b[90m│   \u001b[39m %62  = (1:vertsnum)\u001b[36m::Core.PartialStruct(UnitRange{Int64}, Any[Core.Const(1), Int64])\u001b[39m\n",
      "\u001b[90m│   \u001b[39m %63  = Main.collect(%62)\u001b[36m::Vector{Int64}\u001b[39m\n",
      "\u001b[90m│   \u001b[39m %64  = Main.setdiff(%63, todelete)\u001b[36m::Vector{Int64}\u001b[39m\n",
      "\u001b[90m│   \u001b[39m        (nV = Base.getindex(%61, %64, Main.:(:)))\n",
      "\u001b[90m│   \u001b[39m %66  = Core.apply_type(Main.Tuple, Main.Int, Main.Int)\u001b[36m::Core.Const(Tuple{Int64, Int64})\u001b[39m\n",
      "\u001b[90m│   \u001b[39m %67  = Core.apply_type(Main.Array, %66, 1)\u001b[36m::Core.Const(Vector{Tuple{Int64, Int64}})\u001b[39m\n",
      "\u001b[90m│   \u001b[39m        (edges = (%67)(Main.undef, edgenum))\n",
      "\u001b[90m│   \u001b[39m %69  = Core.apply_type(Main.Tuple, Main.Int, Main.Int)\u001b[36m::Core.Const(Tuple{Int64, Int64})\u001b[39m\n",
      "\u001b[90m│   \u001b[39m %70  = Core.apply_type(Main.Array, %69, 1)\u001b[36m::Core.Const(Vector{Tuple{Int64, Int64}})\u001b[39m\n",
      "\u001b[90m│   \u001b[39m        (oedges = (%70)(Main.undef, edgenum))\n",
      "\u001b[90m│   \u001b[39m %72  = (1:edgenum)\u001b[36m::Core.PartialStruct(UnitRange{Int64}, Any[Core.Const(1), Int64])\u001b[39m\n",
      "\u001b[90m│   \u001b[39m        (@_11 = Base.iterate(%72))\n",
      "\u001b[90m│   \u001b[39m %74  = (@_11 === nothing)\u001b[36m::Bool\u001b[39m\n",
      "\u001b[90m│   \u001b[39m %75  = Base.not_int(%74)\u001b[36m::Bool\u001b[39m\n",
      "\u001b[90m└───\u001b[39m        goto #9 if not %75\n",
      "\u001b[90m7 ┄─\u001b[39m %77  = @_11\u001b[36m::Tuple{Int64, Int64}\u001b[39m\n",
      "\u001b[90m│   \u001b[39m        (ei@_37 = Core.getfield(%77, 1))\n",
      "\u001b[90m│   \u001b[39m %79  = Core.getfield(%77, 2)\u001b[36m::Int64\u001b[39m\n",
      "\u001b[90m│   \u001b[39m %80  = Base.getindex(EV, ei@_37, Main.:(:))\u001b[36m::SparseVector{Int8, Int64}\u001b[39m\n",
      "\u001b[90m│   \u001b[39m %81  = Base.getproperty(%80, :nzind)\u001b[36m::Vector{Int64}\u001b[39m\n",
      "\u001b[90m│   \u001b[39m %82  = Base.indexed_iterate(%81, 1)\u001b[36m::Core.PartialStruct(Tuple{Int64, Int64}, Any[Int64, Core.Const(2)])\u001b[39m\n",
      "\u001b[90m│   \u001b[39m        (v1@_39 = Core.getfield(%82, 1))\n",
      "\u001b[90m│   \u001b[39m        (@_36 = Core.getfield(%82, 2))\n",
      "\u001b[90m│   \u001b[39m %85  = Base.indexed_iterate(%81, 2, @_36::Core.Const(2))\u001b[36m::Core.PartialStruct(Tuple{Int64, Int64}, Any[Int64, Core.Const(3)])\u001b[39m\n",
      "\u001b[90m│   \u001b[39m        (v2@_38 = Core.getfield(%85, 1))\n",
      "\u001b[90m│   \u001b[39m %87  = Core.apply_type(Main.Tuple, Main.Int, Main.Int)\u001b[36m::Core.Const(Tuple{Int64, Int64})\u001b[39m\n",
      "\u001b[90m│   \u001b[39m %88  = Base.getindex(newverts, v1@_39)\u001b[36m::Int64\u001b[39m\n",
      "\u001b[90m│   \u001b[39m %89  = Base.getindex(newverts, v2@_38)\u001b[36m::Int64\u001b[39m\n",
      "\u001b[90m│   \u001b[39m %90  = Base.vect(%88, %89)\u001b[36m::Vector{Int64}\u001b[39m\n",
      "\u001b[90m│   \u001b[39m %91  = Main.sort(%90)\u001b[36m::Vector{Int64}\u001b[39m\n",
      "\u001b[90m│   \u001b[39m %92  = (%87)(%91)\u001b[36m::Tuple{Int64, Int64}\u001b[39m\n",
      "\u001b[90m│   \u001b[39m        Base.setindex!(edges, %92, ei@_37)\n",
      "\u001b[90m│   \u001b[39m %94  = Core.apply_type(Main.Tuple, Main.Int, Main.Int)\u001b[36m::Core.Const(Tuple{Int64, Int64})\u001b[39m\n",
      "\u001b[90m│   \u001b[39m %95  = Base.vect(v1@_39, v2@_38)\u001b[36m::Vector{Int64}\u001b[39m\n",
      "\u001b[90m│   \u001b[39m %96  = Main.sort(%95)\u001b[36m::Vector{Int64}\u001b[39m\n",
      "\u001b[90m│   \u001b[39m %97  = (%94)(%96)\u001b[36m::Tuple{Int64, Int64}\u001b[39m\n",
      "\u001b[90m│   \u001b[39m        Base.setindex!(oedges, %97, ei@_37)\n",
      "\u001b[90m│   \u001b[39m        (@_11 = Base.iterate(%72, %79))\n",
      "\u001b[90m│   \u001b[39m %100 = (@_11 === nothing)\u001b[36m::Bool\u001b[39m\n",
      "\u001b[90m│   \u001b[39m %101 = Base.not_int(%100)\u001b[36m::Bool\u001b[39m\n",
      "\u001b[90m└───\u001b[39m        goto #9 if not %101\n",
      "\u001b[90m8 ──\u001b[39m        goto #7\n",
      "\u001b[90m9 ┄─\u001b[39m        (nedges = Main.union(edges))\n",
      "\u001b[90m│   \u001b[39m        (#9 = %new(Main.:(var\"#9#14\")))\n",
      "\u001b[90m│   \u001b[39m %106 = #9\u001b[36m::Core.Const(var\"#9#14\"())\u001b[39m\n",
      "\u001b[90m│   \u001b[39m        (nedges = Main.filter(%106, nedges))\n",
      "\u001b[90m│   \u001b[39m        (nedgenum = Main.length(nedges))\n",
      "\u001b[90m│   \u001b[39m %109 = nedgenum\u001b[36m::Int64\u001b[39m\n",
      "\u001b[90m│   \u001b[39m %110 = Main.size(nV, 1)\u001b[36m::Int64\u001b[39m\n",
      "\u001b[90m│   \u001b[39m        (nEV = Main.spzeros(Main.Int8, %109, %110))\n",
      "\u001b[90m│   \u001b[39m %112 = Core.apply_type(Main.Tuple, Main.Int, Main.Int)\u001b[36m::Core.Const(Tuple{Int64, Int64})\u001b[39m\n",
      "\u001b[90m│   \u001b[39m %113 = Core.apply_type(Main.Dict, %112, Main.Int)\u001b[36m::Core.Const(Dict{Tuple{Int64, Int64}, Int64})\u001b[39m\n",
      "\u001b[90m│   \u001b[39m        (etuple2idx = (%113)())\n",
      "\u001b[90m│   \u001b[39m %115 = (1:nedgenum)\u001b[36m::Core.PartialStruct(UnitRange{Int64}, Any[Core.Const(1), Int64])\u001b[39m\n",
      "\u001b[90m│   \u001b[39m        (@_9 = Base.iterate(%115))\n",
      "\u001b[90m│   \u001b[39m %117 = (@_9 === nothing"
     ]
    },
    {
     "name": "stdout",
     "output_type": "stream",
     "text": [
      ")\u001b[36m::Bool\u001b[39m\n",
      "\u001b[90m│   \u001b[39m %118 = Base.not_int(%117)\u001b[36m::Bool\u001b[39m\n",
      "\u001b[90m└───\u001b[39m        goto #12 if not %118\n",
      "\u001b[90m10 ┄\u001b[39m %120 = @_9\u001b[36m::Tuple{Int64, Int64}\u001b[39m\n",
      "\u001b[90m│   \u001b[39m        (ei@_40 = Core.getfield(%120, 1))\n",
      "\u001b[90m│   \u001b[39m %122 = Core.getfield(%120, 2)\u001b[36m::Int64\u001b[39m\n",
      "\u001b[90m│   \u001b[39m %123 = nEV\u001b[36m::SparseMatrixCSC{Int8, Int64}\u001b[39m\n",
      "\u001b[90m│   \u001b[39m %124 = ei@_40\u001b[36m::Int64\u001b[39m\n",
      "\u001b[90m│   \u001b[39m %125 = Base.getindex(nedges, ei@_40)\u001b[36m::Tuple{Int64, Int64}\u001b[39m\n",
      "\u001b[90m│   \u001b[39m %126 = Main.collect(%125)\u001b[36m::Vector{Int64}\u001b[39m\n",
      "\u001b[90m│   \u001b[39m %127 = Base.dotview(%123, %124, %126)\u001b[36m::Core.PartialStruct(SubArray{Int8, 1, SparseMatrixCSC{Int8, Int64}, Tuple{Int64, Vector{Int64}}, false}, Any[SparseMatrixCSC{Int8, Int64}, Tuple{Int64, Vector{Int64}}, Core.Const(0), Core.Const(0)])\u001b[39m\n",
      "\u001b[90m│   \u001b[39m %128 = Base.broadcasted(Base.identity, 1)\u001b[36m::Core.Const(Base.Broadcast.Broadcasted(identity, (1,)))\u001b[39m\n",
      "\u001b[90m│   \u001b[39m        Base.materialize!(%127, %128)\n",
      "\u001b[90m│   \u001b[39m        nEV\n",
      "\u001b[90m│   \u001b[39m %131 = etuple2idx\u001b[36m::Dict{Tuple{Int64, Int64}, Int64}\u001b[39m\n",
      "\u001b[90m│   \u001b[39m %132 = ei@_40\u001b[36m::Int64\u001b[39m\n",
      "\u001b[90m│   \u001b[39m %133 = Base.getindex(nedges, ei@_40)\u001b[36m::Tuple{Int64, Int64}\u001b[39m\n",
      "\u001b[90m│   \u001b[39m        Base.setindex!(%131, %132, %133)\n",
      "\u001b[90m│   \u001b[39m        (@_9 = Base.iterate(%115, %122))\n",
      "\u001b[90m│   \u001b[39m %136 = (@_9 === nothing)\u001b[36m::Bool\u001b[39m\n",
      "\u001b[90m│   \u001b[39m %137 = Base.not_int(%136)\u001b[36m::Bool\u001b[39m\n",
      "\u001b[90m└───\u001b[39m        goto #12 if not %137\n",
      "\u001b[90m11 ─\u001b[39m        goto #10\n",
      "\u001b[90m12 ┄\u001b[39m %140 = (1:nedgenum)\u001b[36m::Core.PartialStruct(UnitRange{Int64}, Any[Core.Const(1), Int64])\u001b[39m\n",
      "\u001b[90m│   \u001b[39m        (@_8 = Base.iterate(%140))\n",
      "\u001b[90m│   \u001b[39m %142 = (@_8 === nothing)\u001b[36m::Bool\u001b[39m\n",
      "\u001b[90m│   \u001b[39m %143 = Base.not_int(%142)\u001b[36m::Bool\u001b[39m\n",
      "\u001b[90m└───\u001b[39m        goto #15 if not %143\n",
      "\u001b[90m13 ┄\u001b[39m %145 = @_8\u001b[36m::Tuple{Int64, Int64}\u001b[39m\n",
      "\u001b[90m│   \u001b[39m        (e = Core.getfield(%145, 1))\n",
      "\u001b[90m│   \u001b[39m %147 = Core.getfield(%145, 2)\u001b[36m::Int64\u001b[39m\n",
      "\u001b[90m│   \u001b[39m %148 = Base.getindex(nEV, e, Main.:(:))\u001b[36m::SparseVector{Int8, Int64}\u001b[39m\n",
      "\u001b[90m│   \u001b[39m %149 = Main.findnz(%148)\u001b[36m::Tuple{Vector{Int64}, Vector{Int8}}\u001b[39m\n",
      "\u001b[90m│   \u001b[39m %150 = Base.getindex(%149, 1)\u001b[36m::Vector{Int64}\u001b[39m\n",
      "\u001b[90m│   \u001b[39m %151 = Base.indexed_iterate(%150, 1)\u001b[36m::Core.PartialStruct(Tuple{Int64, Int64}, Any[Int64, Core.Const(2)])\u001b[39m\n",
      "\u001b[90m│   \u001b[39m        (v1@_44 = Core.getfield(%151, 1))\n",
      "\u001b[90m│   \u001b[39m        (@_41 = Core.getfield(%151, 2))\n",
      "\u001b[90m│   \u001b[39m %154 = Base.indexed_iterate(%150, 2, @_41::Core.Const(2))\u001b[36m::Core.PartialStruct(Tuple{Int64, Int64}, Any[Int64, Core.Const(3)])\u001b[39m\n",
      "\u001b[90m│   \u001b[39m        (v2@_43 = Core.getfield(%154, 1))\n",
      "\u001b[90m│   \u001b[39m        Base.setindex!(nEV, -1, e, v1@_44)\n",
      "\u001b[90m│   \u001b[39m        Base.setindex!(nEV, 1, e, v2@_43)\n",
      "\u001b[90m│   \u001b[39m        (@_8 = Base.iterate(%140, %147))\n",
      "\u001b[90m│   \u001b[39m %159 = (@_8 === nothing)\u001b[36m::Bool\u001b[39m\n",
      "\u001b[90m│   \u001b[39m %160 = Base.not_int(%159)\u001b[36m::Bool\u001b[39m\n",
      "\u001b[90m└───\u001b[39m        goto #15 if not %160\n",
      "\u001b[90m14 ─\u001b[39m        goto #13\n",
      "\u001b[90m15 ┄\u001b[39m %163 = Main.:(var\"#10#15\")\u001b[36m::Core.Const(var\"#10#15\")\u001b[39m\n",
      "\u001b[90m│   \u001b[39m %164 = Core.typeof(FE)\u001b[36m::Core.Const(SparseMatrixCSC{Int8, Int64})\u001b[39m\n",
      "\u001b[90m│   \u001b[39m %165 = Core.typeof(oedges)\u001b[36m::Core.Const(Vector{Tuple{Int64, Int64}})\u001b[39m\n",
      "\u001b[90m│   \u001b[39m %166 = Core.typeof(newverts)\u001b[36m::Core.Const(Vector{Int64})\u001b[39m\n",
      "\u001b[90m│   \u001b[39m %167 = Core.apply_type(%163, %164, %165, %166)\u001b[36m::Core.Const(var\"#10#15\"{SparseMatrixCSC{Int8, Int64}, Vector{Tuple{Int64, Int64}}, Vector{Int64}})\u001b[39m\n",
      "\u001b[90m│   \u001b[39m %168 = oedges\u001b[36m::Vector{Tuple{Int64, Int64}}\u001b[39m\n",
      "\u001b[90m│   \u001b[39m        (#10 = %new(%167, FE, %168, newverts))\n",
      "\u001b[90m│   \u001b[39m %170 = #10\u001b[36m::var\"#10#15\"{SparseMatrixCSC{Int8, Int64}, Vector{Tuple{Int64, Int64}}, Vector{Int64}}\u001b[39m\n",
      "\u001b[90m│   \u001b[39m %171 = (1:facenum)\u001b[36m::Core.PartialStruct(UnitRange{Int64}, Any[Core.Const(1), Int64])\u001b[39m\n",
      "\u001b[90m│   \u001b[39m %172 = Base.Generator(%170, %171)\u001b[36m::Core.PartialStruct(Base.Generator{UnitRange{Int64}, var\"#10#15\"{SparseMatrixCSC{Int8, Int64}, Vector{Tuple{Int64, Int64}}, Vector{Int64}}}, Any[var\"#10#15\"{SparseMatrixCSC{Int8, Int64}, Vector{Tuple{Int64, Int64}}, Vector{Int64}}, Core.PartialStruct(UnitRange{Int64}, Any[Core.Const(1), Int64])])\u001b[39m\n",
      "\u001b[90m│   \u001b[39m        (faces = Base.collect(%172))\n",
      "\u001b[90m│   \u001b[39m        (visited = Base.vect())\n",
      "\u001b[90m│   \u001b[39m %175 = Main.:(var\"#filter_fn#18\")\u001b[36m::Core.Const(var\"#filter_fn#18\")\u001b[39m\n",
      "\u001b[90m│   \u001b[39m %176 = Core.typeof(visited)\u001b[36m::Core.Const(Vector{Any})\u001b[39m\n",
      "\u001b[90m│   \u001b[39m %177 = Core.apply_type(%175, %176)\u001b[36m::Core.Const(var\"#filter_fn#18\"{Vector{Any}})\u001b[39m\n",
      "\u001b[90m│   \u001b[39m        (filter_fn = %new(%177, visited))\n",
      "\u001b[90m│   \u001b[39m        (nfaces = Main.filter(filter_fn, faces))\n",
      "\u001b[90m│   \u001b[39m        (nfacenum = Main.length(nfaces))\n",
      "\u001b[90m│   \u001b[39m %181 = nfacenum\u001b[36m::Int64\u001b[39m\n",
      "\u001b[90m│   \u001b[39m %182 = Main.size(nEV, 1)\u001b[36m::Int64\u001b[39m\n",
      "\u001b[90m│   \u001b[39m        (nFE = Main.spzeros(Main.Int8, %181, %182))\n",
      "\u001b[90m│   \u001b[39m %184 = (1:nfacenum)\u001b[36m::Core.PartialStruct(UnitRange{Int64}, Any[Core.Const(1), Int64])\u001b[39m\n",
      "\u001b[90m│   \u001b[39m        (@_6 = Base.iterate(%184))\n",
      "\u001b[90m│   \u001b[39m %186 = (@_6 === nothing)\u001b[36m::Bool\u001b[39m\n",
      "\u001b[90m│   \u001b[39m %187 = Base.not_int(%186)\u001b[36m::Bool\u001b[39m\n",
      "\u001b[90m└───\u001b[39m        goto #21 if not %187\n",
      "\u001b[90m16 ┄\u001b[39m %189 = @_6\u001b[36m::Tuple{Int64, Int64}\u001b[39m\n",
      "\u001b[90m│   \u001b[39m        (fi = Core.getfield(%189, 1))\n",
      "\u001b[90m│   \u001b[39m %191 = Core.getfield(%189, 2)\u001b[36m::Int64\u001b[39m\n",
      "\u001b[90m│   \u001b[39m %192 = Base.getindex(nfaces, fi)\u001b[36m::Vector{Tuple{Int64, Int64}}\u001b[39m\n",
      "\u001b[90m│   \u001b[39m        (@_45 = Base.iterate(%192))\n",
      "\u001b[90m│   \u001b[39m %194 = (@_45 === nothing)\u001b[36m::Bool\u001b[39m\n",
      "\u001b[90m│   \u001b[39m %195 = Base.not_int(%194)\u001b[36m::Bool\u001b[39m\n",
      "\u001b[90m└───\u001b[39m        goto #19 if not %195\n",
      "\u001b[90m17 ┄\u001b[39m %197 = @_45\u001b[36m::Tuple{Tuple{Int64, Int64}, Int64}\u001b[39m\n",
      "\u001b[90m│   \u001b[39m        (edge = Core.getfield(%197, 1))\n",
      "\u001b[90m│   \u001b[39m %199 = Core.getfield(%197, 2)\u001b[36m::Int64\u001b[39m\n",
      "\u001b[90m│   \u001b[39m %200 = etuple2idx\u001b[36m::Dict{Tuple{Int64, Int64}, Int64}\u001b[39m\n",
      "\u001b[90m│   \u001b[39m %201 = Core.apply_type(Main.Tuple, Main.Int, Main.Int)\u001b[36m::Core.Const(Tuple{Int64, Int64})\u001b[39m\n",
      "\u001b[90m│   \u001b[39m %202 = Main.collect(edge)\u001b[36m::Vector{Int64}\u001b[39m\n",
      "\u001b[90m│   \u001b[39m %203 = Main.sort(%202)\u001b[36m::Vector{Int64}\u001b[39m\n",
      "\u001b[90m│   \u001b[39m %204 = (%201)(%203)\u001b[36m::Tuple{Int64, Int64}\u001b[39m\n",
      "\u001b[90m│   \u001b[39m        (ei@_48 = Base.getindex(%200, %204))\n",
      "\u001b[90m│   \u001b[39m %206 = Base.getindex(edge, 2)\u001b[36m::Int64\u001b[39m\n",
      "\u001b[90m│   \u001b[39m %207 = Base.getindex(edge, 1)\u001b[36m::Int64\u001b[39m\n",
      "\u001b[90m│   \u001b[39m %208 = (%206 - %207)\u001b[36m::Int64\u001b[39m\n",
      "\u001b[90m│   \u001b[39m %209 = Main.sign(%208)\u001b[36m::Int64\u001b[39m\n",
      "\u001b[90m│   \u001b[39m        Base.setindex!(nFE, %209, fi, ei@_48)\n",
      "\u001b[90m│   \u001b[39m        (@_45 = Base.iterate(%192, %199))\n",
      "\u001b[90m│   \u001b[39m %212 = (@_45 === nothing)\u001b[36m::Bool\u001b[39m\n",
      "\u001b[90m│   \u001b[39m %213 = Base.not_int(%212)\u001b[36m::Bool\u001b[39m\n",
      "\u001b[90m└───\u001b[39m        goto #19 if not %213\n",
      "\u001b[90m18 ─\u001b[39m        goto #17\n",
      "\u001b[90m19 ┄\u001b[39m        (@_6 = Base.iterate(%184, %191))\n",
      "\u001b[90m│   \u001b[39m %217 = (@_6 === nothing)\u001b[36m::Bool\u001b[39m\n",
      "\u001b[90m│   \u001b[39m %218 = Base.not_int(%217)\u001b[36m::Bool\u001b[39m\n",
      "\u001b[90m└───\u001b[39m        goto #21 if not %218\n",
      "\u001b[90m20 ─\u001b[39m        goto #16\n",
      "\u001b[90m21 ┄\u001b[39m %221 = Base.getproperty(Main.Lar, :Points)\u001b[91m\u001b[1m::Any\u001b[22m\u001b[39m\n",
      "\u001b[90m│   \u001b[39m %222 = (%221)(nV)\u001b[91m\u001b[1m::Any\u001b[22m\u001b[39m\n",
      "\u001b[90m│   \u001b[39m %223 = nEV\u001b[36m::SparseMatrixCSC{Int8, Int64}\u001b[39m\n",
      "\u001b[90m│   \u001b[39m %224 = Core.tuple(%222, %223, nFE)\u001b[91m\u001b[1m::Tuple{Any, SparseMatrixCSC{Int8, Int64}, SparseMatrixCSC{Int8, Int64}}\u001b[22m\u001b[39m\n",
      "\u001b[90m└───\u001b[39m        return %224\n",
      "\n"
     ]
    }
   ],
   "source": [
    "@code_warntype merge_vertices(Lar.Points(V),Lar.ChainOp(EV),Lar.ChainOp(FE),1e-8)"
   ]
  },
  {
   "cell_type": "markdown",
   "metadata": {},
   "source": [
    "# Ottimizzazione"
   ]
  },
  {
   "cell_type": "markdown",
   "metadata": {},
   "source": [
    "Inserendo la macro `@async` davanti agli opportuni cicli for, abbiamo ottenuto un codice che si comporta come una versione più veloce del codice precedente risparmiando circa un 30% del tempo di esecuzione."
   ]
  },
  {
   "cell_type": "code",
   "execution_count": 6,
   "metadata": {},
   "outputs": [
    {
     "data": {
      "text/plain": [
       "filter_fn (generic function with 1 method)"
      ]
     },
     "metadata": {},
     "output_type": "display_data"
    }
   ],
   "source": [
    "function filter_fn(face)\n",
    "    visited = []\n",
    "    verts = []\n",
    "    map(e->verts = union(verts, collect(e)), face)\n",
    "    verts = Set(verts)\n",
    " \n",
    "    if !(verts in visited)\n",
    "        push!(visited, verts)\n",
    "        return true\n",
    "    end\n",
    "    return false\n",
    "end"
   ]
  },
  {
   "cell_type": "code",
   "execution_count": 7,
   "metadata": {},
   "outputs": [
    {
     "data": {
      "text/plain": [
       "merge_vertices2 (generic function with 2 methods)"
      ]
     },
     "metadata": {},
     "output_type": "display_data"
    }
   ],
   "source": [
    "function merge_vertices2(V::Lar.Points, EV::Lar.ChainOp, FE::Lar.ChainOp, err=1e-4)\n",
    "    vertsnum = size(V, 1)\n",
    "    edgenum = size(EV, 1)\n",
    "    facenum = size(FE, 1)\n",
    "    newverts = zeros(Int, vertsnum)\n",
    "\n",
    "    # KDTree constructor needs an explicit array of Float64\n",
    "    V = Array{Float64,2}(V)\n",
    "    W = convert(Lar.Points, LinearAlgebra.transpose(V))\n",
    "    kdtree = KDTree(W)\n",
    "\n",
    "    # remove vertices congruent to a single representative\n",
    "    todelete = []\n",
    "    i = 1\n",
    "\n",
    "    for vi in 1:vertsnum #questo for non può essere parallelizzato\n",
    "        if !(vi in todelete)\n",
    "            nearvs = Lar.inrange(kdtree, V[vi, :], err)\n",
    "            newverts[nearvs] .= i\n",
    "            nearvs = setdiff(nearvs, vi)\n",
    "            todelete = union(todelete, nearvs)\n",
    "            i = i + 1\n",
    "        end\n",
    "    end\n",
    "    nV = V[setdiff(collect(1:vertsnum), todelete), :]\n",
    "    \n",
    "    # translate edges to take congruence into account\n",
    "    edges = Array{Tuple{Int, Int}, 1}(undef, edgenum)\n",
    "    oedges = Array{Tuple{Int, Int}, 1}(undef, edgenum)\n",
    "\n",
    "    for ei in 1:edgenum #questo for non può essere parallelizzato\n",
    "        v1, v2 = EV[ei, :].nzind\n",
    "        edges[ei] = Tuple{Int, Int}(sort([newverts[v1], newverts[v2]]))\n",
    "        oedges[ei] = Tuple{Int, Int}(sort([v1, v2]))\n",
    "    end\n",
    "\n",
    "    nedges = union(edges)\n",
    "    # remove edges of zero length\n",
    "    nedges = filter(t->t[1]!=t[2], nedges)\n",
    "    nedgenum = length(nedges)\n",
    "    nEV = spzeros(Int8, nedgenum, size(nV, 1))\n",
    " \n",
    "    etuple2idx = Dict{Tuple{Int, Int}, Int}()\n",
    "\n",
    "    for ei in 1:nedgenum #questo ciclo non può essere parallelizzato\n",
    "        begin\n",
    "            nEV[ei, collect(nedges[ei])] .= 1\n",
    "            nEV\n",
    "        end\n",
    "        etuple2idx[nedges[ei]] = ei\n",
    "    end\n",
    "    \n",
    "    #questo ciclo può essere parallelizzato ma non cambia il tempo per un numero di edge piccolo\n",
    "    @async for e in 1:nedgenum \n",
    "        v1,v2 = findnz(nEV[e,:])[1]\n",
    "        nEV[e,v1] = -1; nEV[e,v2] = 1\n",
    "    end\n",
    " \n",
    "    # compute new faces to take congruence into account\n",
    "    faces = [[\n",
    "        map(x->newverts[x], FE[fi, ei] > 0 ? oedges[ei] : reverse(oedges[ei]))\n",
    "        for ei in FE[fi, :].nzind\n",
    "    ] for fi in 1:facenum]\n",
    " \n",
    "    @inbounds nfaces = filter(filter_fn, faces)\n",
    " \n",
    "    nfacenum = length(nfaces)\n",
    "    nFE = spzeros(Int8, nfacenum, size(nEV, 1))\n",
    " \n",
    "    @async for fi in 1:nfacenum\n",
    "        @async for edge in nfaces[fi]\n",
    "            ei = etuple2idx[Tuple{Int, Int}(sort(collect(edge)))]\n",
    "            nFE[fi, ei] = sign(edge[2] - edge[1])\n",
    "        end\n",
    "    end\n",
    " \n",
    "    return Lar.Points(nV), nEV, nFE\n",
    " end"
   ]
  },
  {
   "cell_type": "code",
   "execution_count": 8,
   "metadata": {},
   "outputs": [
    {
     "name": "stdout",
     "output_type": "stream",
     "text": [
      "  35.300 μs (779 allocations: 56.56 KiB)\n"
     ]
    },
    {
     "data": {
      "text/plain": [
       "([0.0 0.0 0.0; 0.0 1.0 0.0; … ; 1.0 1.0 1.0; 1.0 0.0 1.0], sparse([1, 4, 5, 1, 2, 6, 2, 3, 7, 3  …  12, 6, 9, 10, 7, 10, 11, 8, 11, 12], [1, 1, 1, 2, 2, 2, 3, 3, 3, 4  …  5, 6, 6, 6, 7, 7, 7, 8, 8, 8], Int8[-1, -1, -1, 1, -1, -1, 1, -1, -1, 1  …  -1, 1, 1, -1, 1, 1, -1, 1, 1, 1], 12, 8), sparse([1, 3, 1, 4, 1, 5, 1, 6, 3, 6  …  5, 6, 2, 3, 2, 4, 2, 5, 2, 6], [1, 1, 2, 2, 3, 3, 4, 4, 5, 5  …  8, 8, 9, 9, 10, 10, 11, 11, 12, 12], Int8[1, -1, 1, -1, 1, -1, -1, 1, 1, -1  …  -1, 1, -1, 1, -1, 1, -1, 1, 1, -1], 6, 12))"
      ]
     },
     "metadata": {},
     "output_type": "display_data"
    }
   ],
   "source": [
    "@btime merge_vertices2(Lar.Points(V),Lar.ChainOp(EV),Lar.ChainOp(FE),1e-8)"
   ]
  },
  {
   "cell_type": "code",
   "execution_count": 9,
   "metadata": {},
   "outputs": [
    {
     "data": {
      "text/plain": [
       "BenchmarkTools.Trial: 10000 samples with 1 evaluation.\n",
       " Range \u001b[90m(\u001b[39m\u001b[36m\u001b[1mmin\u001b[22m\u001b[39m … \u001b[35mmax\u001b[39m\u001b[90m):  \u001b[39m\u001b[36m\u001b[1m39.200 μs\u001b[22m\u001b[39m … \u001b[35m 13.339 ms\u001b[39m  \u001b[90m┊\u001b[39m GC \u001b[90m(\u001b[39mmin … max\u001b[90m): \u001b[39m 0.00% … 99.16%\n",
       " Time  \u001b[90m(\u001b[39m\u001b[34m\u001b[1mmedian\u001b[22m\u001b[39m\u001b[90m):     \u001b[39m\u001b[34m\u001b[1m49.400 μs               \u001b[22m\u001b[39m\u001b[90m┊\u001b[39m GC \u001b[90m(\u001b[39mmedian\u001b[90m):    \u001b[39m 0.00%\n",
       " Time  \u001b[90m(\u001b[39m\u001b[32m\u001b[1mmean\u001b[22m\u001b[39m ± \u001b[32mσ\u001b[39m\u001b[90m):   \u001b[39m\u001b[32m\u001b[1m74.714 μs\u001b[22m\u001b[39m ± \u001b[32m368.686 μs\u001b[39m  \u001b[90m┊\u001b[39m GC \u001b[90m(\u001b[39mmean ± σ\u001b[90m):  \u001b[39m18.01% ±  3.68%\n",
       "\n",
       "  \u001b[39m▄\u001b[39m█\u001b[39m▇\u001b[39m▆\u001b[39m▅\u001b[39m▅\u001b[34m▄\u001b[39m\u001b[39m▄\u001b[39m▄\u001b[39m▅\u001b[39m▄\u001b[39m▄\u001b[39m▄\u001b[39m▄\u001b[39m▃\u001b[39m▃\u001b[39m▃\u001b[39m▃\u001b[39m▂\u001b[39m▂\u001b[39m▂\u001b[32m▂\u001b[39m\u001b[39m▁\u001b[39m▁\u001b[39m▁\u001b[39m▁\u001b[39m \u001b[39m▁\u001b[39m \u001b[39m \u001b[39m▁\u001b[39m \u001b[39m \u001b[39m \u001b[39m▁\u001b[39m▁\u001b[39m▁\u001b[39m▂\u001b[39m▁\u001b[39m▁\u001b[39m▁\u001b[39m▁\u001b[39m▂\u001b[39m▁\u001b[39m▁\u001b[39m▁\u001b[39m▁\u001b[39m▁\u001b[39m▁\u001b[39m▁\u001b[39m \u001b[39m▁\u001b[39m \u001b[39m \u001b[39m \u001b[39m \u001b[39m \u001b[39m \u001b[39m \u001b[39m \u001b[39m \u001b[39m▂\n",
       "  \u001b[39m█\u001b[39m█\u001b[39m█\u001b[39m█\u001b[39m█\u001b[39m█\u001b[34m█\u001b[39m\u001b[39m█\u001b[39m█\u001b[39m█\u001b[39m█\u001b[39m█\u001b[39m█\u001b[39m█\u001b[39m█\u001b[39m█\u001b[39m█\u001b[39m█\u001b[39m█\u001b[39m█\u001b[39m█\u001b[32m█\u001b[39m\u001b[39m█\u001b[39m█\u001b[39m█\u001b[39m█\u001b[39m█\u001b[39m█\u001b[39m█\u001b[39m█\u001b[39m█\u001b[39m█\u001b[39m█\u001b[39m█\u001b[39m█\u001b[39m█\u001b[39m█\u001b[39m█\u001b[39m█\u001b[39m█\u001b[39m█\u001b[39m█\u001b[39m█\u001b[39m█\u001b[39m█\u001b[39m█\u001b[39m█\u001b[39m█\u001b[39m█\u001b[39m█\u001b[39m█\u001b[39m█\u001b[39m█\u001b[39m█\u001b[39m█\u001b[39m█\u001b[39m▆\u001b[39m█\u001b[39m▆\u001b[39m▇\u001b[39m \u001b[39m█\n",
       "  39.2 μs\u001b[90m       \u001b[39m\u001b[90mHistogram: \u001b[39m\u001b[90m\u001b[1mlog(\u001b[22m\u001b[39m\u001b[90mfrequency\u001b[39m\u001b[90m\u001b[1m)\u001b[22m\u001b[39m\u001b[90m by time\u001b[39m       141 μs \u001b[0m\u001b[1m<\u001b[22m\n",
       "\n",
       " Memory estimate\u001b[90m: \u001b[39m\u001b[33m64.00 KiB\u001b[39m, allocs estimate\u001b[90m: \u001b[39m\u001b[33m920\u001b[39m."
      ]
     },
     "metadata": {},
     "output_type": "display_data"
    }
   ],
   "source": [
    "@benchmark merge_vertices(Lar.Points(V),Lar.ChainOp(EV),Lar.ChainOp(FE),1e-4)"
   ]
  },
  {
   "cell_type": "code",
   "execution_count": 10,
   "metadata": {},
   "outputs": [
    {
     "data": {
      "text/plain": [
       "BenchmarkTools.Trial: 10000 samples with 1 evaluation.\n",
       " Range \u001b[90m(\u001b[39m\u001b[36m\u001b[1mmin\u001b[22m\u001b[39m … \u001b[35mmax\u001b[39m\u001b[90m):  \u001b[39m\u001b[36m\u001b[1m34.700 μs\u001b[22m\u001b[39m … \u001b[35m94.229 ms\u001b[39m  \u001b[90m┊\u001b[39m GC \u001b[90m(\u001b[39mmin … max\u001b[90m): \u001b[39m 0.00% … 99.75%\n",
       " Time  \u001b[90m(\u001b[39m\u001b[34m\u001b[1mmedian\u001b[22m\u001b[39m\u001b[90m):     \u001b[39m\u001b[34m\u001b[1m54.600 μs              \u001b[22m\u001b[39m\u001b[90m┊\u001b[39m GC \u001b[90m(\u001b[39mmedian\u001b[90m):    \u001b[39m 0.00%\n",
       " Time  \u001b[90m(\u001b[39m\u001b[32m\u001b[1mmean\u001b[22m\u001b[39m ± \u001b[32mσ\u001b[39m\u001b[90m):   \u001b[39m\u001b[32m\u001b[1m99.073 μs\u001b[22m\u001b[39m ± \u001b[32m 1.576 ms\u001b[39m  \u001b[90m┊\u001b[39m GC \u001b[90m(\u001b[39mmean ± σ\u001b[90m):  \u001b[39m27.47% ±  1.73%\n",
       "\n",
       "  \u001b[39m \u001b[39m█\u001b[39m▅\u001b[39m▁\u001b[39m \u001b[39m \u001b[34m \u001b[39m\u001b[39m \u001b[39m \u001b[39m \u001b[39m \u001b[39m \u001b[39m \u001b[39m \u001b[39m \u001b[39m \u001b[39m \u001b[39m \u001b[39m \u001b[39m \u001b[39m \u001b[32m \u001b[39m\u001b[39m \u001b[39m \u001b[39m \u001b[39m \u001b[39m \u001b[39m \u001b[39m \u001b[39m \u001b[39m \u001b[39m \u001b[39m \u001b[39m \u001b[39m \u001b[39m \u001b[39m \u001b[39m \u001b[39m \u001b[39m \u001b[39m \u001b[39m \u001b[39m \u001b[39m \u001b[39m \u001b[39m \u001b[39m \u001b[39m \u001b[39m \u001b[39m \u001b[39m \u001b[39m \u001b[39m \u001b[39m \u001b[39m \u001b[39m \u001b[39m \u001b[39m \u001b[39m \u001b[39m \u001b[39m \n",
       "  \u001b[39m▅\u001b[39m█\u001b[39m█\u001b[39m█\u001b[39m█\u001b[39m▇\u001b[34m▆\u001b[39m\u001b[39m▆\u001b[39m▅\u001b[39m▄\u001b[39m▄\u001b[39m▃\u001b[39m▃\u001b[39m▂\u001b[39m▂\u001b[39m▂\u001b[39m▂\u001b[39m▂\u001b[39m▂\u001b[39m▂\u001b[39m▂\u001b[32m▃\u001b[39m\u001b[39m▂\u001b[39m▃\u001b[39m▃\u001b[39m▃\u001b[39m▂\u001b[39m▂\u001b[39m▂\u001b[39m▂\u001b[39m▂\u001b[39m▂\u001b[39m▂\u001b[39m▂\u001b[39m▂\u001b[39m▂\u001b[39m▁\u001b[39m▁\u001b[39m▁\u001b[39m▁\u001b[39m▁\u001b[39m▁\u001b[39m▁\u001b[39m▁\u001b[39m▁\u001b[39m▁\u001b[39m▁\u001b[39m▁\u001b[39m▁\u001b[39m▁\u001b[39m▁\u001b[39m▁\u001b[39m▁\u001b[39m▁\u001b[39m▁\u001b[39m▁\u001b[39m▁\u001b[39m▁\u001b[39m▁\u001b[39m \u001b[39m▂\n",
       "  34.7 μs\u001b[90m         Histogram: frequency by time\u001b[39m         218 μs \u001b[0m\u001b[1m<\u001b[22m\n",
       "\n",
       " Memory estimate\u001b[90m: \u001b[39m\u001b[33m56.56 KiB\u001b[39m, allocs estimate\u001b[90m: \u001b[39m\u001b[33m779\u001b[39m."
      ]
     },
     "metadata": {},
     "output_type": "display_data"
    }
   ],
   "source": [
    "@benchmark merge_vertices2(Lar.Points(V),Lar.ChainOp(EV),Lar.ChainOp(FE),1e-4)"
   ]
  }
 ],
 "metadata": {
  "kernelspec": {
   "display_name": "Julia 1.7.2",
   "language": "julia",
   "name": "julia-1.7"
  },
  "language_info": {
   "file_extension": ".jl",
   "mimetype": "application/julia",
   "name": "julia",
   "version": "1.7.2"
  }
 },
 "nbformat": 4,
 "nbformat_minor": 2
}
