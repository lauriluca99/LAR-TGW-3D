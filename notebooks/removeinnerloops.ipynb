{
 "cells": [
  {
   "cell_type": "code",
   "execution_count": 1,
   "metadata": {},
   "outputs": [
    {
     "data": {
      "text/plain": [
       "LinearAlgebraicRepresentation"
      ]
     },
     "execution_count": 1,
     "metadata": {},
     "output_type": "execute_result"
    }
   ],
   "source": [
    "using BenchmarkTools\n",
    "using SparseArrays\n",
    "using LinearAlgebraicRepresentation\n",
    "Lar = LinearAlgebraicRepresentation"
   ]
  },
  {
   "cell_type": "markdown",
   "metadata": {},
   "source": [
    "\n",
    "\tremoveinnerloops(g, nFE)\n",
    "\n",
    "Remove the faces within the inner loops from sparse matrix nFE.\n",
    "The return value has `g` less rows than the input `nFE`.\n"
   ]
  },
  {
   "cell_type": "code",
   "execution_count": 2,
   "metadata": {},
   "outputs": [
    {
     "data": {
      "text/plain": [
       "removeinnerloops (generic function with 1 method)"
      ]
     },
     "execution_count": 2,
     "metadata": {},
     "output_type": "execute_result"
    }
   ],
   "source": [
    "function removeinnerloops(g, nFE)\n",
    "\tFE = Lar.cop2lar(nFE)\n",
    "\tnFE = Lar.lar2cop(FE[1:end-g])\n",
    "end"
   ]
  },
  {
   "cell_type": "code",
   "execution_count": 5,
   "metadata": {},
   "outputs": [
    {
     "data": {
      "text/plain": [
       "6×12 SparseMatrixCSC{Int8, Int64} with 24 stored entries:\n",
       "  1   1   1  -1   ⋅   ⋅   ⋅   ⋅   ⋅   ⋅   ⋅   ⋅\n",
       "  ⋅   ⋅   ⋅   ⋅   ⋅   ⋅   ⋅   ⋅  -1  -1  -1   1\n",
       " -1   ⋅   ⋅   ⋅   1  -1   ⋅   ⋅   1   ⋅   ⋅   ⋅\n",
       "  ⋅  -1   ⋅   ⋅   ⋅   1  -1   ⋅   ⋅   1   ⋅   ⋅\n",
       "  ⋅   ⋅  -1   ⋅   ⋅   ⋅   1  -1   ⋅   ⋅   1   ⋅\n",
       "  ⋅   ⋅   ⋅   1  -1   ⋅   ⋅   1   ⋅   ⋅   ⋅  -1"
      ]
     },
     "execution_count": 5,
     "metadata": {},
     "output_type": "execute_result"
    }
   ],
   "source": [
    "FE = sparse(Int8[\n",
    "    1  1  1 -1  0  0  0  0  0  0  0  0;\n",
    "    0  0  0  0  0  0  0  0 -1 -1 -1  1;\n",
    "    -1  0  0  0  1 -1  0  0  1  0  0  0;\n",
    "    0 -1  0  0  0  1 -1  0  0  1  0  0;\n",
    "    0  0 -1  0  0  0  1 -1  0  0  1  0;\n",
    "    0  0  0  1 -1  0  0  1  0  0  0 -1;\n",
    "])"
   ]
  },
  {
   "cell_type": "code",
   "execution_count": 6,
   "metadata": {},
   "outputs": [
    {
     "name": "stdout",
     "output_type": "stream",
     "text": [
      "  2.600 μs (73 allocations: 5.92 KiB)\n"
     ]
    },
    {
     "data": {
      "text/plain": [
       "4×12 SparseMatrixCSC{Int8, Int64} with 16 stored entries:\n",
       " 1  1  1  1  ⋅  ⋅  ⋅  ⋅  ⋅  ⋅  ⋅  ⋅\n",
       " ⋅  ⋅  ⋅  ⋅  ⋅  ⋅  ⋅  ⋅  1  1  1  1\n",
       " 1  ⋅  ⋅  ⋅  1  1  ⋅  ⋅  1  ⋅  ⋅  ⋅\n",
       " ⋅  1  ⋅  ⋅  ⋅  1  1  ⋅  ⋅  1  ⋅  ⋅"
      ]
     },
     "execution_count": 6,
     "metadata": {},
     "output_type": "execute_result"
    }
   ],
   "source": [
    "@btime removeinnerloops(2, FE)"
   ]
  },
  {
   "cell_type": "code",
   "execution_count": 7,
   "metadata": {},
   "outputs": [
    {
     "name": "stdout",
     "output_type": "stream",
     "text": [
      "MethodInstance for removeinnerloops(::Int64, ::SparseMatrixCSC{Int8, Int64})\n",
      "  from removeinnerloops(g, nFE) in Main at In[2]:1\n",
      "Arguments\n",
      "  #self#\u001b[36m::Core.Const(removeinnerloops)\u001b[39m\n",
      "  g\u001b[36m::Int64\u001b[39m\n",
      "  nFE@_3\u001b[36m::SparseMatrixCSC{Int8, Int64}\u001b[39m\n",
      "Locals\n",
      "  FE\u001b[91m\u001b[1m::Any\u001b[22m\u001b[39m\n",
      "  nFE@_5\u001b[91m\u001b[1m::Any\u001b[22m\u001b[39m\n",
      "Body\u001b[91m\u001b[1m::Any\u001b[22m\u001b[39m\n",
      "\u001b[90m1 ─\u001b[39m       (nFE@_5 = nFE@_3)\n",
      "\u001b[90m│  \u001b[39m %2  = Base.getproperty(Main.Lar, :cop2lar)\u001b[91m\u001b[1m::Any\u001b[22m\u001b[39m\n",
      "\u001b[90m│  \u001b[39m       (FE = (%2)(nFE@_5::SparseMatrixCSC{Int8, Int64}))\n",
      "\u001b[90m│  \u001b[39m %4  = Base.getproperty(Main.Lar, :lar2cop)\u001b[91m\u001b[1m::Any\u001b[22m\u001b[39m\n",
      "\u001b[90m│  \u001b[39m %5  = FE\u001b[91m\u001b[1m::Any\u001b[22m\u001b[39m\n",
      "\u001b[90m│  \u001b[39m %6  = Base.lastindex(FE)\u001b[91m\u001b[1m::Any\u001b[22m\u001b[39m\n",
      "\u001b[90m│  \u001b[39m %7  = (%6 - g)\u001b[91m\u001b[1m::Any\u001b[22m\u001b[39m\n",
      "\u001b[90m│  \u001b[39m %8  = (1:%7)\u001b[91m\u001b[1m::Any\u001b[22m\u001b[39m\n",
      "\u001b[90m│  \u001b[39m %9  = Base.getindex(%5, %8)\u001b[91m\u001b[1m::Any\u001b[22m\u001b[39m\n",
      "\u001b[90m│  \u001b[39m %10 = (%4)(%9)\u001b[91m\u001b[1m::Any\u001b[22m\u001b[39m\n",
      "\u001b[90m│  \u001b[39m       (nFE@_5 = %10)\n",
      "\u001b[90m└──\u001b[39m       return %10\n",
      "\n"
     ]
    }
   ],
   "source": [
    "@code_warntype removeinnerloops(2, FE)"
   ]
  },
  {
   "cell_type": "markdown",
   "metadata": {},
   "source": [
    "# Ottimizzazione"
   ]
  },
  {
   "cell_type": "code",
   "execution_count": 37,
   "metadata": {},
   "outputs": [
    {
     "data": {
      "text/plain": [
       "removeinnerloops2 (generic function with 1 method)"
      ]
     },
     "execution_count": 37,
     "metadata": {},
     "output_type": "execute_result"
    }
   ],
   "source": [
    "function removeinnerloops2(g::Int64, nFE)\n",
    "\tFE::Vector{Vector{Int64}} = Lar.cop2lar(nFE)\n",
    "\tnFE::SparseMatrixCSC{Int8, Int64} = Lar.lar2cop(FE[1:end-g])\n",
    "\treturn nFE\n",
    "end"
   ]
  },
  {
   "cell_type": "code",
   "execution_count": 38,
   "metadata": {},
   "outputs": [
    {
     "name": "stdout",
     "output_type": "stream",
     "text": [
      "  2.622 μs (73 allocations: 5.94 KiB)\n"
     ]
    },
    {
     "data": {
      "text/plain": [
       "4×12 SparseMatrixCSC{Int8, Int64} with 16 stored entries:\n",
       " 1  1  1  1  ⋅  ⋅  ⋅  ⋅  ⋅  ⋅  ⋅  ⋅\n",
       " ⋅  ⋅  ⋅  ⋅  ⋅  ⋅  ⋅  ⋅  1  1  1  1\n",
       " 1  ⋅  ⋅  ⋅  1  1  ⋅  ⋅  1  ⋅  ⋅  ⋅\n",
       " ⋅  1  ⋅  ⋅  ⋅  1  1  ⋅  ⋅  1  ⋅  ⋅"
      ]
     },
     "execution_count": 38,
     "metadata": {},
     "output_type": "execute_result"
    }
   ],
   "source": [
    "@btime removeinnerloops2(2, FE)"
   ]
  },
  {
   "cell_type": "code",
   "execution_count": 39,
   "metadata": {},
   "outputs": [
    {
     "name": "stdout",
     "output_type": "stream",
     "text": [
      "MethodInstance for removeinnerloops2(::Int64, ::SparseMatrixCSC{Int8, Int64})\n",
      "  from removeinnerloops2(g::Int64, nFE) in Main at In[37]:1\n",
      "Arguments\n",
      "  #self#\u001b[36m::Core.Const(removeinnerloops2)\u001b[39m\n",
      "  g\u001b[36m::Int64\u001b[39m\n",
      "  nFE@_3\u001b[36m::SparseMatrixCSC{Int8, Int64}\u001b[39m\n",
      "Locals\n",
      "  FE\u001b[36m::Vector{Vector{Int64}}\u001b[39m\n",
      "  nFE@_5\u001b[36m::SparseMatrixCSC{Int8, Int64}\u001b[39m\n",
      "Body\u001b[36m::SparseMatrixCSC{Int8, Int64}\u001b[39m\n",
      "\u001b[90m1 ─\u001b[39m       (nFE@_5 = nFE@_3)\n",
      "\u001b[90m│  \u001b[39m %2  = Base.getproperty(Main.Lar, :cop2lar)\u001b[91m\u001b[1m::Any\u001b[22m\u001b[39m\n",
      "\u001b[90m│  \u001b[39m %3  = (%2)(nFE@_5)\u001b[91m\u001b[1m::Any\u001b[22m\u001b[39m\n",
      "\u001b[90m│  \u001b[39m %4  = Core.apply_type(Main.Vector, Main.Int64)\u001b[36m::Core.Const(Vector{Int64})\u001b[39m\n",
      "\u001b[90m│  \u001b[39m %5  = Core.apply_type(Main.Vector, %4)\u001b[36m::Core.Const(Vector{Vector{Int64}})\u001b[39m\n",
      "\u001b[90m│  \u001b[39m %6  = Base.convert(%5, %3)\u001b[91m\u001b[1m::Any\u001b[22m\u001b[39m\n",
      "\u001b[90m│  \u001b[39m       (FE = Core.typeassert(%6, %5))\n",
      "\u001b[90m│  \u001b[39m %8  = Base.getproperty(Main.Lar, :lar2cop)\u001b[91m\u001b[1m::Any\u001b[22m\u001b[39m\n",
      "\u001b[90m│  \u001b[39m %9  = FE\u001b[36m::Vector{Vector{Int64}}\u001b[39m\n",
      "\u001b[90m│  \u001b[39m %10 = Base.lastindex(FE)\u001b[36m::Int64\u001b[39m\n",
      "\u001b[90m│  \u001b[39m %11 = (%10 - g)\u001b[36m::Int64\u001b[39m\n",
      "\u001b[90m│  \u001b[39m %12 = (1:%11)\u001b[36m::Core.PartialStruct(UnitRange{Int64}, Any[Core.Const(1), Int64])\u001b[39m\n",
      "\u001b[90m│  \u001b[39m %13 = Base.getindex(%9, %12)\u001b[36m::Vector{Vector{Int64}}\u001b[39m\n",
      "\u001b[90m│  \u001b[39m %14 = (%8)(%13)\u001b[91m\u001b[1m::Any\u001b[22m\u001b[39m\n",
      "\u001b[90m│  \u001b[39m %15 = Core.apply_type(Main.SparseMatrixCSC, Main.Int8, Main.Int64)\u001b[36m::Core.Const(SparseMatrixCSC{Int8, Int64})\u001b[39m\n",
      "\u001b[90m│  \u001b[39m %16 = Base.convert(%15, %14)\u001b[91m\u001b[1m::Any\u001b[22m\u001b[39m\n",
      "\u001b[90m│  \u001b[39m       (nFE@_5 = Core.typeassert(%16, %15))\n",
      "\u001b[90m└──\u001b[39m       return nFE@_5\n",
      "\n"
     ]
    }
   ],
   "source": [
    "@code_warntype removeinnerloops2(2, FE)"
   ]
  },
  {
   "cell_type": "code",
   "execution_count": null,
   "metadata": {},
   "outputs": [],
   "source": []
  }
 ],
 "metadata": {
  "kernelspec": {
   "display_name": "Julia 1.7.2",
   "language": "julia",
   "name": "julia-1.7"
  },
  "language_info": {
   "file_extension": ".jl",
   "mimetype": "application/julia",
   "name": "julia",
   "version": "1.7.2"
  }
 },
 "nbformat": 4,
 "nbformat_minor": 2
}
