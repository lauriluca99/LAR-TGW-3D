{
 "cells": [
  {
   "cell_type": "code",
   "execution_count": 1,
   "metadata": {},
   "outputs": [
    {
     "data": {
      "text/plain": [
       "LinearAlgebraicRepresentation"
      ]
     },
     "execution_count": 1,
     "metadata": {},
     "output_type": "execute_result"
    }
   ],
   "source": [
    "using BenchmarkTools\n",
    "using SparseArrays\n",
    "using LinearAlgebraicRepresentation\n",
    "Lar=LinearAlgebraicRepresentation"
   ]
  },
  {
   "cell_type": "markdown",
   "metadata": {},
   "source": [
    "spatial_arrangement(\n",
    "    V::Points, \n",
    "    copEV::ChainOp, \n",
    "    copFE::ChainOp; \n",
    "    [multiproc::Bool])\n",
    "\n",
    "Compute the arrangement on the given cellular complex 2-skeleton in 3D.\n",
    "\n",
    "A cellular complex is arranged when the intersection of every possible pair of cell\n",
    "of the complex is empty and the union of all the cells is the whole Euclidean space.\n",
    "The function returns the full arranged complex as a list of vertices V and a chain of borders EV, FE, CF.\n",
    "\n",
    "##### Additional arguments:\n",
    "- `multiproc::Bool`: Runs the computation in parallel mode. Defaults to `false`."
   ]
  },
  {
   "cell_type": "code",
   "execution_count": 2,
   "metadata": {},
   "outputs": [
    {
     "data": {
      "text/plain": [
       "spatial_arrangement (generic function with 2 methods)"
      ]
     },
     "execution_count": 2,
     "metadata": {},
     "output_type": "execute_result"
    }
   ],
   "source": [
    "function spatial_arrangement(\n",
    "\t\tV::Lar.Points, # by rows\n",
    "\t\tcopEV::Lar.ChainOp,\n",
    "\t\tcopFE::Lar.ChainOp, \n",
    "\t\tmultiproc::Bool=false)\n",
    "\n",
    "\t# face subdivision\n",
    "\trV, rcopEV, rcopFE = Lar.Arrangement.spatial_arrangement_1( V,copEV,copFE,multiproc )\n",
    "\n",
    "\tbicon_comps = Lar.Arrangement.biconnected_components(rcopEV)\n",
    "\n",
    "\trV, rEV, rFE, rCF = Lar.Arrangement.spatial_arrangement_2(rV, rcopEV, rcopFE)\n",
    "end"
   ]
  },
  {
   "cell_type": "code",
   "execution_count": 3,
   "metadata": {},
   "outputs": [
    {
     "data": {
      "text/plain": [
       "6×12 SparseMatrixCSC{Int8, Int64} with 24 stored entries:\n",
       "  1   1   1  -1   ⋅   ⋅   ⋅   ⋅   ⋅   ⋅   ⋅   ⋅\n",
       "  ⋅   ⋅   ⋅   ⋅   ⋅   ⋅   ⋅   ⋅  -1  -1  -1   1\n",
       " -1   ⋅   ⋅   ⋅   1  -1   ⋅   ⋅   1   ⋅   ⋅   ⋅\n",
       "  ⋅  -1   ⋅   ⋅   ⋅   1  -1   ⋅   ⋅   1   ⋅   ⋅\n",
       "  ⋅   ⋅  -1   ⋅   ⋅   ⋅   1  -1   ⋅   ⋅   1   ⋅\n",
       "  ⋅   ⋅   ⋅   1  -1   ⋅   ⋅   1   ⋅   ⋅   ⋅  -1"
      ]
     },
     "execution_count": 3,
     "metadata": {},
     "output_type": "execute_result"
    }
   ],
   "source": [
    "V = Float64[\n",
    "        0 0 0; 0 1 0;\n",
    "        1 1 0; 1 0 0;\n",
    "        0 0 1; 0 1 1;\n",
    "        1 1 1; 1 0 1\n",
    "    ]\n",
    "\n",
    "EV = sparse(Int8[\n",
    "    -1  1  0  0  0  0  0  0;\n",
    "    0 -1  1  0  0  0  0  0;\n",
    "    0  0 -1  1  0  0  0  0;\n",
    "    -1  0  0  1  0  0  0  0;\n",
    "    -1  0  0  0  1  0  0  0;\n",
    "    0 -1  0  0  0  1  0  0;\n",
    "    0  0 -1  0  0  0  1  0;\n",
    "    0  0  0 -1  0  0  0  1;\n",
    "    0  0  0  0 -1  1  0  0;\n",
    "    0  0  0  0  0 -1  1  0;\n",
    "    0  0  0  0  0  0 -1  1;\n",
    "    0  0  0  0 -1  0  0  1;\n",
    "])\n",
    "\n",
    "FE = sparse(Int8[\n",
    "    1  1  1 -1  0  0  0  0  0  0  0  0;\n",
    "    0  0  0  0  0  0  0  0 -1 -1 -1  1;\n",
    "    -1  0  0  0  1 -1  0  0  1  0  0  0;\n",
    "    0 -1  0  0  0  1 -1  0  0  1  0  0;\n",
    "    0  0 -1  0  0  0  1 -1  0  0  1  0;\n",
    "    0  0  0  1 -1  0  0  1  0  0  0 -1;\n",
    "])"
   ]
  },
  {
   "cell_type": "code",
   "execution_count": null,
   "metadata": {},
   "outputs": [],
   "source": [
    "spatial_arrangement(Lar.Points(V),Lar.ChainOp(EV),Lar.ChainOp(FE),false)"
   ]
  },
  {
   "cell_type": "code",
   "execution_count": null,
   "metadata": {},
   "outputs": [],
   "source": [
    "spatial_arrangement(Lar.Points(V),Lar.ChainOp(EV),Lar.ChainOp(FE),true)"
   ]
  },
  {
   "cell_type": "code",
   "execution_count": null,
   "metadata": {},
   "outputs": [],
   "source": []
  }
 ],
 "metadata": {
  "interpreter": {
   "hash": "80a4484cb3b1058387544cd0f4eae71f8110b99b8fb48463c96681bb09c2fd3c"
  },
  "kernelspec": {
   "display_name": "Julia 1.7.2",
   "language": "julia",
   "name": "julia-1.7"
  },
  "language_info": {
   "file_extension": ".jl",
   "mimetype": "application/julia",
   "name": "julia",
   "version": "1.7.2"
  }
 },
 "nbformat": 4,
 "nbformat_minor": 2
}
