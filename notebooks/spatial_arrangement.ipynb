{
 "cells": [
  {
   "cell_type": "markdown",
   "metadata": {},
   "source": [
    "### Progetto 8b\n",
    "Luca Maria Lauricella 519997\n",
    "\n",
    "Valerio Marini 512489\n",
    "\n",
    "Repository del progetto:\n",
    "https://github.com/lauriluca99/TGW-3D.jl\n",
    "\n",
    "Documentazione del progetto:\n",
    "https://lauriluca99.github.io/TGW-3D.jl"
   ]
  },
  {
   "cell_type": "code",
   "execution_count": 1,
   "metadata": {},
   "outputs": [
    {
     "data": {
      "text/plain": [
       "SparseMatrixCSC{Int8, Int64}"
      ]
     },
     "execution_count": 1,
     "metadata": {},
     "output_type": "execute_result"
    }
   ],
   "source": [
    "using BenchmarkTools\n",
    "using SparseArrays\n",
    "using NearestNeighbors\n",
    "using LinearAlgebra\n",
    "using LinearAlgebraicRepresentation\n",
    "Lar=LinearAlgebraicRepresentation\n",
    "\n",
    "const Points = Matrix\n",
    "const ChainOp = SparseArrays.SparseMatrixCSC{Int8,Int}"
   ]
  },
  {
   "cell_type": "markdown",
   "metadata": {},
   "source": [
    "    function spatial_arrangement(\n",
    "            V::Points, \n",
    "            copEV::ChainOp, \n",
    "            copFE::ChainOp; \n",
    "            [multiproc::Bool])\n",
    "Calcola la disposizione sulle cellule complesse 2-skeleton date\tin 3D.\n",
    "\t\t\t\t\t\t\t\t\t\t\t\t\t\t\n",
    "Un complesso cellulare è disposto quando l'intersezione di ogni coppia di celle\n",
    "del complesso è vuota e l'unione di tutte le celle rappresenta l'intero spazio Euclideo.\n",
    "La funzione ritorna la piena disposizione complessa come una lista di vertici V e una catena di lati EV, FE, CF.\n",
    "#### Argomenti addizionali:\n",
    "- `multiproc::Bool`: Esegue la computazione in modalità parallela. Di Default a `false`."
   ]
  },
  {
   "cell_type": "markdown",
   "metadata": {},
   "source": [
    "# CODICE COMPLETO"
   ]
  },
  {
   "cell_type": "code",
   "execution_count": 2,
   "metadata": {},
   "outputs": [
    {
     "data": {
      "text/plain": [
       "frag_face (generic function with 1 method)"
      ]
     },
     "execution_count": 2,
     "metadata": {},
     "output_type": "execute_result"
    }
   ],
   "source": [
    "function frag_face(V::Points, EV::ChainOp, FE::ChainOp, \n",
    "    sp_idx::Vector{Vector{Int64}}, sigma::Int64)\n",
    "\n",
    "    vs_num::Int64 = size(V, 1)\n",
    "    \n",
    "\t# 2D transformation of sigma face\n",
    "    sigmavs::Vector{Int64} = (abs.(FE[sigma:sigma,:])*abs.(EV))[1,:].nzind\n",
    "    \n",
    "    sV::Points = V[sigmavs, :]\n",
    "    sEV::ChainOp = EV[FE[sigma, :].nzind, sigmavs]\n",
    "    M::Points = Lar.Arrangement.submanifold_mapping(sV)\n",
    "    @views tV::Points = ([V ones(vs_num)]*M)[:, 1:3]\n",
    "    sV = tV[sigmavs, :]\n",
    "    \n",
    "    # sigma face intersection with faces in sp_idx[sigma]\n",
    "    @async for i in sp_idx[sigma]\n",
    "        tmpV::Points, tmpEV::ChainOp = Lar.Arrangement.face_int(tV, EV, FE[i, :])\n",
    "        sV, sEV = Lar.skel_merge(sV, sEV, tmpV, tmpEV)\n",
    "    end\n",
    "\n",
    "    # computation of 2D arrangement of sigma face\n",
    "    @views sV = sV[:, 1:2]\n",
    "    nV::Points, nEV::ChainOp, nFE::ChainOp = Lar.Arrangement.planar_arrangement(sV, sEV, sparsevec(ones(Int8, length(sigmavs))))\n",
    "    \n",
    "    nvsize::Int64 = size(nV, 1)\n",
    "    @views nV = [nV zeros(nvsize) ones(nvsize)]*inv(M)[:, 1:3]\n",
    "    \n",
    "    return nV, nEV, nFE\n",
    "end"
   ]
  },
  {
   "cell_type": "code",
   "execution_count": 3,
   "metadata": {},
   "outputs": [
    {
     "data": {
      "text/plain": [
       "filter_fn (generic function with 1 method)"
      ]
     },
     "execution_count": 3,
     "metadata": {},
     "output_type": "execute_result"
    }
   ],
   "source": [
    "function filter_fn(face)\n",
    "    visited = []\n",
    "    verts = []\n",
    "    map(e->verts = union(verts, collect(e)), face)\n",
    "    verts = Set(verts)\n",
    " \n",
    "    if !(verts in visited)\n",
    "        push!(visited, verts)\n",
    "        return true\n",
    "    end\n",
    "    return false\n",
    "end"
   ]
  },
  {
   "cell_type": "code",
   "execution_count": 4,
   "metadata": {},
   "outputs": [
    {
     "data": {
      "text/plain": [
       "merge_vertices (generic function with 2 methods)"
      ]
     },
     "execution_count": 4,
     "metadata": {},
     "output_type": "execute_result"
    }
   ],
   "source": [
    "function merge_vertices(V::Points, EV::ChainOp, FE::ChainOp, err=1e-4)\n",
    "    vertsnum = size(V, 1)\n",
    "    edgenum = size(EV, 1)\n",
    "    facenum = size(FE, 1)\n",
    "    newverts = zeros(Int, vertsnum)\n",
    "\n",
    "    # KDTree constructor needs an explicit array of Float64\n",
    "    V = Array{Float64,2}(V)\n",
    "    W = convert(Points, LinearAlgebra.transpose(V))\n",
    "    kdtree = KDTree(W)\n",
    "\n",
    "    # remove vertices congruent to a single representative\n",
    "    todelete = []\n",
    "    i = 1\n",
    "\n",
    "    for vi in 1:vertsnum #questo for non può essere parallelizzato\n",
    "        if !(vi in todelete)\n",
    "            nearvs = Lar.inrange(kdtree, V[vi, :], err)\n",
    "            newverts[nearvs] .= i\n",
    "            nearvs = setdiff(nearvs, vi)\n",
    "            todelete = union(todelete, nearvs)\n",
    "            i = i + 1\n",
    "        end\n",
    "    end\n",
    "    nV = V[setdiff(collect(1:vertsnum), todelete), :]\n",
    "    \n",
    "    # translate edges to take congruence into account\n",
    "    edges = Array{Tuple{Int, Int}, 1}(undef, edgenum)\n",
    "    oedges = Array{Tuple{Int, Int}, 1}(undef, edgenum)\n",
    "\n",
    "    for ei in 1:edgenum #questo for non può essere parallelizzato\n",
    "        v1, v2 = EV[ei, :].nzind\n",
    "        edges[ei] = Tuple{Int, Int}(sort([newverts[v1], newverts[v2]]))\n",
    "        oedges[ei] = Tuple{Int, Int}(sort([v1, v2]))\n",
    "    end\n",
    "\n",
    "    nedges = union(edges)\n",
    "    # remove edges of zero length\n",
    "    nedges = filter(t->t[1]!=t[2], nedges)\n",
    "    nedgenum = length(nedges)\n",
    "    nEV = spzeros(Int8, nedgenum, size(nV, 1))\n",
    " \n",
    "    etuple2idx = Dict{Tuple{Int, Int}, Int}()\n",
    "\n",
    "    for ei in 1:nedgenum #questo ciclo non può essere parallelizzato\n",
    "        begin\n",
    "            nEV[ei, collect(nedges[ei])] .= 1\n",
    "            nEV\n",
    "        end\n",
    "        etuple2idx[nedges[ei]] = ei\n",
    "    end\n",
    "    \n",
    "    #questo ciclo può essere parallelizzato ma non cambia il tempo per un numero di edge piccolo\n",
    "    @async for e in 1:nedgenum \n",
    "        v1,v2 = findnz(nEV[e,:])[1]\n",
    "        nEV[e,v1] = -1; nEV[e,v2] = 1\n",
    "    end\n",
    " \n",
    "    # compute new faces to take congruence into account\n",
    "    faces = [[\n",
    "        map(x->newverts[x], FE[fi, ei] > 0 ? oedges[ei] : reverse(oedges[ei]))\n",
    "        for ei in FE[fi, :].nzind\n",
    "    ] for fi in 1:facenum]\n",
    " \n",
    "    @inbounds nfaces = filter(filter_fn, faces)\n",
    " \n",
    "    nfacenum = length(nfaces)\n",
    "    nFE = spzeros(Int8, nfacenum, size(nEV, 1))\n",
    " \n",
    "    @async for fi in 1:nfacenum\n",
    "        @async for edge in nfaces[fi]\n",
    "            ei = etuple2idx[Tuple{Int, Int}(sort(collect(edge)))]\n",
    "            nFE[fi, ei] = sign(edge[2] - edge[1])\n",
    "        end\n",
    "    end\n",
    " \n",
    "    return Points(nV), nEV, nFE\n",
    " end"
   ]
  },
  {
   "cell_type": "code",
   "execution_count": 5,
   "metadata": {},
   "outputs": [
    {
     "data": {
      "text/plain": [
       "removeinnerloops (generic function with 1 method)"
      ]
     },
     "execution_count": 5,
     "metadata": {},
     "output_type": "execute_result"
    }
   ],
   "source": [
    "function removeinnerloops(g::Int64, nFE::ChainOp)\n",
    "\tFE::Vector{Vector{Int64}} = Lar.cop2lar(nFE)\n",
    "\tnFE::ChainOp = Lar.lar2cop(FE[1:end-g])\n",
    "\treturn nFE\n",
    "end"
   ]
  },
  {
   "cell_type": "code",
   "execution_count": 6,
   "metadata": {},
   "outputs": [
    {
     "data": {
      "text/plain": [
       "spatial_arrangement_1 (generic function with 2 methods)"
      ]
     },
     "execution_count": 6,
     "metadata": {},
     "output_type": "execute_result"
    }
   ],
   "source": [
    "function spatial_arrangement_1(\n",
    "    V::Points,\n",
    "    copEV::ChainOp,\n",
    "    copFE::ChainOp, multiproc::Bool=false)\n",
    "\n",
    "# spaceindex computation\n",
    "FV = Lar.compute_FV( copEV, copFE )\n",
    "model = (convert(Points,V'), FV)\n",
    "sp_idx = Lar.spaceindex(model)\n",
    "\n",
    "# initializations\n",
    "fs_num = size(copFE, 1)\n",
    "rV = Array{Float64,2}(undef,0,3)\n",
    "rEV = SparseArrays.spzeros(Int8,0,0)\n",
    "rFE = SparseArrays.spzeros(Int8,0,0)\n",
    "# sequential (iterative) processing of face fragmentation\n",
    "     for sigma in 1:fs_num\n",
    "        #print(sigma, \"/\", fs_num, \"\\r\")\n",
    "        nV, nEV, nFE = frag_face(V, copEV, copFE, sp_idx, sigma)\n",
    "        #nV, nEV, nFE = Lar.fragface(V, copEV, copFE, sp_idx, sigma)\n",
    "        nV = convert(Points, nV)\n",
    "        rV, rEV, rFE = Lar.skel_merge( rV,rEV,rFE,  nV,nEV,nFE )\n",
    "        #rV=a;  rEV=b;  rFE=c\n",
    "    end\n",
    "# merging of close vertices, edges and faces (3D congruence)\n",
    "rV, rEV, rFE = merge_vertices(rV, rEV, rFE)\n",
    "return rV, rEV, rFE\n",
    "end"
   ]
  },
  {
   "cell_type": "code",
   "execution_count": 7,
   "metadata": {},
   "outputs": [
    {
     "data": {
      "text/plain": [
       "face_angle (generic function with 1 method)"
      ]
     },
     "execution_count": 7,
     "metadata": {},
     "output_type": "execute_result"
    }
   ],
   "source": [
    "function face_angle(e::Int, f::Int)\n",
    "\n",
    "    edge_vs = EV[e, :].nzind\n",
    "\n",
    "    t = findfirst(x->edge_vs[1] in x && edge_vs[2] in x, triangulated_faces[f])\n",
    "\n",
    "    v1 = normalize(V[edge_vs[2], :] - V[edge_vs[1], :])\n",
    "\n",
    "    if abs(v1[1]) > abs(v1[2])\n",
    "        invlen = 1. / sqrt(v1[1]*v1[1] + v1[3]*v1[3])\n",
    "        v2 = [-v1[3]*invlen, 0, v1[1]*invlen]\n",
    "    else\n",
    "        invlen = 1. / sqrt(v1[2]*v1[2] + v1[3]*v1[3])\n",
    "        v2 = [0, -v1[3]*invlen, v1[2]*invlen]\n",
    "    end\n",
    "\n",
    "    v3 = cross(v1, v2)\n",
    "\n",
    "    M = reshape([v1; v2; v3], 3, 3)\n",
    "\n",
    "    triangle = triangulated_faces[f][t]\n",
    "    third_v = setdiff(triangle, edge_vs)[1]\n",
    "    vs = V[[edge_vs..., third_v], :]*M\n",
    "\n",
    "    v = vs[3, :] - vs[1, :]\n",
    "    angle = atan(v[2], v[3])\n",
    "    return angle\n",
    "end"
   ]
  },
  {
   "cell_type": "code",
   "execution_count": 8,
   "metadata": {},
   "outputs": [
    {
     "data": {
      "text/plain": [
       "minimal_3cycles (generic function with 1 method)"
      ]
     },
     "execution_count": 8,
     "metadata": {},
     "output_type": "execute_result"
    }
   ],
   "source": [
    "function minimal_3cycles(V::Points, EV::ChainOp, FE::ChainOp)\n",
    "\n",
    "\ttriangulated_faces = Array{Any, 1}(undef, FE.m)\n",
    "\n",
    "    #EF = FE'\n",
    "    EF::ChainOp = convert(ChainOp, LinearAlgebra.transpose(FE))\n",
    "\tFC::ChainOp = Lar.Arrangement.minimal_cycles(face_angle, true)(V, EF)\n",
    "\n",
    "\t#FC'\n",
    "    return -convert(ChainOp, LinearAlgebra.transpose(FC))\n",
    "end"
   ]
  },
  {
   "cell_type": "code",
   "execution_count": 9,
   "metadata": {},
   "outputs": [
    {
     "data": {
      "text/plain": [
       "spatial_arrangement_2 (generic function with 2 methods)"
      ]
     },
     "execution_count": 9,
     "metadata": {},
     "output_type": "execute_result"
    }
   ],
   "source": [
    "function spatial_arrangement_2(\n",
    "    rV::Points,\n",
    "    rcopEV::ChainOp,\n",
    "    rcopFE::ChainOp, \n",
    "    multiproc::Bool=false)\n",
    "\n",
    "#rcopCF = Lar.build_copFC(rV, rcopEV, rcopFE)  ######\n",
    "rcopCF::ChainOp = minimal_3cycles(rV, rcopEV, rcopFE)\n",
    "\n",
    "return rV, rcopEV, rcopFE, rcopCF\n",
    "end"
   ]
  },
  {
   "cell_type": "code",
   "execution_count": 10,
   "metadata": {},
   "outputs": [
    {
     "data": {
      "text/plain": [
       "spatial_arrangement (generic function with 2 methods)"
      ]
     },
     "execution_count": 10,
     "metadata": {},
     "output_type": "execute_result"
    }
   ],
   "source": [
    "function spatial_arrangement(\n",
    "    V::Points, # by rows\n",
    "    copEV::ChainOp,\n",
    "    copFE::ChainOp, \n",
    "    multiproc::Bool=false)\n",
    "\n",
    "# face subdivision\n",
    "rV::Points, rcopEV::ChainOp, rcopFE::ChainOp = spatial_arrangement_1( V,copEV,copFE,multiproc )\n",
    "\n",
    "bicon_comps = Lar.Arrangement.biconnected_components(rcopEV)\n",
    "\n",
    "rV, rEV::ChainOp, rFE::ChainOp, rCF::ChainOp = spatial_arrangement_2(rV, rcopEV, rcopFE)\n",
    "end"
   ]
  },
  {
   "cell_type": "code",
   "execution_count": 11,
   "metadata": {},
   "outputs": [
    {
     "data": {
      "text/plain": [
       "6×12 SparseMatrixCSC{Int8, Int64} with 24 stored entries:\n",
       "  1   1   1  -1   ⋅   ⋅   ⋅   ⋅   ⋅   ⋅   ⋅   ⋅\n",
       "  ⋅   ⋅   ⋅   ⋅   ⋅   ⋅   ⋅   ⋅  -1  -1  -1   1\n",
       " -1   ⋅   ⋅   ⋅   1  -1   ⋅   ⋅   1   ⋅   ⋅   ⋅\n",
       "  ⋅  -1   ⋅   ⋅   ⋅   1  -1   ⋅   ⋅   1   ⋅   ⋅\n",
       "  ⋅   ⋅  -1   ⋅   ⋅   ⋅   1  -1   ⋅   ⋅   1   ⋅\n",
       "  ⋅   ⋅   ⋅   1  -1   ⋅   ⋅   1   ⋅   ⋅   ⋅  -1"
      ]
     },
     "execution_count": 11,
     "metadata": {},
     "output_type": "execute_result"
    }
   ],
   "source": [
    "V = Float64[\n",
    "        0 0 0; 0 1 0;\n",
    "        1 1 0; 1 0 0;\n",
    "        0 0 1; 0 1 1;\n",
    "        1 1 1; 1 0 1\n",
    "]\n",
    "\n",
    "EV = sparse(Int8[\n",
    "        -1  1  0  0  0  0  0  0;\n",
    "        0 -1  1  0  0  0  0  0;\n",
    "        0  0 -1  1  0  0  0  0;\n",
    "        -1  0  0  1  0  0  0  0;\n",
    "        -1  0  0  0  1  0  0  0;\n",
    "        0 -1  0  0  0  1  0  0;\n",
    "        0  0 -1  0  0  0  1  0;\n",
    "        0  0  0 -1  0  0  0  1;\n",
    "        0  0  0  0 -1  1  0  0;\n",
    "        0  0  0  0  0 -1  1  0;\n",
    "        0  0  0  0  0  0 -1  1;\n",
    "        0  0  0  0 -1  0  0  1;\n",
    "])\n",
    "\n",
    "FE = sparse(Int8[\n",
    "        1  1  1 -1  0  0  0  0  0  0  0  0;\n",
    "        0  0  0  0  0  0  0  0 -1 -1 -1  1;\n",
    "        -1  0  0  0  1 -1  0  0  1  0  0  0;\n",
    "        0 -1  0  0  0  1 -1  0  0  1  0  0;\n",
    "        0  0 -1  0  0  0  1 -1  0  0  1  0;\n",
    "        0  0  0  1 -1  0  0  1  0  0  0 -1;\n",
    "])"
   ]
  },
  {
   "cell_type": "code",
   "execution_count": 12,
   "metadata": {},
   "outputs": [],
   "source": [
    "#funzione originale della liberia LAR, non funziona su Windows\n",
    "#@benchmark Lar.Arrangement.spatial_arrangement(Points(V),ChainOp(EV),ChainOp(FE),false)"
   ]
  },
  {
   "cell_type": "markdown",
   "metadata": {},
   "source": [
    "# Ottimizzazione\n",
    "Stabilizzando i tipi delle variabili e parallelizzando le funzioni merge_vertices e frag_face abbiamo ottenuto un codice che si comporta come una versione più veloce del codice precedente risparmiando circa un 40% del tempo di esecuzione."
   ]
  },
  {
   "cell_type": "code",
   "execution_count": 13,
   "metadata": {},
   "outputs": [
    {
     "name": "stdout",
     "output_type": "stream",
     "text": [
      "91%%%%%%%%%%%%\r"
     ]
    },
    {
     "data": {
      "text/plain": [
       "BenchmarkTools.Trial: 1478 samples with 1 evaluation.\n",
       " Range \u001b[90m(\u001b[39m\u001b[36m\u001b[1mmin\u001b[22m\u001b[39m … \u001b[35mmax\u001b[39m\u001b[90m):  \u001b[39m\u001b[36m\u001b[1m2.392 ms\u001b[22m\u001b[39m … \u001b[35m30.884 ms\u001b[39m  \u001b[90m┊\u001b[39m GC \u001b[90m(\u001b[39mmin … max\u001b[90m): \u001b[39m 0.00% … 81.14%\n",
       " Time  \u001b[90m(\u001b[39m\u001b[34m\u001b[1mmedian\u001b[22m\u001b[39m\u001b[90m):     \u001b[39m\u001b[34m\u001b[1m2.843 ms              \u001b[22m\u001b[39m\u001b[90m┊\u001b[39m GC \u001b[90m(\u001b[39mmedian\u001b[90m):    \u001b[39m 0.00%\n",
       " Time  \u001b[90m(\u001b[39m\u001b[32m\u001b[1mmean\u001b[22m\u001b[39m ± \u001b[32mσ\u001b[39m\u001b[90m):   \u001b[39m\u001b[32m\u001b[1m3.375 ms\u001b[22m\u001b[39m ± \u001b[32m 2.406 ms\u001b[39m  \u001b[90m┊\u001b[39m GC \u001b[90m(\u001b[39mmean ± σ\u001b[90m):  \u001b[39m11.76% ± 13.74%\n",
       "\n",
       "  \u001b[39m█\u001b[39m█\u001b[34m█\u001b[39m\u001b[39m▆\u001b[39m▄\u001b[32m▄\u001b[39m\u001b[39m▃\u001b[39m▂\u001b[39m \u001b[39m \u001b[39m \u001b[39m \u001b[39m \u001b[39m \u001b[39m \u001b[39m \u001b[39m \u001b[39m \u001b[39m \u001b[39m \u001b[39m \u001b[39m \u001b[39m \u001b[39m \u001b[39m \u001b[39m \u001b[39m \u001b[39m \u001b[39m \u001b[39m \u001b[39m \u001b[39m \u001b[39m \u001b[39m \u001b[39m \u001b[39m \u001b[39m \u001b[39m \u001b[39m \u001b[39m \u001b[39m \u001b[39m \u001b[39m \u001b[39m \u001b[39m \u001b[39m \u001b[39m \u001b[39m \u001b[39m \u001b[39m \u001b[39m \u001b[39m \u001b[39m \u001b[39m \u001b[39m \u001b[39m \u001b[39m \u001b[39m \u001b[39m \u001b[39m \n",
       "  \u001b[39m█\u001b[39m█\u001b[34m█\u001b[39m\u001b[39m█\u001b[39m█\u001b[32m█\u001b[39m\u001b[39m█\u001b[39m█\u001b[39m█\u001b[39m█\u001b[39m▅\u001b[39m▇\u001b[39m▆\u001b[39m▇\u001b[39m▅\u001b[39m▅\u001b[39m▄\u001b[39m▁\u001b[39m▁\u001b[39m▁\u001b[39m▁\u001b[39m▄\u001b[39m▁\u001b[39m▁\u001b[39m▁\u001b[39m▁\u001b[39m▁\u001b[39m▁\u001b[39m▁\u001b[39m▁\u001b[39m▁\u001b[39m▁\u001b[39m▁\u001b[39m▁\u001b[39m▁\u001b[39m▁\u001b[39m▄\u001b[39m▄\u001b[39m▁\u001b[39m▁\u001b[39m▁\u001b[39m▁\u001b[39m▄\u001b[39m▄\u001b[39m▁\u001b[39m▅\u001b[39m▄\u001b[39m▅\u001b[39m▅\u001b[39m▅\u001b[39m▆\u001b[39m▅\u001b[39m▁\u001b[39m▇\u001b[39m▄\u001b[39m▅\u001b[39m▅\u001b[39m▆\u001b[39m \u001b[39m█\n",
       "  2.39 ms\u001b[90m      \u001b[39m\u001b[90mHistogram: \u001b[39m\u001b[90m\u001b[1mlog(\u001b[22m\u001b[39m\u001b[90mfrequency\u001b[39m\u001b[90m\u001b[1m)\u001b[22m\u001b[39m\u001b[90m by time\u001b[39m     14.6 ms \u001b[0m\u001b[1m<\u001b[22m\n",
       "\n",
       " Memory estimate\u001b[90m: \u001b[39m\u001b[33m1.59 MiB\u001b[39m, allocs estimate\u001b[90m: \u001b[39m\u001b[33m28812\u001b[39m."
      ]
     },
     "execution_count": 13,
     "metadata": {},
     "output_type": "execute_result"
    }
   ],
   "source": [
    "#funzione ottimizzata\n",
    "@benchmark spatial_arrangement(Points(V), ChainOp(EV), ChainOp(FE), false)"
   ]
  },
  {
   "cell_type": "code",
   "execution_count": 51,
   "metadata": {},
   "outputs": [
    {
     "name": "stdout",
     "output_type": "stream",
     "text": [
      "EV = Int8[-1 1 0 0 0 0 0 0 0 0 0 0 0 0 0 0; 0 0 -1 1 0 0 0 0 0 0 0 0 0 0 0 0; 0 0 0 0 -1 1 0 0 0 0 0 0 0 0 0 0; 0 0 0 0 0 0 -1 1 0 0 0 0 0 0 0 0; -1 0 1 0 0 0 0 0 0 0 0 0 0 0 0 0; 0 -1 0 1 0 0 0 0 0 0 0 0 0 0 0 0; 0 0 0 0 -1 0 1 0 0 0 0 0 0 0 0 0; 0 0 0 0 0 -1 0 1 0 0 0 0 0 0 0 0; -1 0 0 0 1 0 0 0 0 0 0 0 0 0 0 0; 0 -1 0 0 0 1 0 0 0 0 0 0 0 0 0 0; 0 0 -1 0 0 0 1 0 0 0 0 0 0 0 0 0; 0 0 0 -1 0 0 0 1 0 0 0 0 0 0 0 0; 0 0 0 0 0 0 0 0 -1 1 0 0 0 0 0 0; 0 0 0 0 0 0 0 0 0 0 -1 1 0 0 0 0; 0 0 0 0 0 0 0 0 0 0 0 0 -1 1 0 0; 0 0 0 0 0 0 0 0 0 0 0 0 0 0 -1 1; 0 0 0 0 0 0 0 0 -1 0 1 0 0 0 0 0; 0 0 0 0 0 0 0 0 0 -1 0 1 0 0 0 0; 0 0 0 0 0 0 0 0 0 0 0 0 -1 0 1 0; 0 0 0 0 0 0 0 0 0 0 0 0 0 -1 0 1; 0 0 0 0 0 0 0 0 -1 0 0 0 1 0 0 0; 0 0 0 0 0 0 0 0 0 -1 0 0 0 1 0 0; 0 0 0 0 0 0 0 0 0 0 -1 0 0 0 1 0; 0 0 0 0 0 0 0 0 0 0 0 -1 0 0 0 1]\n"
     ]
    },
    {
     "ename": "LoadError",
     "evalue": "BoundsError: attempt to access 16×3 Matrix{Float64} at index [1:16, [4]]",
     "output_type": "error",
     "traceback": [
      "BoundsError: attempt to access 16×3 Matrix{Float64} at index [1:16, [4]]",
      "",
      "Stacktrace:",
      "  [1] throw_boundserror(A::Matrix{Float64}, I::Tuple{Base.Slice{Base.OneTo{Int64}}, Vector{Int64}})",
      "    @ Base .\\abstractarray.jl:691",
      "  [2] checkbounds",
      "    @ .\\abstractarray.jl:656 [inlined]",
      "  [3] _getindex",
      "    @ .\\multidimensional.jl:838 [inlined]",
      "  [4] getindex",
      "    @ .\\abstractarray.jl:1218 [inlined]",
      "  [5] (::LinearAlgebraicRepresentation.var\"#360#364\"{Vector{Vector{Int64}}, Matrix{Float64}})(k::Int64)",
      "    @ LinearAlgebraicRepresentation .\\none:0",
      "  [6] iterate",
      "    @ .\\generator.jl:47 [inlined]",
      "  [7] collect_to!",
      "    @ .\\array.jl:782 [inlined]",
      "  [8] collect_to_with_first!",
      "    @ .\\array.jl:760 [inlined]",
      "  [9] collect(itr::Base.Generator{UnitRange{Int64}, LinearAlgebraicRepresentation.var\"#360#364\"{Vector{Vector{Int64}}, Matrix{Float64}}})",
      "    @ Base .\\array.jl:734",
      " [10] spaceindex(model::Tuple{Matrix{Float64}, Vector{Vector{Int64}}})",
      "    @ LinearAlgebraicRepresentation C:\\Users\\Valerio\\.julia\\packages\\LinearAlgebraicRepresentation\\qwzGL\\src\\refactoring.jl:283",
      " [11] spatial_arrangement_1(V::Matrix{Float64}, copEV::SparseMatrixCSC{Int8, Int64}, copFE::SparseMatrixCSC{Int8, Int64}, multiproc::Bool)",
      "    @ Main .\\In[6]:9",
      " [12] spatial_arrangement(V::Matrix{Float64}, copEV::SparseMatrixCSC{Int8, Int64}, copFE::SparseMatrixCSC{Int8, Int64}, multiproc::Bool) (repeats 2 times)",
      "    @ Main .\\In[10]:8",
      " [13] top-level scope",
      "    @ In[51]:11",
      " [14] eval",
      "    @ .\\boot.jl:373 [inlined]",
      " [15] include_string(mapexpr::typeof(REPL.softscope), mod::Module, code::String, filename::String)",
      "    @ Base .\\loading.jl:1196"
     ]
    }
   ],
   "source": [
    "V = Float64[0.3229956 0.8459234 0.3091824 0.8321101 0.3233606 0.8462884 0.3095474 0.8324751 0.822632 0.8740866 0.8719075 0.923362 0.9865184 1.0379729 1.0357938 1.0872484; \n",
    "            0.5770385 0.5632252 0.0548407 0.0410274 0.6046603 0.590847 0.0824624 0.0686491 0.4321656 0.4814411 0.591786 0.6410615 0.368702 0.4179775 0.5283224 0.5775979; \n",
    "            0.0769021 0.0772671 0.1045238 0.1048888 0.5992825 0.5996475 0.6269042 0.6272692 0.1754594 0.3393458 0.1119958 0.2758822 0.1430863 0.3069727 0.0796228 0.2435091]\n",
    "CV = [[1, 2, 3, 4, 5, 6, 7, 8], [9, 10, 11, 12, 13, 14, 15, 16]]\n",
    "FV = [[1, 2, 3, 4], [5, 6, 7, 8], [1, 2, 5, 6], [3, 4, 7, 8], [1, 3, 5, 7], [2, 4, 6, 8], [9, 10, 11, 12], [13, 14, 15, 16], [9, 10, 13, 14], [11, 12, 15, 16], [9, 11, 13, 15], [10, 12, 14, 16]]\n",
    "EV = [[1, 2], [3, 4], [5, 6], [7, 8], [1, 3], [2, 4], [5, 7], [6, 8], [1, 5], [2, 6], [3, 7], [4, 8], [9, 10], [11, 12], [13, 14], [15, 16], [9, 11], [10, 12], [13, 15], [14, 16], [9, 13], [10, 14], [11, 15], [12, 16]]\n",
    "\n",
    "FE = Lar.boundary_1(vec(permutedims(EV)))\n",
    "EV = transpose(Lar.boundary_1(EV))\n",
    "@show EV\n",
    "spatial_arrangement(Points(V), ChainOp(EV), ChainOp(FE))"
   ]
  },
  {
   "cell_type": "code",
   "execution_count": 83,
   "metadata": {},
   "outputs": [],
   "source": [
    "V = Float64[0.3229956 0.8459234 0.3091824 0.8321101 0.3233606 0.8462884 0.3095474 0.8324751 0.822632 0.8740866 0.8719075 0.923362 0.9865184 1.0379729 1.0357938 1.0872484; \n",
    "            0.5770385 0.5632252 0.0548407 0.0410274 0.6046603 0.590847 0.0824624 0.0686491 0.4321656 0.4814411 0.591786 0.6410615 0.368702 0.4179775 0.5283224 0.5775979; \n",
    "            0.0769021 0.0772671 0.1045238 0.1048888 0.5992825 0.5996475 0.6269042 0.6272692 0.1754594 0.3393458 0.1119958 0.2758822 0.1430863 0.3069727 0.0796228 0.2435091]\n",
    "CV = [[1, 2, 3, 4, 5, 6, 7, 8], [9, 10, 11, 12, 13, 14, 15, 16]]\n",
    "FV = [[1, 2, 3, 4], [5, 6, 7, 8], [1, 2, 5, 6], [3, 4, 7, 8], [1, 3, 5, 7], [2, 4, 6, 8], [9, 10, 11, 12], [13, 14, 15, 16], [9, 10, 13, 14], [11, 12, 15, 16], [9, 11, 13, 15], [10, 12, 14, 16]]\n",
    "EV = [[1, 2], [3, 4], [5, 6], [7, 8], [1, 3], [2, 4], [5, 7], [6, 8], [1, 5], [2, 6], [3, 7], [4, 8], [9, 10], [11, 12], [13, 14], [15, 16], [9, 11], [10, 12], [13, 15], [14, 16], [9, 13], [10, 14], [11, 15], [12, 16]]\n",
    "\n",
    "#FE = FV x EV'\n",
    "\n",
    "FE = u_coboundary_1(FV::Cells, EV::Cells, true)::ChainOp\n",
    "FE = convert(ChainOp, FE');\n",
    "spatial_arrangement(Points(V), ChainOp(EV), FE)"
   ]
  },
  {
   "cell_type": "code",
   "execution_count": null,
   "metadata": {},
   "outputs": [],
   "source": []
  }
 ],
 "metadata": {
  "interpreter": {
   "hash": "80a4484cb3b1058387544cd0f4eae71f8110b99b8fb48463c96681bb09c2fd3c"
  },
  "kernelspec": {
   "display_name": "Julia 1.7.2",
   "language": "julia",
   "name": "julia-1.7"
  },
  "language_info": {
   "file_extension": ".jl",
   "mimetype": "application/julia",
   "name": "julia",
   "version": "1.7.2"
  }
 },
 "nbformat": 4,
 "nbformat_minor": 2
}
