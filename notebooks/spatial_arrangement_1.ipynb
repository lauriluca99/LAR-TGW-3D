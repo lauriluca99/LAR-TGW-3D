{
 "cells": [
  {
   "cell_type": "markdown",
   "metadata": {},
   "source": [
    "### Progetto 8b\n",
    "Luca Maria Lauricella\n",
    "\n",
    "Valerio Marini\n",
    "\n",
    "Repository del progetto:\n",
    "https://github.com/lauriluca99/TGW-3D.jl\n",
    "\n",
    "Documentazione del progetto:\n",
    "https://lauriluca99.github.io/TGW-3D.jl"
   ]
  },
  {
   "cell_type": "code",
   "execution_count": 2,
   "metadata": {},
   "outputs": [
    {
     "data": {
      "text/plain": [
       "LinearAlgebraicRepresentation"
      ]
     },
     "execution_count": 2,
     "metadata": {},
     "output_type": "execute_result"
    }
   ],
   "source": [
    "using BenchmarkTools\n",
    "using SparseArrays\n",
    "using Distributed\n",
    "using LinearAlgebraicRepresentation\n",
    "Lar = LinearAlgebraicRepresentation"
   ]
  },
  {
   "cell_type": "markdown",
   "metadata": {},
   "source": [
    "    function spatial_arrangement_1(\n",
    "            V::Points,\n",
    "            copEV::ChainOp,\n",
    "            copFE::ChainOp, \n",
    "            [multiproc::Bool=false])\n",
    "\t\t\t\n",
    "Si occupa del processo di frammentazione delle facce per l'utilizzo del planar arrangement.\t\n",
    "Richiama le funzioni `frag_face` e `merge_vertices' per ritornare i nuovi vertici, lati e facce.\n",
    "#### Argomenti addizionali:\n",
    "- `multiproc::Bool`: Esegue la computazione in modalità parallela. Di Default a `false`."
   ]
  },
  {
   "cell_type": "code",
   "execution_count": 3,
   "metadata": {},
   "outputs": [
    {
     "data": {
      "text/plain": [
       "spatial_arrangement_1 (generic function with 2 methods)"
      ]
     },
     "execution_count": 3,
     "metadata": {},
     "output_type": "execute_result"
    }
   ],
   "source": [
    "function spatial_arrangement_1(\n",
    "    V::Lar.Points,\n",
    "    copEV::Lar.ChainOp,\n",
    "    copFE::Lar.ChainOp, multiproc::Bool=false)\n",
    "\n",
    "# spaceindex computation\n",
    "FV = Lar.compute_FV( copEV, copFE )\n",
    "model = (convert(Lar.Points,V'), FV)\n",
    "sp_idx = Lar.spaceindex(model)\n",
    "\n",
    "# initializations\n",
    "fs_num = size(copFE, 1)\n",
    "rV = Array{Float64,2}(undef,0,3)\n",
    "rEV = SparseArrays.spzeros(Int8,0,0)\n",
    "rFE = SparseArrays.spzeros(Int8,0,0)\n",
    "\n",
    "# multiprocessing of face fragmentation\n",
    "if (multiproc == true)\n",
    "    in_chan = Distributed.RemoteChannel(()->Channel{Int64}(100))\n",
    "    out_chan = Distributed.RemoteChannel(()->Channel{Tuple}(100))\n",
    "    @async begin\n",
    "        for sigma in 1:fs_num\n",
    "            \n",
    "            put!(in_chan, sigma)\n",
    "            @show sigma\n",
    "        end\n",
    "        for p in Distributed.workers()\n",
    "           @show p\n",
    "           put!(in_chan, -1)\n",
    "        end\n",
    "    end\n",
    "    for p in Distributed.workers()\n",
    "        \n",
    "        @async Base.remote_do(frag_face_channel, p, in_chan, out_chan, V, EV, FE, sp_idx)\n",
    "        \n",
    "    end\n",
    "    \n",
    "    for sigma in 1:fs_num\n",
    "            rV, rEV, rFE = Lar.skel_merge(rV, rEV, rFE, take!(out_chan)...)\n",
    "       \n",
    "\n",
    "    end\n",
    "else\n",
    "# sequential (iterative) processing of face fragmentation\n",
    "    for sigma in 1:fs_num\n",
    "        #print(sigma, \"/\", fs_num, \"\\r\")\n",
    "        nV, nEV, nFE = Lar.Arrangement.frag_face(V, copEV, copFE, sp_idx, sigma)\n",
    "        #nV, nEV, nFE = Lar.fragface(V, copEV, copFE, sp_idx, sigma)\n",
    "        nV = convert(Lar.Points, nV)\n",
    "        a,b,c = Lar.skel_merge( rV,rEV,rFE,  nV,nEV,nFE )\n",
    "        rV=a;  rEV=b;  rFE=c\n",
    "    end\n",
    "end\n",
    "# merging of close vertices, edges and faces (3D congruence)\n",
    "rV, rEV, rFE = Lar.Arrangement.merge_vertices(rV, rEV, rFE)\n",
    "return rV, rEV, rFE\n",
    "end"
   ]
  },
  {
   "cell_type": "code",
   "execution_count": 4,
   "metadata": {},
   "outputs": [
    {
     "data": {
      "text/plain": [
       "6×12 SparseMatrixCSC{Int8, Int64} with 24 stored entries:\n",
       "  1   1   1  -1   ⋅   ⋅   ⋅   ⋅   ⋅   ⋅   ⋅   ⋅\n",
       "  ⋅   ⋅   ⋅   ⋅   ⋅   ⋅   ⋅   ⋅  -1  -1  -1   1\n",
       " -1   ⋅   ⋅   ⋅   1  -1   ⋅   ⋅   1   ⋅   ⋅   ⋅\n",
       "  ⋅  -1   ⋅   ⋅   ⋅   1  -1   ⋅   ⋅   1   ⋅   ⋅\n",
       "  ⋅   ⋅  -1   ⋅   ⋅   ⋅   1  -1   ⋅   ⋅   1   ⋅\n",
       "  ⋅   ⋅   ⋅   1  -1   ⋅   ⋅   1   ⋅   ⋅   ⋅  -1"
      ]
     },
     "execution_count": 4,
     "metadata": {},
     "output_type": "execute_result"
    }
   ],
   "source": [
    "V = Float64[\n",
    "        0 0 0; 0 1 0;\n",
    "        1 1 0; 1 0 0;\n",
    "        0 0 1; 0 1 1;\n",
    "        1 1 1; 1 0 1\n",
    "]\n",
    "\n",
    "EV = sparse(Int8[\n",
    "        -1  1  0  0  0  0  0  0;\n",
    "        0 -1  1  0  0  0  0  0;\n",
    "        0  0 -1  1  0  0  0  0;\n",
    "        -1  0  0  1  0  0  0  0;\n",
    "        -1  0  0  0  1  0  0  0;\n",
    "        0 -1  0  0  0  1  0  0;\n",
    "        0  0 -1  0  0  0  1  0;\n",
    "        0  0  0 -1  0  0  0  1;\n",
    "        0  0  0  0 -1  1  0  0;\n",
    "        0  0  0  0  0 -1  1  0;\n",
    "        0  0  0  0  0  0 -1  1;\n",
    "        0  0  0  0 -1  0  0  1;\n",
    "])\n",
    "\n",
    "FE = sparse(Int8[\n",
    "        1  1  1 -1  0  0  0  0  0  0  0  0;\n",
    "        0  0  0  0  0  0  0  0 -1 -1 -1  1;\n",
    "        -1  0  0  0  1 -1  0  0  1  0  0  0;\n",
    "        0 -1  0  0  0  1 -1  0  0  1  0  0;\n",
    "        0  0 -1  0  0  0  1 -1  0  0  1  0;\n",
    "        0  0  0  1 -1  0  0  1  0  0  0 -1;\n",
    "])"
   ]
  },
  {
   "cell_type": "code",
   "execution_count": 5,
   "metadata": {},
   "outputs": [
    {
     "name": "stdout",
     "output_type": "stream",
     "text": [
      "  3.850 ms (54201 allocations: 2.72 MiB)\n"
     ]
    },
    {
     "data": {
      "text/plain": [
       "([0.0 0.0 0.0; 0.0 1.0 0.0; … ; 1.0 1.0 1.0; 1.0 0.0 1.0], sparse([1, 4, 9, 1, 2, 10, 2, 3, 11, 3  …  9, 5, 6, 10, 6, 7, 11, 7, 8, 12], [1, 1, 1, 2, 2, 2, 3, 3, 3, 4  …  5, 6, 6, 6, 7, 7, 7, 8, 8, 8], Int8[-1, -1, -1, 1, -1, -1, 1, -1, -1, 1  …  1, 1, -1, 1, 1, -1, 1, 1, 1, 1], 12, 8), sparse([1, 3, 1, 4, 1, 5, 1, 6, 2, 3  …  2, 6, 3, 6, 3, 4, 4, 5, 5, 6], [1, 1, 2, 2, 3, 3, 4, 4, 5, 5  …  8, 8, 9, 9, 10, 10, 11, 11, 12, 12], Int8[1, 1, 1, 1, 1, 1, -1, 1, 1, -1  …  -1, -1, -1, -1, 1, -1, 1, -1, 1, 1], 6, 12))"
      ]
     },
     "execution_count": 5,
     "metadata": {},
     "output_type": "execute_result"
    }
   ],
   "source": [
    "@btime spatial_arrangement_1(Lar.Points(V),Lar.ChainOp(EV),Lar.ChainOp(FE),false)"
   ]
  },
  {
   "cell_type": "code",
   "execution_count": 6,
   "metadata": {},
   "outputs": [
    {
     "name": "stdout",
     "output_type": "stream",
     "text": [
      "MethodInstance for spatial_arrangement_1(::Matrix{Float64}, ::SparseMatrixCSC{Int8, Int64}, ::SparseMatrixCSC{Int8, Int64}, ::Bool)\n",
      "  from spatial_arrangement_1(V::Matrix, copEV::SparseMatrixCSC{Int8, Int64}, copFE::SparseMatrixCSC{Int8, Int64}, multiproc::Bool) in Main at In[3]:1\n",
      "Arguments\n",
      "  #self#\u001b[36m::Core.Const(spatial_arrangement_1)\u001b[39m\n",
      "  V\u001b[36m::Matrix{Float64}\u001b[39m\n",
      "  copEV\u001b[36m::SparseMatrixCSC{Int8, Int64}\u001b[39m\n",
      "  copFE\u001b[36m::SparseMatrixCSC{Int8, Int64}\u001b[39m\n",
      "  multiproc\u001b[36m::Bool\u001b[39m\n",
      "Locals\n",
      "  @_6\u001b[91m\u001b[1m::Any\u001b[22m\u001b[39m\n",
      "  @_7\u001b[33m\u001b[1m::Union{Nothing, Tuple{Int64, Int64}}\u001b[22m\u001b[39m\n",
      "  @_8\u001b[33m\u001b[1m::Union{Nothing, Tuple{Int64, Int64}}\u001b[22m\u001b[39m\n",
      "  @_9\u001b[33m\u001b[1m::Union{Nothing, Tuple{Int64, Int64}}\u001b[22m\u001b[39m\n",
      "  #2\u001b[36m::var\"#2#6\"\u001b[39m\n",
      "  #1\u001b[36m::var\"#1#5\"\u001b[39m\n",
      "  rFE\u001b[91m\u001b[1m::Any\u001b[22m\u001b[39m\n",
      "  rEV\u001b[91m\u001b[1m::Any\u001b[22m\u001b[39m\n",
      "  rV\u001b[91m\u001b[1m::Any\u001b[22m\u001b[39m\n",
      "  out_chan\u001b[91m\u001b[1m::Any\u001b[22m\u001b[39m\n",
      "  in_chan\u001b[91m\u001b[1m::Any\u001b[22m\u001b[39m\n",
      "  fs_num\u001b[36m::Int64\u001b[39m\n",
      "  sp_idx\u001b[91m\u001b[1m::Any\u001b[22m\u001b[39m\n",
      "  model\u001b[91m\u001b[1m::Tuple{Any, Any}\u001b[22m\u001b[39m\n",
      "  FV\u001b[91m\u001b[1m::Any\u001b[22m\u001b[39m\n",
      "  #3\u001b[91m\u001b[1m::var\"#3#7\"{_A, Int64} where _A\u001b[22m\u001b[39m\n",
      "  task@_22\u001b[36m::Task\u001b[39m\n",
      "  p\u001b[36m::Int64\u001b[39m\n",
      "  #4\u001b[91m\u001b[1m::var\"#4#8\"{Matrix{Float64}, _A, _B, _C, Int64} where {_A, _B, _C}\u001b[22m\u001b[39m\n",
      "  task@_25\u001b[36m::Task\u001b[39m\n",
      "  @_26\u001b[91m\u001b[1m::Any\u001b[22m\u001b[39m\n",
      "  sigma@_27\u001b[36m::Int64\u001b[39m\n",
      "  @_28\u001b[91m\u001b[1m::Any\u001b[22m\u001b[39m\n",
      "  @_29\u001b[91m\u001b[1m::Any\u001b[22m\u001b[39m\n",
      "  c\u001b[91m\u001b[1m::Any\u001b[22m\u001b[39m\n",
      "  b\u001b[91m\u001b[1m::Any\u001b[22m\u001b[39m\n",
      "  a\u001b[91m\u001b[1m::Any\u001b[22m\u001b[39m\n",
      "  nFE\u001b[91m\u001b[1m::Any\u001b[22m\u001b[39m\n",
      "  nEV\u001b[91m\u001b[1m::Any\u001b[22m\u001b[39m\n",
      "  nV\u001b[91m\u001b[1m::Any\u001b[22m\u001b[39m\n",
      "  sigma@_36\u001b[36m::Int64\u001b[39m\n",
      "Body\u001b[91m\u001b[1m::Tuple{Any, Any, Any}\u001b[22m\u001b[39m\n",
      "\u001b[90m1 ──\u001b[39m        Core.NewvarNode(:(@_6))\n",
      "\u001b[90m│   \u001b[39m        Core.NewvarNode(:(@_7))\n",
      "\u001b[90m│   \u001b[39m        Core.NewvarNode(:(@_8))\n",
      "\u001b[90m│   \u001b[39m        Core.NewvarNode(:(@_9))\n",
      "\u001b[90m│   \u001b[39m        Core.NewvarNode(:(#2))\n",
      "\u001b[90m│   \u001b[39m        Core.NewvarNode(:(#1))\n",
      "\u001b[90m│   \u001b[39m        Core.NewvarNode(:(out_chan))\n",
      "\u001b[90m│   \u001b[39m        Core.NewvarNode(:(in_chan))\n",
      "\u001b[90m│   \u001b[39m %9   = Base.getproperty(Main.Lar, :compute_FV)\u001b[91m\u001b[1m::Any\u001b[22m\u001b[39m\n",
      "\u001b[90m│   \u001b[39m        (FV = (%9)(copEV, copFE))\n",
      "\u001b[90m│   \u001b[39m %11  = Base.getproperty(Main.Lar, :Points)\u001b[91m\u001b[1m::Any\u001b[22m\u001b[39m\n",
      "\u001b[90m│   \u001b[39m %12  = Main.:var\"'\"(V)\u001b[36m::LinearAlgebra.Adjoint{Float64, Matrix{Float64}}\u001b[39m\n",
      "\u001b[90m│   \u001b[39m %13  = Main.convert(%11, %12)\u001b[91m\u001b[1m::Any\u001b[22m\u001b[39m\n",
      "\u001b[90m│   \u001b[39m        (model = Core.tuple(%13, FV))\n",
      "\u001b[90m│   \u001b[39m %15  = Base.getproperty(Main.Lar, :spaceindex)\u001b[91m\u001b[1m::Any\u001b[22m\u001b[39m\n",
      "\u001b[90m│   \u001b[39m        (sp_idx = (%15)(model))\n",
      "\u001b[90m│   \u001b[39m        (fs_num = Main.size(copFE, 1))\n",
      "\u001b[90m│   \u001b[39m %18  = Core.apply_type(Main.Array, Main.Float64, 2)\u001b[36m::Core.Const(Matrix{Float64})\u001b[39m\n",
      "\u001b[90m│   \u001b[39m        (rV = (%18)(Main.undef, 0, 3))\n",
      "\u001b[90m│   \u001b[39m %20  = SparseArrays.spzeros\u001b[36m::Core.Const(SparseArrays.spzeros)\u001b[39m\n",
      "\u001b[90m│   \u001b[39m        (rEV = (%20)(Main.Int8, 0, 0))\n",
      "\u001b[90m│   \u001b[39m %22  = SparseArrays.spzeros\u001b[36m::Core.Const(SparseArrays.spzeros)\u001b[39m\n",
      "\u001b[90m│   \u001b[39m        (rFE = (%22)(Main.Int8, 0, 0))\n",
      "\u001b[90m│   \u001b[39m %24  = (multiproc == true)\u001b[36m::Bool\u001b[39m\n",
      "\u001b[90m└───\u001b[39m        goto #13 if not %24\n",
      "\u001b[90m2 ──\u001b[39m %26  = Distributed.RemoteChannel\u001b[36m::Core.Const(RemoteChannel)\u001b[39m\n",
      "\u001b[90m│   \u001b[39m        (#1 = %new(Main.:(var\"#1#5\")))\n",
      "\u001b[90m│   \u001b[39m %28  = #1\u001b[36m::Core.Const(var\"#1#5\"())\u001b[39m\n",
      "\u001b[90m│   \u001b[39m        (in_chan = (%26)(%28))\n",
      "\u001b[90m│   \u001b[39m %30  = Distributed.RemoteChannel\u001b[36m::Core.Const(RemoteChannel)\u001b[39m\n",
      "\u001b[90m│   \u001b[39m        (#2 = %new(Main.:(var\"#2#6\")))\n",
      "\u001b[90m│   \u001b[39m %32  = #2\u001b[36m::Core.Const(var\"#2#6\"())\u001b[39m\n",
      "\u001b[90m│   \u001b[39m        (out_chan = (%30)(%32))\n",
      "\u001b[90m│   \u001b[39m %34  = Main.:(var\"#3#7\")\u001b[36m::Core.Const(var\"#3#7\")\u001b[39m\n",
      "\u001b[90m│   \u001b[39m %35  = Core.typeof(in_chan)\u001b[91m\u001b[1m::DataType\u001b[22m\u001b[39m\n",
      "\u001b[90m│   \u001b[39m %36  = Core.typeof(fs_num)\u001b[36m::Core.Const(Int64)\u001b[39m\n",
      "\u001b[90m│   \u001b[39m %37  = Core.apply_type(%34, %35, %36)\u001b[91m\u001b[1m::Type{var\"#3#7\"{_A, Int64}} where _A\u001b[22m\u001b[39m\n",
      "\u001b[90m│   \u001b[39m %38  = in_chan\u001b[91m\u001b[1m::Any\u001b[22m\u001b[39m\n",
      "\u001b[90m│   \u001b[39m        (#3 = %new(%37, %38, fs_num))\n",
      "\u001b[90m│   \u001b[39m %40  = #3\u001b[91m\u001b[1m::var\"#3#7\"{_A, Int64} where _A\u001b[22m\u001b[39m\n",
      "\u001b[90m│   \u001b[39m        (task@_22 = Base.Task(%40))\n",
      "\u001b[90m└───\u001b[39m        goto #4 if not false\n",
      "\u001b[90m3 ──\u001b[39m        Core.Const(:(Base.put!(Main.:(var\"##sync#52\"), task@_22)))\n",
      "\u001b[90m4 ┄─\u001b[39m        Base.schedule(task@_22)\n",
      "\u001b[90m│   \u001b[39m        task@_22\n",
      "\u001b[90m│   \u001b[39m %46  = Distributed.workers\u001b[36m::Core.Const(Distributed.workers)\u001b[39m\n",
      "\u001b[90m│   \u001b[39m %47  = (%46)()\u001b[36m::Vector{Int64}\u001b[39m\n",
      "\u001b[90m│   \u001b[39m        (@_9 = Base.iterate(%47))\n",
      "\u001b[90m│   \u001b[39m %49  = (@_9 === nothing)\u001b[36m::Bool\u001b[39m\n",
      "\u001b[90m│   \u001b[39m %50  = Base.not_int(%49)\u001b[36m::Bool\u001b[39m\n",
      "\u001b[90m└───\u001b[39m        goto #9 if not %50\n",
      "\u001b[90m5 ┄─\u001b[39m %52  = @_9\u001b[36m::Tuple{Int64, Int64}\u001b[39m\n",
      "\u001b[90m│   \u001b[39m        (p = Core.getfield(%52, 1))\n",
      "\u001b[90m│   \u001b[39m %54  = Core.getfield(%52, 2)\u001b[36m::Int64\u001b[39m\n",
      "\u001b[90m│   \u001b[39m %55  = Main.:(var\"#4#8\")\u001b[36m::Core.Const(var\"#4#8\")\u001b[39m\n",
      "\u001b[90m│   \u001b[39m %56  = Core.typeof(V)\u001b[36m::Core.Const(Matrix{Float64})\u001b[39m\n",
      "\u001b[90m│   \u001b[39m %57  = Core.typeof(out_chan)\u001b[91m\u001b[1m::DataType\u001b[22m\u001b[39m\n",
      "\u001b[90m│   \u001b[39m %58  = Core.typeof(in_chan)\u001b[91m\u001b[1m::DataType\u001b[22m\u001b[39m\n",
      "\u001b[90m│   \u001b[39m %59  = Core.typeof(sp_idx)\u001b[91m\u001b[1m::DataType\u001b[22m\u001b[39m\n",
      "\u001b[90m│   \u001b[39m %60  = Core.typeof(p)\u001b[36m::Core.Const(Int64)\u001b[39m\n",
      "\u001b[90m│   \u001b[39m %61  = Core.apply_type(%55, %56, %57, %58, %59, %60)\u001b[91m\u001b[1m::Type{var\"#4#8\"{Matrix{Float64}, _A, _B, _C, Int64}} where {_A, _B, _C}\u001b[22m\u001b[39m\n",
      "\u001b[90m│   \u001b[39m %62  = out_chan\u001b[91m\u001b[1m::Any\u001b[22m\u001b[39m\n",
      "\u001b[90m│   \u001b[39m %63  = in_chan\u001b[91m\u001b[1m::Any\u001b[22m\u001b[39m\n",
      "\u001b[90m│   \u001b[39m %64  = sp_idx\u001b[91m\u001b[1m::Any\u001b[22m\u001b[39m\n",
      "\u001b[90m│   \u001b[39m        (#4 = %new(%61, V, %62, %63, %64, p))\n",
      "\u001b[90m│   \u001b[39m %66  = #4\u001b[91m\u001b[1m::var\"#4#8\"{Matrix{Float64}, _A, _B, _C, Int64} where {_A, _B, _C}\u001b[22m\u001b[39m\n",
      "\u001b[90m│   \u001b[39m        (task@_25 = Base.Task(%66))\n",
      "\u001b[90m└───\u001b[39m        goto #7 if not false\n",
      "\u001b[90m6 ──\u001b[39m        Core.Const(:(Base.put!(Main.:(var\"##sync#52\"), task@_25)))\n",
      "\u001b[90m7 ┄─\u001b[39m        Base.schedule(task@_25)\n",
      "\u001b[90m│   \u001b[39m        task@_25\n",
      "\u001b[90m│   \u001b[39m        (@_9 = Base.iterate(%47, %54))\n",
      "\u001b[90m│   \u001b[39m %73  = (@_9 === nothing)\u001b[36m::Bool\u001b[39m\n",
      "\u001b[90m│   \u001b[39m %74  = Base.not_int(%73)\u001b[36m::Bool\u001b[39m\n",
      "\u001b[90m└───\u001b[39m        goto #9 if not %74\n",
      "\u001b[90m8 ──\u001b[39m        goto #5\n",
      "\u001b[90m9 ┄─\u001b[39m %77  = (1:fs_num)\u001b[36m::Core.PartialStruct(UnitRange{Int64}, Any[Core.Const(1), Int64])\u001b[39m\n",
      "\u001b[90m│   \u001b[39m        (@_8 = Base.iterate(%77))\n",
      "\u001b[90m│   \u001b[39m %79  = (@_8 === nothing)\u001b[36m::Bool\u001b[39m\n",
      "\u001b[90m│   \u001b[39m %80  = Base.not_int(%79)\u001b[36m::Bool\u001b[39m\n",
      "\u001b[90m└───\u001b[39m        goto #12 if not %80\n",
      "\u001b[90m10 ┄\u001b[39m %82  = @_8\u001b[36m::Tuple{Int64, Int64}\u001b[39m\n",
      "\u001b[90m│   \u001b[39m        (sigma@_27 = Core.getfield(%82, 1))\n",
      "\u001b[90m│   \u001b[39m %84  = Core.getfield(%82, 2)\u001b[36m::Int64\u001b[39m\n",
      "\u001b[90m│   \u001b[39m %85  = Base.getproperty(Main.Lar, :skel_merge)\u001b[91m\u001b[1m::Any\u001b[22m\u001b[39m\n",
      "\u001b[90m│   \u001b[39m %86  = Core.tuple(rV, rEV, rFE)\u001b[91m\u001b[1m::Tuple{Any, Any, Any}\u001b[22m\u001b[39m\n",
      "\u001b[90m│   \u001b[39m %87  = Main.take!(out_chan)\u001b[91m\u001b[1m::Any\u001b[22m\u001b[39m\n",
      "\u001b[90m│   \u001b[39m %88  = Core._apply_iterate(Base.iterate, %85, %86, %87)\u001b[91m\u001b[1m::Any\u001b[22m\u001b[39m\n",
      "\u001b[90m│   \u001b[39m %89  = Base.indexed_iterate(%88, 1)\u001b[91m\u001b[1m::Any\u001b[22m\u001b[39m\n",
      "\u001b[90m│   \u001b[39m        (rV = Core.getfield(%89, 1))\n",
      "\u001b[90m│   \u001b[39m        (@_26 = Core.getfield(%89, 2))\n",
      "\u001b[90m│   \u001b[39m %92  = Base.indexed_iterate(%88, 2, @_26)\u001b[91m\u001b[1m::Any\u001b[22m\u001b[39m\n",
      "\u001b[90m│   \u001b[39m        (rEV = Core.getfield(%92, 1))\n",
      "\u001b[90m│   \u001b[39m        (@_26 = Core.getfield(%92, 2))\n",
      "\u001b[90m│   \u001b[39m %95  = Base.indexed_iterate(%88, 3, @_26)\u001b[91m\u001b[1m::Any\u001b[22m\u001b[39m\n",
      "\u001b[90m│   \u001b[39m        (rFE = Core.getfield(%95, 1))\n",
      "\u001b[90m│   \u001b[39m        (@_8 = Base.iterate(%77, %84))\n",
      "\u001b[90m│   \u001b[39m %98  = (@_8 === nothing)\u001b[36m::Bool\u001b[39m\n",
      "\u001b[90m│   \u001b[39m %99  = Base.not_int(%98)\u001b[36m::Bool\u001b[39m\n",
      "\u001b[90m└───\u001b[39m        goto #12 if not %99\n",
      "\u001b[90m11 ─\u001b[39m        goto #10\n",
      "\u001b[90m12 ┄\u001b[39m        goto #16\n",
      "\u001b[90m13 ─\u001b[39m %103 = (1:fs_num)\u001b[36m::Core.PartialStruct(UnitRange{Int64}, Any[Core.Const(1), Int64])\u001b[39m\n",
      "\u001b[90m│   \u001b[39m        (@_7 = Base.iterate(%103))\n",
      "\u001b[90m│   \u001b[39m %105 = (@_7 === nothing)\u001b[36m::Bool\u001b[39m\n",
      "\u001b[90m│   \u001b[39m %106 = Base.not_int(%105)\u001b[36m::Bool\u001b[39m\n",
      "\u001b[90m└───\u001b[39m        goto #16 if not %106\n",
      "\u001b[90m14 ┄\u001b[39m %108 = @_7\u001b[36m::Tuple{Int64, Int64}\u001b[39m\n",
      "\u001b[90m│   \u001b[39m        (sigma@_36 = Core.getfield(%108, 1))\n",
      "\u001b[90m│   \u001b[39m %110 = Core.getfield(%108, 2)\u001b[36m::Int64\u001b[39m\n",
      "\u001b[90m│   \u001b[39m %111 = Base.getproperty(Main.Lar, :Arrangement)\u001b[91m\u001b[1m::Any\u001b[22m\u001b[39m\n",
      "\u001b[90m│   \u001b[39m %112 = Base.getproperty(%111, :frag_face)\u001b[91m\u001b[1m::Any\u001b[22m\u001b[39m\n",
      "\u001b[90m│   \u001b[39m %113 = sp_idx\u001b[91m\u001b[1m::Any\u001b[22m\u001b[39m\n",
      "\u001b[90m│   \u001b[39m %114 = (%112)(V, copEV, copFE, %113, sigma@_36)\u001b[91m\u001b[1m::Any\u001b[22m\u001b[39m\n",
      "\u001b[90m│   \u001b[39m %115 = Base.indexed_iterate(%114, 1)\u001b[91m\u001b[1m::Any\u001b[22m\u001b[39m\n",
      "\u001b[90m│   \u001b[39m        (nV = Core.getfield(%115, 1))\n",
      "\u001b[90m│   \u001b[39m        (@_29 = Core.getfield(%115, 2))\n",
      "\u001b[90m│   \u001b[39m %118 = Base.indexed_iterate(%114, 2, @_29)\u001b[91m\u001b[1m::Any\u001b[22m\u001b[39m\n",
      "\u001b[90m│   \u001b[39m        (nEV = Core.getfield(%118, 1))\n",
      "\u001b[90m│   \u001b[39m        (@_29 = Core.getfield(%118, 2))\n",
      "\u001b[90m│   \u001b[39m %121 = Base.indexed_iterate(%114, 3, @_29)\u001b[91m\u001b[1m::Any\u001b[22m\u001b[39m\n",
      "\u001b[90m│   \u001b[39m        (nFE = Core.getfield(%121, 1))\n",
      "\u001b[90m│   \u001b[39m %123 = Base.getproperty(Main.Lar, :Points)\u001b[91m\u001b[1m::Any\u001b[22m\u001b[39m\n",
      "\u001b[90m│   \u001b[39m        (nV = Main.convert(%123, nV))\n",
      "\u001b[90m│   \u001b[39m %125 = Base.getproperty(Main.Lar, :skel_merge)\u001b[91m\u001b[1m::Any\u001b[22m\u001b[39m\n",
      "\u001b[90m│   \u001b[39m %126 = rV\u001b[91m\u001b[1m::Any\u001b[22m\u001b[39m\n",
      "\u001b[90m│   \u001b[39m %127 = rEV\u001b[91m\u001b[1m::Any\u001b[22m\u001b[39m\n",
      "\u001b[90m│   \u001b[39m %128 = rFE\u001b[91m\u001b[1m::Any\u001b[22m\u001b[39m\n",
      "\u001b[90m│   \u001b[39m %129 = nV\u001b[91m\u001b[1m::Any\u001b[22m\u001b[39m\n",
      "\u001b[90m│   \u001b[39m %130 = nEV\u001b[91m\u001b[1m::Any\u001b[22m\u001b[39m\n",
      "\u001b[90m│   \u001b[39m %131 = (%125)(%126, %127, %128, %129, %130, nFE)\u001b[91m\u001b[1m::Any\u001b[22m\u001b[39m\n",
      "\u001b[90m│   \u001b[39m %132 = Base.indexed_iterate(%131, 1)\u001b[91m\u001b[1m::Any\u001b[22m\u001b[39m\n",
      "\u001b[90m│   \u001b[39m        (a = Core.getfield(%132, 1))\n",
      "\u001b[90m│   \u001b[39m        (@_28 = Core.getfield(%132, 2))\n",
      "\u001b[90m│   \u001b[39m %135 = Base.indexed_iterate(%131, 2, @_28)\u001b[91m\u001b[1m::Any\u001b[22m\u001b[39m\n",
      "\u001b[90m│   \u001b[39m        (b = Core.getfield(%135, 1))\n",
      "\u001b[90m│   \u001b[39m        (@_28 = Core.getfield(%135, 2))\n",
      "\u001b[90m│   \u001b[39m %138 = Base.indexed_iterate(%131, 3, @_28)\u001b[91m\u001b[1m::Any\u001b[22m\u001b[39m\n",
      "\u001b[90m│   \u001b[39m        (c = Core.getfield(%138, 1))\n",
      "\u001b[90m│   \u001b[39m        (rV = a)\n",
      "\u001b[90m│   \u001b[39m        (rEV = b)\n",
      "\u001b[90m│   \u001b[39m        (rFE = c)\n",
      "\u001b[90m│   \u001b[39m        (@_7 = Base.iterate(%103, %110))\n",
      "\u001b[90m│   \u001b[39m %144 = (@_7 === nothing)\u001b[36m::Bool\u001b[39m\n",
      "\u001b[90m│   \u001b[39m %145 = Base.not_int(%144)\u001b[36m::Bool\u001b[39m\n",
      "\u001b[90m└───\u001b[39m        goto #16 if not %145\n",
      "\u001b[90m15 ─\u001b[39m        goto #14\n",
      "\u001b[90m16 ┄\u001b[39m %148 = Base.getproperty(Main.Lar, :Arrangement)\u001b[91m\u001b[1m::Any\u001b[22m\u001b[39m\n",
      "\u001b[90m│   \u001b[39m %149 = Base.getproperty(%148, :merge_vertices)\u001b[91m\u001b[1m::Any\u001b[22m\u001b[39m\n",
      "\u001b[90m│   \u001b[39m %150 = rV\u001b[91m\u001b[1m::Any\u001b[22m\u001b[39m\n",
      "\u001b[90m│   \u001b[39m %151 = rEV\u001b[91m\u001b[1m::Any\u001b[22m\u001b[39m\n",
      "\u001b[90m│   \u001b[39m %152 = (%149)(%150, %151, rFE)\u001b[91m\u001b[1m::Any\u001b[22m\u001b[39m\n",
      "\u001b[90m│   \u001b[39m %153 = Base.indexed_iterate(%152, 1)\u001b[91m\u001b[1m::Any\u001b[22m\u001b[39m\n",
      "\u001b[90m│   \u001b[39m        (rV = Core.getfield(%153, 1))\n",
      "\u001b[90m│   \u001b[39m        (@_6 = Core.getfield(%153, 2))\n",
      "\u001b[90m│   \u001b[39m %156 = Base.indexed_iterate(%152, 2, @_6)\u001b[91m\u001b[1m::Any\u001b[22m\u001b[39m\n",
      "\u001b[90m│   \u001b[39m        (rEV = Core.getfield(%156, 1))\n",
      "\u001b[90m│   \u001b[39m        (@_6 = Core.getfield(%156, 2))\n",
      "\u001b[90m│   \u001b[39m %159 = Base.indexed_iterate(%152, 3, @_6)\u001b[91m\u001b[1m::Any\u001b[22m\u001b[39m\n",
      "\u001b[90m│   \u001b[39m        (rFE = Core.getfield(%159, 1))\n",
      "\u001b[90m│   \u001b[39m %161 = Core.tuple(rV, rEV, rFE)\u001b[91m\u001b[1m::Tuple{Any, Any, Any}\u001b[22m\u001b[39m\n",
      "\u001b[90m└───\u001b[39m        return %161\n",
      "\n"
     ]
    }
   ],
   "source": [
    "@code_warntype spatial_arrangement_1(Lar.Points(V),Lar.ChainOp(EV),Lar.ChainOp(FE),false)"
   ]
  },
  {
   "cell_type": "markdown",
   "metadata": {},
   "source": [
    "# Ottimizzazione"
   ]
  },
  {
   "cell_type": "code",
   "execution_count": 7,
   "metadata": {},
   "outputs": [
    {
     "data": {
      "text/plain": [
       "spatial_arrangement_12 (generic function with 2 methods)"
      ]
     },
     "execution_count": 7,
     "metadata": {},
     "output_type": "execute_result"
    }
   ],
   "source": [
    "function spatial_arrangement_12(\n",
    "    V::Lar.Points,\n",
    "    copEV::Lar.ChainOp,\n",
    "    copFE::Lar.ChainOp, multiproc::Bool=false)\n",
    "\n",
    "# spaceindex computation\n",
    "FV = Lar.compute_FV( copEV, copFE )\n",
    "model = (convert(Lar.Points,V'), FV)\n",
    "sp_idx = Lar.spaceindex(model)\n",
    "\n",
    "# initializations\n",
    "fs_num = size(copFE, 1)\n",
    "rV = Array{Float64,2}(undef,0,3)\n",
    "rEV = SparseArrays.spzeros(Int8,0,0)\n",
    "rFE = SparseArrays.spzeros(Int8,0,0)\n",
    "# sequential (iterative) processing of face fragmentation\n",
    "     for sigma in 1:fs_num\n",
    "        #print(sigma, \"/\", fs_num, \"\\r\")\n",
    "        nV, nEV, nFE = Lar.Arrangement.frag_face(V, copEV, copFE, sp_idx, sigma)\n",
    "        #nV, nEV, nFE = Lar.fragface(V, copEV, copFE, sp_idx, sigma)\n",
    "        nV = convert(Lar.Points, nV)\n",
    "        rV, rEV, rFE = Lar.skel_merge( rV,rEV,rFE,  nV,nEV,nFE )\n",
    "        #rV=a;  rEV=b;  rFE=c\n",
    "    end\n",
    "# merging of close vertices, edges and faces (3D congruence)\n",
    "rV, rEV, rFE = Lar.Arrangement.merge_vertices(rV, rEV, rFE)\n",
    "return rV, rEV, rFE\n",
    "end"
   ]
  },
  {
   "cell_type": "code",
   "execution_count": 8,
   "metadata": {},
   "outputs": [
    {
     "name": "stdout",
     "output_type": "stream",
     "text": [
      "  3.974 ms (54201 allocations: 2.72 MiB)\n"
     ]
    },
    {
     "data": {
      "text/plain": [
       "([0.0 0.0 0.0; 0.0 1.0 0.0; … ; 1.0 1.0 1.0; 1.0 0.0 1.0], sparse([1, 4, 9, 1, 2, 10, 2, 3, 11, 3  …  9, 5, 6, 10, 6, 7, 11, 7, 8, 12], [1, 1, 1, 2, 2, 2, 3, 3, 3, 4  …  5, 6, 6, 6, 7, 7, 7, 8, 8, 8], Int8[-1, -1, -1, 1, -1, -1, 1, -1, -1, 1  …  1, 1, -1, 1, 1, -1, 1, 1, 1, 1], 12, 8), sparse([1, 3, 1, 4, 1, 5, 1, 6, 2, 3  …  2, 6, 3, 6, 3, 4, 4, 5, 5, 6], [1, 1, 2, 2, 3, 3, 4, 4, 5, 5  …  8, 8, 9, 9, 10, 10, 11, 11, 12, 12], Int8[1, 1, 1, 1, 1, 1, -1, 1, 1, -1  …  -1, -1, -1, -1, 1, -1, 1, -1, 1, 1], 6, 12))"
      ]
     },
     "execution_count": 8,
     "metadata": {},
     "output_type": "execute_result"
    }
   ],
   "source": [
    "@btime spatial_arrangement_12(Lar.Points(V),Lar.ChainOp(EV),Lar.ChainOp(FE))"
   ]
  },
  {
   "cell_type": "code",
   "execution_count": null,
   "metadata": {},
   "outputs": [],
   "source": []
  }
 ],
 "metadata": {
  "kernelspec": {
   "display_name": "Julia 1.7.2",
   "language": "julia",
   "name": "julia-1.7"
  },
  "language_info": {
   "file_extension": ".jl",
   "mimetype": "application/julia",
   "name": "julia",
   "version": "1.7.2"
  }
 },
 "nbformat": 4,
 "nbformat_minor": 2
}
