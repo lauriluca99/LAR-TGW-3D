{
 "cells": [
  {
   "cell_type": "code",
   "execution_count": 1,
   "metadata": {},
   "outputs": [
    {
     "data": {
      "text/plain": [
       "LinearAlgebraicRepresentation"
      ]
     },
     "execution_count": 1,
     "metadata": {},
     "output_type": "execute_result"
    }
   ],
   "source": [
    "using BenchmarkTools\n",
    "using SparseArrays\n",
    "using Distributed\n",
    "using LinearAlgebraicRepresentation\n",
    "Lar = LinearAlgebraicRepresentation"
   ]
  },
  {
   "cell_type": "code",
   "execution_count": 2,
   "metadata": {},
   "outputs": [
    {
     "data": {
      "text/plain": [
       "spatial_arrangement_1 (generic function with 2 methods)"
      ]
     },
     "execution_count": 2,
     "metadata": {},
     "output_type": "execute_result"
    }
   ],
   "source": [
    "function spatial_arrangement_1(\n",
    "    V::Lar.Points,\n",
    "    copEV::Lar.ChainOp,\n",
    "    copFE::Lar.ChainOp, multiproc::Bool=false)\n",
    "\n",
    "# spaceindex computation\n",
    "FV = Lar.compute_FV( copEV, copFE )\n",
    "model = (convert(Lar.Points,V'), FV)\n",
    "sp_idx = Lar.spaceindex(model)\n",
    "\n",
    "# initializations\n",
    "fs_num = size(copFE, 1)\n",
    "rV = Array{Float64,2}(undef,0,3)\n",
    "rEV = SparseArrays.spzeros(Int8,0,0)\n",
    "rFE = SparseArrays.spzeros(Int8,0,0)\n",
    "\n",
    "# multiprocessing of face fragmentation\n",
    "if (multiproc == true)\n",
    "    in_chan = Distributed.RemoteChannel(()->Channel{Int64}(100))\n",
    "    out_chan = Distributed.RemoteChannel(()->Channel{Tuple}(100))\n",
    "    @async begin\n",
    "        for sigma in 1:fs_num\n",
    "            \n",
    "            put!(in_chan, sigma)\n",
    "            @show sigma\n",
    "        end\n",
    "        for p in Distributed.workers()\n",
    "           @show p\n",
    "           put!(in_chan, -1)\n",
    "        end\n",
    "    end\n",
    "    for p in Distributed.workers()\n",
    "        \n",
    "        @async Base.remote_do(frag_face_channel, p, in_chan, out_chan, V, EV, FE, sp_idx)\n",
    "        \n",
    "    end\n",
    "    \n",
    "    for sigma in 1:fs_num\n",
    "            rV, rEV, rFE = Lar.skel_merge(rV, rEV, rFE, take!(out_chan)...)\n",
    "       \n",
    "\n",
    "    end\n",
    "else\n",
    "# sequential (iterative) processing of face fragmentation\n",
    "    for sigma in 1:fs_num\n",
    "        #print(sigma, \"/\", fs_num, \"\\r\")\n",
    "        nV, nEV, nFE = Lar.Arrangement.frag_face(V, copEV, copFE, sp_idx, sigma)\n",
    "        #nV, nEV, nFE = Lar.fragface(V, copEV, copFE, sp_idx, sigma)\n",
    "        nV = convert(Lar.Points, nV)\n",
    "        a,b,c = Lar.skel_merge( rV,rEV,rFE,  nV,nEV,nFE )\n",
    "        rV=a;  rEV=b;  rFE=c\n",
    "    end\n",
    "end\n",
    "# merging of close vertices, edges and faces (3D congruence)\n",
    "rV, rEV, rFE = Lar.Arrangement.merge_vertices(rV, rEV, rFE)\n",
    "return rV, rEV, rFE\n",
    "end"
   ]
  },
  {
   "cell_type": "code",
   "execution_count": 3,
   "metadata": {},
   "outputs": [
    {
     "data": {
      "text/plain": [
       "6×12 SparseMatrixCSC{Int8, Int64} with 24 stored entries:\n",
       "  1   1   1  -1   ⋅   ⋅   ⋅   ⋅   ⋅   ⋅   ⋅   ⋅\n",
       "  ⋅   ⋅   ⋅   ⋅   ⋅   ⋅   ⋅   ⋅  -1  -1  -1   1\n",
       " -1   ⋅   ⋅   ⋅   1  -1   ⋅   ⋅   1   ⋅   ⋅   ⋅\n",
       "  ⋅  -1   ⋅   ⋅   ⋅   1  -1   ⋅   ⋅   1   ⋅   ⋅\n",
       "  ⋅   ⋅  -1   ⋅   ⋅   ⋅   1  -1   ⋅   ⋅   1   ⋅\n",
       "  ⋅   ⋅   ⋅   1  -1   ⋅   ⋅   1   ⋅   ⋅   ⋅  -1"
      ]
     },
     "execution_count": 3,
     "metadata": {},
     "output_type": "execute_result"
    }
   ],
   "source": [
    "V = Float64[\n",
    "        0 0 0; 0 1 0;\n",
    "        1 1 0; 1 0 0;\n",
    "        0 0 1; 0 1 1;\n",
    "        1 1 1; 1 0 1\n",
    "    ]\n",
    "\n",
    "    EV = sparse(Int8[\n",
    "        -1  1  0  0  0  0  0  0;\n",
    "        0 -1  1  0  0  0  0  0;\n",
    "        0  0 -1  1  0  0  0  0;\n",
    "        -1  0  0  1  0  0  0  0;\n",
    "        -1  0  0  0  1  0  0  0;\n",
    "        0 -1  0  0  0  1  0  0;\n",
    "        0  0 -1  0  0  0  1  0;\n",
    "        0  0  0 -1  0  0  0  1;\n",
    "        0  0  0  0 -1  1  0  0;\n",
    "        0  0  0  0  0 -1  1  0;\n",
    "        0  0  0  0  0  0 -1  1;\n",
    "        0  0  0  0 -1  0  0  1;\n",
    "    ])\n",
    "\n",
    "    FE = sparse(Int8[\n",
    "        1  1  1 -1  0  0  0  0  0  0  0  0;\n",
    "        0  0  0  0  0  0  0  0 -1 -1 -1  1;\n",
    "        -1  0  0  0  1 -1  0  0  1  0  0  0;\n",
    "        0 -1  0  0  0  1 -1  0  0  1  0  0;\n",
    "        0  0 -1  0  0  0  1 -1  0  0  1  0;\n",
    "        0  0  0  1 -1  0  0  1  0  0  0 -1;\n",
    "    ])"
   ]
  },
  {
   "cell_type": "code",
   "execution_count": 4,
   "metadata": {},
   "outputs": [
    {
     "name": "stdout",
     "output_type": "stream",
     "text": [
      "  3.688 ms (54201 allocations: 2.72 MiB)\n"
     ]
    },
    {
     "data": {
      "text/plain": [
       "([0.0 0.0 0.0; 0.0 1.0 0.0; … ; 1.0 1.0 1.0; 1.0 0.0 1.0], sparse([1, 4, 9, 1, 2, 10, 2, 3, 11, 3  …  9, 5, 6, 10, 6, 7, 11, 7, 8, 12], [1, 1, 1, 2, 2, 2, 3, 3, 3, 4  …  5, 6, 6, 6, 7, 7, 7, 8, 8, 8], Int8[-1, -1, -1, 1, -1, -1, 1, -1, -1, 1  …  1, 1, -1, 1, 1, -1, 1, 1, 1, 1], 12, 8), sparse([1, 3, 1, 4, 1, 5, 1, 6, 2, 3  …  2, 6, 3, 6, 3, 4, 4, 5, 5, 6], [1, 1, 2, 2, 3, 3, 4, 4, 5, 5  …  8, 8, 9, 9, 10, 10, 11, 11, 12, 12], Int8[1, 1, 1, 1, 1, 1, -1, 1, 1, -1  …  -1, -1, -1, -1, 1, -1, 1, -1, 1, 1], 6, 12))"
      ]
     },
     "execution_count": 4,
     "metadata": {},
     "output_type": "execute_result"
    }
   ],
   "source": [
    "@btime spatial_arrangement_1(Lar.Points(V),Lar.ChainOp(EV),Lar.ChainOp(FE),false)"
   ]
  },
  {
   "cell_type": "code",
   "execution_count": 5,
   "metadata": {},
   "outputs": [
    {
     "name": "stdout",
     "output_type": "stream",
     "text": [
      "  0.008710 seconds (54.20 k allocations: 2.725 MiB)\n"
     ]
    },
    {
     "data": {
      "text/plain": [
       "([0.0 0.0 0.0; 0.0 1.0 0.0; … ; 1.0 1.0 1.0; 1.0 0.0 1.0], sparse([1, 4, 9, 1, 2, 10, 2, 3, 11, 3  …  9, 5, 6, 10, 6, 7, 11, 7, 8, 12], [1, 1, 1, 2, 2, 2, 3, 3, 3, 4  …  5, 6, 6, 6, 7, 7, 7, 8, 8, 8], Int8[-1, -1, -1, 1, -1, -1, 1, -1, -1, 1  …  1, 1, -1, 1, 1, -1, 1, 1, 1, 1], 12, 8), sparse([1, 3, 1, 4, 1, 5, 1, 6, 2, 3  …  2, 6, 3, 6, 3, 4, 4, 5, 5, 6], [1, 1, 2, 2, 3, 3, 4, 4, 5, 5  …  8, 8, 9, 9, 10, 10, 11, 11, 12, 12], Int8[1, 1, 1, 1, 1, 1, -1, 1, 1, -1  …  -1, -1, -1, -1, 1, -1, 1, -1, 1, 1], 6, 12))"
      ]
     },
     "execution_count": 5,
     "metadata": {},
     "output_type": "execute_result"
    }
   ],
   "source": [
    "@time spatial_arrangement_1(Lar.Points(V),Lar.ChainOp(EV),Lar.ChainOp(FE),false)"
   ]
  },
  {
   "cell_type": "markdown",
   "metadata": {},
   "source": [
    "# Ottimizzazione"
   ]
  },
  {
   "cell_type": "code",
   "execution_count": 10,
   "metadata": {},
   "outputs": [
    {
     "data": {
      "text/plain": [
       "spatial_arrangement_12 (generic function with 2 methods)"
      ]
     },
     "execution_count": 10,
     "metadata": {},
     "output_type": "execute_result"
    }
   ],
   "source": [
    "function spatial_arrangement_12(\n",
    "    V::Lar.Points,\n",
    "    copEV::Lar.ChainOp,\n",
    "    copFE::Lar.ChainOp, multiproc::Bool=false)\n",
    "\n",
    "# spaceindex computation\n",
    "FV = Lar.compute_FV( copEV, copFE )\n",
    "model = (convert(Lar.Points,V'), FV)\n",
    "sp_idx = Lar.spaceindex(model)\n",
    "\n",
    "# initializations\n",
    "fs_num = size(copFE, 1)\n",
    "rV = Array{Float64,2}(undef,0,3)\n",
    "rEV = SparseArrays.spzeros(Int8,0,0)\n",
    "rFE = SparseArrays.spzeros(Int8,0,0)\n",
    "# sequential (iterative) processing of face fragmentation\n",
    "    @sync for sigma in 1:fs_num\n",
    "        #print(sigma, \"/\", fs_num, \"\\r\")\n",
    "        nV, nEV, nFE = Lar.Arrangement.frag_face(V, copEV, copFE, sp_idx, sigma)\n",
    "        #nV, nEV, nFE = Lar.fragface(V, copEV, copFE, sp_idx, sigma)\n",
    "        nV = convert(Lar.Points, nV)\n",
    "        rV, rEV, rFE = Lar.skel_merge( rV,rEV,rFE,  nV,nEV,nFE )\n",
    "        #rV=a;  rEV=b;  rFE=c\n",
    "    end\n",
    "# merging of close vertices, edges and faces (3D congruence)\n",
    "rV, rEV, rFE = Lar.Arrangement.merge_vertices(rV, rEV, rFE)\n",
    "return rV, rEV, rFE\n",
    "end"
   ]
  },
  {
   "cell_type": "code",
   "execution_count": 11,
   "metadata": {},
   "outputs": [
    {
     "name": "stdout",
     "output_type": "stream",
     "text": [
      "  109.800 μs (2033 allocations: 91.02 KiB)"
     ]
    },
    {
     "data": {
      "text/plain": [
       "(Matrix{Float64}(undef, 0, 3), sparse(Int64[], Int64[], Int8[], 0, 0), sparse(Int64[], Int64[], Int8[], 0, 0))"
      ]
     },
     "execution_count": 11,
     "metadata": {},
     "output_type": "execute_result"
    },
    {
     "name": "stdout",
     "output_type": "stream",
     "text": [
      "\n"
     ]
    }
   ],
   "source": [
    "@btime spatial_arrangement_12(Lar.Points(V),Lar.ChainOp(EV),Lar.ChainOp(FE))"
   ]
  },
  {
   "cell_type": "code",
   "execution_count": null,
   "metadata": {},
   "outputs": [],
   "source": []
  }
 ],
 "metadata": {
  "kernelspec": {
   "display_name": "Julia 1.7.2",
   "language": "julia",
   "name": "julia-1.7"
  },
  "language_info": {
   "file_extension": ".jl",
   "mimetype": "application/julia",
   "name": "julia",
   "version": "1.7.2"
  }
 },
 "nbformat": 4,
 "nbformat_minor": 2
}
