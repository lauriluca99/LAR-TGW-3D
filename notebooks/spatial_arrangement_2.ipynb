{
 "cells": [
  {
   "cell_type": "markdown",
   "metadata": {},
   "source": [
    "### Progetto 8b\n",
    "Luca Maria Lauricella 519997\n",
    "\n",
    "Valerio Marini 512489\n",
    "\n",
    "Repository del progetto:\n",
    "https://github.com/lauriluca99/TGW-3D.jl\n",
    "\n",
    "Documentazione del progetto:\n",
    "https://lauriluca99.github.io/TGW-3D.jl"
   ]
  },
  {
   "cell_type": "code",
   "execution_count": null,
   "metadata": {},
   "outputs": [],
   "source": [
    "using BenchmarkTools\n",
    "using SparseArrays\n",
    "using LinearAlgebraicRepresentation\n",
    "using LinearAlgebra\n",
    "Lar=LinearAlgebraicRepresentation"
   ]
  },
  {
   "cell_type": "markdown",
   "metadata": {},
   "source": [
    "    function spatial_arrangement_2(\n",
    "        rV::Points, \n",
    "        rcopEV::ChainOp, \n",
    "        rcopFE::ChainOp, \n",
    "        [multiproc::Bool=false])\n",
    "\t\t\t\n",
    "Effettua la ricostruzione delle facce permettendo il wrapping spaziale 3D.\n",
    "#### Argomenti addizionali:\n",
    "- `multiproc::Bool`: Esegue la computazione in modalità parallela. Di Default a `false`."
   ]
  },
  {
   "cell_type": "code",
   "execution_count": null,
   "metadata": {},
   "outputs": [],
   "source": [
    "function spatial_arrangement_2(\n",
    "    rV::Lar.Points,\n",
    "    rcopEV::Lar.ChainOp,\n",
    "    rcopFE::Lar.ChainOp, \n",
    "    multiproc::Bool=false)\n",
    "\n",
    "#rcopCF = Lar.build_copFC(rV, rcopEV, rcopFE)  ######\n",
    "rcopCF = Lar.Arrangement.minimal_3cycles(rV, rcopEV, rcopFE)\n",
    "return rV, rcopEV, rcopFE, rcopCF\n",
    "end"
   ]
  },
  {
   "cell_type": "code",
   "execution_count": null,
   "metadata": {},
   "outputs": [],
   "source": [
    "V = Float64[\n",
    "        0 0 0; 0 1 0;\n",
    "        1 1 0; 1 0 0;\n",
    "        0 0 1; 0 1 1;\n",
    "        1 1 1; 1 0 1\n",
    "    ]\n",
    "\n",
    "    EV = sparse(Int8[\n",
    "        -1  1  0  0  0  0  0  0;\n",
    "        0 -1  1  0  0  0  0  0;\n",
    "        0  0 -1  1  0  0  0  0;\n",
    "        -1  0  0  1  0  0  0  0;\n",
    "        -1  0  0  0  1  0  0  0;\n",
    "        0 -1  0  0  0  1  0  0;\n",
    "        0  0 -1  0  0  0  1  0;\n",
    "        0  0  0 -1  0  0  0  1;\n",
    "        0  0  0  0 -1  1  0  0;\n",
    "        0  0  0  0  0 -1  1  0;\n",
    "        0  0  0  0  0  0 -1  1;\n",
    "        0  0  0  0 -1  0  0  1;\n",
    "    ])\n",
    "\n",
    "    FE = sparse(Int8[\n",
    "        1  1  1 -1  0  0  0  0  0  0  0  0;\n",
    "        0  0  0  0  0  0  0  0 -1 -1 -1  1;\n",
    "        -1  0  0  0  1 -1  0  0  1  0  0  0;\n",
    "        0 -1  0  0  0  1 -1  0  0  1  0  0;\n",
    "        0  0 -1  0  0  0  1 -1  0  0  1  0;\n",
    "        0  0  0  1 -1  0  0  1  0  0  0 -1;\n",
    "    ])"
   ]
  },
  {
   "cell_type": "code",
   "execution_count": 4,
   "metadata": {},
   "outputs": [],
   "source": [
    "@benchmark spatial_arrangement_2(Lar.Points(V),Lar.ChainOp(EV),Lar.ChainOp(FE),true)"
   ]
  },
  {
   "cell_type": "code",
   "execution_count": null,
   "metadata": {},
   "outputs": [],
   "source": [
    "@code_warntype spatial_arrangement_2(Lar.Points(V),Lar.ChainOp(EV),Lar.ChainOp(FE),true)"
   ]
  },
  {
   "cell_type": "markdown",
   "metadata": {},
   "source": [
    "# Ottimizzazione"
   ]
  },
  {
   "cell_type": "code",
   "execution_count": null,
   "metadata": {},
   "outputs": [],
   "source": [
    "function minimal_3cycles(V::Lar.Points, EV::Lar.ChainOp, FE::Lar.ChainOp)\n",
    "\n",
    "\ttriangulated_faces = Array{Any, 1}(undef, FE.m)\n",
    "\n",
    "    function face_angle(e::Int, f::Int)\n",
    "        if !isassigned(triangulated_faces, f)\n",
    "            @views vs_idxs = Array{Int64, 1}()\n",
    "            edges_idxs = FE[f, :].nzind\n",
    "            edge_num = length(edges_idxs)\n",
    "            edges = zeros(Int64, edge_num, 2)\n",
    "\n",
    "            for (i, ee) in enumerate(edges_idxs)\n",
    "                edge = EV[ee, :].nzind\n",
    "                edges[i, :] = edge\n",
    "                vs_idxs = union(vs_idxs, edge)\n",
    "            end\n",
    "\n",
    "            #vs = V[vs_idxs, :]\n",
    "\t\t\tfv,edges = Lar.vcycle(EV, FE, f)\n",
    "\n",
    "\t\t\tvs = V[fv, :]\n",
    "\n",
    "\n",
    "            v1 = LinearAlgebra.normalize(vs[2, :] - vs[1, :])\n",
    "            v2 = [0 0 0]\t\t# added for debug\n",
    "            v3 = [0 0 0]\n",
    "            err = 1e-8\n",
    "            i = 3\n",
    "            while -err < norm(v3) < err\n",
    "                v2 = normalize(vs[i, :] - vs[1, :])\n",
    "                v3 = cross(v1, v2)\n",
    "                i = i + 1\n",
    "            end\n",
    "           M = reshape([v1; v2; v3], 3, 3)\n",
    "\n",
    "            #vs = vs*M\n",
    "\t\t\tvs = (vs*M)[:, 1:2]\n",
    "\n",
    "            # triangulated_faces[f] = Triangle.constrained_triangulation(\n",
    "            #     Array{Float64,2}(vs), vs_idxs, edges, fill(true, edge_num))\n",
    "\t\t\tv = convert(Lar.Points, vs'[1:2,:])\n",
    "\t\t\tvmap = Dict(zip(fv,1:length(fv))) # vertex map\n",
    "\t\t\tmapv = Dict(zip(1:length(fv),fv)) # inverse vertex map\n",
    "\t\t\ttrias = Lar.triangulate2d(v,edges)\n",
    "\t\t\t@views triangulated_faces[f] = [[mapv[v] for v in tria] for tria in trias]\n",
    "        end\n",
    "        edge_vs = EV[e, :].nzind\n",
    "\n",
    "        t = findfirst(x->edge_vs[1] in x && edge_vs[2] in x, triangulated_faces[f])\n",
    "\n",
    "        v1 = normalize(V[edge_vs[2], :] - V[edge_vs[1], :])\n",
    "\n",
    "        if abs(v1[1]) > abs(v1[2])\n",
    "            invlen = 1. / sqrt(v1[1]*v1[1] + v1[3]*v1[3])\n",
    "            v2 = [-v1[3]*invlen, 0, v1[1]*invlen]\n",
    "        else\n",
    "            invlen = 1. / sqrt(v1[2]*v1[2] + v1[3]*v1[3])\n",
    "            v2 = [0, -v1[3]*invlen, v1[2]*invlen]\n",
    "        end\n",
    "\n",
    "        v3 = cross(v1, v2)\n",
    "\n",
    "        M = reshape([v1; v2; v3], 3, 3)\n",
    "\n",
    "        triangle = triangulated_faces[f][t]\n",
    "        third_v = setdiff(triangle, edge_vs)[1]\n",
    "        vs = V[[edge_vs..., third_v], :]*M\n",
    "\n",
    "        v = vs[3, :] - vs[1, :]\n",
    "        angle = atan(v[2], v[3])\n",
    "        return angle\n",
    "    end\n",
    "\n",
    "    #EF = FE'\n",
    "    EF::SparseArrays.SparseMatrixCSC{Int8,Int} = convert(Lar.ChainOp, LinearAlgebra.transpose(FE))\n",
    "\tFC::SparseMatrixCSC{Int64, Int64} = Lar.Arrangement.minimal_cycles(face_angle, true)(V, EF)\n",
    "\n",
    "\t#FC'\n",
    "    return -convert(Lar.ChainOp, LinearAlgebra.transpose(FC))\n",
    "end\n",
    "\n"
   ]
  },
  {
   "cell_type": "code",
   "execution_count": null,
   "metadata": {},
   "outputs": [],
   "source": [
    "@code_warntype minimal_3cycles(V, EV, FE)"
   ]
  },
  {
   "cell_type": "code",
   "execution_count": null,
   "metadata": {},
   "outputs": [],
   "source": [
    "function spatial_arrangement_21(\n",
    "    rV::Lar.Points,\n",
    "    rcopEV::Lar.ChainOp,\n",
    "    rcopFE::Lar.ChainOp, \n",
    "    multiproc::Bool=false)\n",
    "\n",
    "#rcopCF = Lar.build_copFC(rV, rcopEV, rcopFE)  ######\n",
    "rcopCF::SparseArrays.SparseMatrixCSC{Int8,Int} = minimal_3cycles(rV, rcopEV, rcopFE)\n",
    "return rV, rcopEV, rcopFE, rcopCF\n",
    "end"
   ]
  },
  {
   "cell_type": "code",
   "execution_count": null,
   "metadata": {},
   "outputs": [],
   "source": [
    "@code_warntype spatial_arrangement_21(Lar.Points(V),Lar.ChainOp(EV),Lar.ChainOp(FE),true)"
   ]
  },
  {
   "cell_type": "code",
   "execution_count": null,
   "metadata": {},
   "outputs": [],
   "source": [
    "@benchmark spatial_arrangement_21(Lar.Points(V),Lar.ChainOp(EV),Lar.ChainOp(FE),true)"
   ]
  }
 ],
 "metadata": {
  "kernelspec": {
   "display_name": "Julia 1.7.2",
   "language": "julia",
   "name": "julia-1.7"
  },
  "language_info": {
   "file_extension": ".jl",
   "mimetype": "application/julia",
   "name": "julia",
   "version": "1.7.2"
  }
 },
 "nbformat": 4,
 "nbformat_minor": 2
}
