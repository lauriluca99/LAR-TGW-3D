{
 "cells": [
  {
   "cell_type": "code",
   "execution_count": 1,
   "metadata": {},
   "outputs": [
    {
     "data": {
      "text/plain": [
       "LinearAlgebraicRepresentation"
      ]
     },
     "execution_count": 1,
     "metadata": {},
     "output_type": "execute_result"
    }
   ],
   "source": [
    "using BenchmarkTools\n",
    "using SparseArrays\n",
    "using LinearAlgebraicRepresentation\n",
    "Lar = LinearAlgebraicRepresentation"
   ]
  },
  {
   "cell_type": "markdown",
   "metadata": {},
   "source": [
    "\n",
    "\tremoveinnerloops(g, nFE)\n",
    "\n",
    "Remove the faces within the inner loops from sparse matrix nFE.\n",
    "The return walue has `g` less rows than the input `nFE`.\n"
   ]
  },
  {
   "cell_type": "code",
   "execution_count": 2,
   "metadata": {},
   "outputs": [
    {
     "data": {
      "text/plain": [
       "removeinnerloops (generic function with 1 method)"
      ]
     },
     "execution_count": 2,
     "metadata": {},
     "output_type": "execute_result"
    }
   ],
   "source": [
    "function removeinnerloops(g, nFE)\n",
    "\tFE = Lar.cop2lar(nFE)\n",
    "\tnFE = Lar.lar2cop(FE[1:end-g])\n",
    "end"
   ]
  },
  {
   "cell_type": "code",
   "execution_count": 3,
   "metadata": {},
   "outputs": [
    {
     "data": {
      "text/plain": [
       "6×12 SparseMatrixCSC{Int8, Int64} with 24 stored entries:\n",
       "  1   1   1  -1   ⋅   ⋅   ⋅   ⋅   ⋅   ⋅   ⋅   ⋅\n",
       "  ⋅   ⋅   ⋅   ⋅   ⋅   ⋅   ⋅   ⋅  -1  -1  -1   1\n",
       " -1   ⋅   ⋅   ⋅   1  -1   ⋅   ⋅   1   ⋅   ⋅   ⋅\n",
       "  ⋅  -1   ⋅   ⋅   ⋅   1  -1   ⋅   ⋅   1   ⋅   ⋅\n",
       "  ⋅   ⋅  -1   ⋅   ⋅   ⋅   1  -1   ⋅   ⋅   1   ⋅\n",
       "  ⋅   ⋅   ⋅   1  -1   ⋅   ⋅   1   ⋅   ⋅   ⋅  -1"
      ]
     },
     "execution_count": 3,
     "metadata": {},
     "output_type": "execute_result"
    }
   ],
   "source": [
    "V = Float64[\n",
    "        0 0 0; 0 1 0;\n",
    "        1 1 0; 1 0 0;\n",
    "        0 0 1; 0 1 1;\n",
    "        1 1 1; 1 0 1\n",
    "    ]\n",
    "\n",
    "EV = sparse(Int8[\n",
    "    -1  1  0  0  0  0  0  0;\n",
    "    0 -1  1  0  0  0  0  0;\n",
    "    0  0 -1  1  0  0  0  0;\n",
    "    -1  0  0  1  0  0  0  0;\n",
    "    -1  0  0  0  1  0  0  0;\n",
    "    0 -1  0  0  0  1  0  0;\n",
    "    0  0 -1  0  0  0  1  0;\n",
    "    0  0  0 -1  0  0  0  1;\n",
    "    0  0  0  0 -1  1  0  0;\n",
    "    0  0  0  0  0 -1  1  0;\n",
    "    0  0  0  0  0  0 -1  1;\n",
    "    0  0  0  0 -1  0  0  1;\n",
    "])\n",
    "\n",
    "FE = sparse(Int8[\n",
    "    1  1  1 -1  0  0  0  0  0  0  0  0;\n",
    "    0  0  0  0  0  0  0  0 -1 -1 -1  1;\n",
    "    -1  0  0  0  1 -1  0  0  1  0  0  0;\n",
    "    0 -1  0  0  0  1 -1  0  0  1  0  0;\n",
    "    0  0 -1  0  0  0  1 -1  0  0  1  0;\n",
    "    0  0  0  1 -1  0  0  1  0  0  0 -1;\n",
    "])"
   ]
  },
  {
   "cell_type": "code",
   "execution_count": null,
   "metadata": {},
   "outputs": [],
   "source": [
    "removeinnerloops(g, FE)"
   ]
  }
 ],
 "metadata": {
  "kernelspec": {
   "display_name": "Julia 1.7.2",
   "language": "julia",
   "name": "julia-1.7"
  },
  "language_info": {
   "file_extension": ".jl",
   "mimetype": "application/julia",
   "name": "julia",
   "version": "1.7.2"
  }
 },
 "nbformat": 4,
 "nbformat_minor": 2
}
