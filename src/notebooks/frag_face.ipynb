{
 "cells": [
  {
   "cell_type": "code",
   "execution_count": 1,
   "metadata": {},
   "outputs": [
    {
     "data": {
      "text/plain": [
       "LinearAlgebraicRepresentation"
      ]
     },
     "metadata": {},
     "output_type": "display_data"
    }
   ],
   "source": [
    "using BenchmarkTools\n",
    "using SparseArrays\n",
    "using Distributed\n",
    "using LinearAlgebraicRepresentation\n",
    "Lar = LinearAlgebraicRepresentation"
   ]
  },
  {
   "cell_type": "code",
   "execution_count": 6,
   "metadata": {},
   "outputs": [
    {
     "data": {
      "text/plain": [
       "frag_face (generic function with 1 method)"
      ]
     },
     "metadata": {},
     "output_type": "display_data"
    }
   ],
   "source": [
    "function frag_face(V, EV, FE, sp_idx, sigma)\n",
    "\n",
    "    vs_num = size(V, 1)\n",
    "    \n",
    "\n",
    "\t# 2D transformation of sigma face\n",
    "    sigmavs = (abs.(FE[sigma:sigma,:])*abs.(EV))[1,:].nzind\n",
    "    \n",
    "    sV = V[sigmavs, :]\n",
    "    sEV = EV[FE[sigma, :].nzind, sigmavs]\n",
    "    M = Lar.Arrangement.submanifold_mapping(sV)\n",
    "    tV = ([V ones(vs_num)]*M)[:, 1:3]  # folle convertire *tutti* i vertici\n",
    "    sV = tV[sigmavs, :]\n",
    "    # sigma face intersection with faces in sp_idx[sigma]\n",
    "    for i in sp_idx[sigma]\n",
    "        tmpV, tmpEV = Lar.Arrangement.face_int(tV, EV, FE[i, :])\n",
    "       \n",
    "\n",
    "        \n",
    "        sV, sEV = Lar.skel_merge(sV, sEV, tmpV, tmpEV)\n",
    "    end\n",
    "\n",
    "    # computation of 2D arrangement of sigma face\n",
    "    sV = sV[:, 1:2]\n",
    "    nV, nEV, nFE = Lar.Arrangement.planar_arrangement(sV, sEV, sparsevec(ones(Int8, length(sigmavs))))\n",
    "    if nV == nothing ## not possible !! ... (each original face maps to its decomposition)\n",
    "        return [], spzeros(Int8, 0,0), spzeros(Int8, 0,0)\n",
    "    end\n",
    "    nvsize = size(nV, 1)\n",
    "    nV = [nV zeros(nvsize) ones(nvsize)]*inv(M)[:, 1:3] ## ????\n",
    "    \n",
    "    return nV, nEV, nFE\n",
    "end"
   ]
  },
  {
   "cell_type": "code",
   "execution_count": 7,
   "metadata": {},
   "outputs": [
    {
     "data": {
      "text/plain": [
       "6×12 SparseMatrixCSC{Int8, Int64} with 24 stored entries:\n",
       "  1   1   1  -1   ⋅   ⋅   ⋅   ⋅   ⋅   ⋅   ⋅   ⋅\n",
       "  ⋅   ⋅   ⋅   ⋅   ⋅   ⋅   ⋅   ⋅  -1  -1  -1   1\n",
       " -1   ⋅   ⋅   ⋅   1  -1   ⋅   ⋅   1   ⋅   ⋅   ⋅\n",
       "  ⋅  -1   ⋅   ⋅   ⋅   1  -1   ⋅   ⋅   1   ⋅   ⋅\n",
       "  ⋅   ⋅  -1   ⋅   ⋅   ⋅   1  -1   ⋅   ⋅   1   ⋅\n",
       "  ⋅   ⋅   ⋅   1  -1   ⋅   ⋅   1   ⋅   ⋅   ⋅  -1"
      ]
     },
     "metadata": {},
     "output_type": "display_data"
    }
   ],
   "source": [
    "V = Float64[\n",
    "        0 0 0; 0 1 0;\n",
    "        1 1 0; 1 0 0;\n",
    "        0 0 1; 0 1 1;\n",
    "        1 1 1; 1 0 1\n",
    "    ]\n",
    "\n",
    "    EV = sparse(Int8[\n",
    "        -1  1  0  0  0  0  0  0;\n",
    "        0 -1  1  0  0  0  0  0;\n",
    "        0  0 -1  1  0  0  0  0;\n",
    "        -1  0  0  1  0  0  0  0;\n",
    "        -1  0  0  0  1  0  0  0;\n",
    "        0 -1  0  0  0  1  0  0;\n",
    "        0  0 -1  0  0  0  1  0;\n",
    "        0  0  0 -1  0  0  0  1;\n",
    "        0  0  0  0 -1  1  0  0;\n",
    "        0  0  0  0  0 -1  1  0;\n",
    "        0  0  0  0  0  0 -1  1;\n",
    "        0  0  0  0 -1  0  0  1;\n",
    "    ])\n",
    "\n",
    "    FE = sparse(Int8[\n",
    "        1  1  1 -1  0  0  0  0  0  0  0  0;\n",
    "        0  0  0  0  0  0  0  0 -1 -1 -1  1;\n",
    "        -1  0  0  0  1 -1  0  0  1  0  0  0;\n",
    "        0 -1  0  0  0  1 -1  0  0  1  0  0;\n",
    "        0  0 -1  0  0  0  1 -1  0  0  1  0;\n",
    "        0  0  0  1 -1  0  0  1  0  0  0 -1;\n",
    "    ])"
   ]
  },
  {
   "cell_type": "code",
   "execution_count": 10,
   "metadata": {},
   "outputs": [
    {
     "name": "stdout",
     "output_type": "stream",
     "text": [
      "  0.000951 seconds (4.87 k allocations: 265.336 KiB)\n"
     ]
    },
    {
     "data": {
      "text/plain": [
       "([0.0 0.0 1.0; 0.0 1.0 1.0; 1.0 1.0 1.0; 1.0 0.0 1.0], sparse([1, 4, 1, 2, 2, 3, 3, 4], [1, 1, 2, 2, 3, 3, 4, 4], Int8[-1, -1, 1, -1, 1, -1, 1, 1], 4, 4), sparse([1, 1, 1, 1], [1, 2, 3, 4], Int8[1, 1, 1, -1], 1, 4))"
      ]
     },
     "metadata": {},
     "output_type": "display_data"
    }
   ],
   "source": [
    "@time frag_face(Lar.Points(V),EV,FE,[2,3,4,5],2)"
   ]
  },
  {
   "cell_type": "code",
   "execution_count": 11,
   "metadata": {},
   "outputs": [
    {
     "name": "stdout",
     "output_type": "stream",
     "text": [
      "  354.900 μs (4870 allocations: 265.34 KiB)\n"
     ]
    },
    {
     "data": {
      "text/plain": [
       "([0.0 0.0 1.0; 0.0 1.0 1.0; 1.0 1.0 1.0; 1.0 0.0 1.0], sparse([1, 4, 1, 2, 2, 3, 3, 4], [1, 1, 2, 2, 3, 3, 4, 4], Int8[-1, -1, 1, -1, 1, -1, 1, 1], 4, 4), sparse([1, 1, 1, 1], [1, 2, 3, 4], Int8[1, 1, 1, -1], 1, 4))"
      ]
     },
     "metadata": {},
     "output_type": "display_data"
    }
   ],
   "source": [
    "@btime frag_face(Lar.Points(V),EV,FE,[2,3,4,5],2)"
   ]
  },
  {
   "cell_type": "code",
   "execution_count": null,
   "metadata": {},
   "outputs": [],
   "source": []
  }
 ],
 "metadata": {
  "kernelspec": {
   "display_name": "Julia 1.7.2",
   "language": "julia",
   "name": "julia-1.7"
  },
  "language_info": {
   "file_extension": ".jl",
   "mimetype": "application/julia",
   "name": "julia",
   "version": "1.7.2"
  },
  "orig_nbformat": 4
 },
 "nbformat": 4,
 "nbformat_minor": 2
}
