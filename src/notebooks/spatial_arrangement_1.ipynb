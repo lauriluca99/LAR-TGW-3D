{
 "cells": [
  {
   "cell_type": "code",
   "execution_count": 5,
   "metadata": {},
   "outputs": [
    {
     "data": {
      "text/plain": [
       "LinearAlgebraicRepresentation"
      ]
     },
     "metadata": {},
     "output_type": "display_data"
    }
   ],
   "source": [
    "using BenchmarkTools\n",
    "using SparseArrays\n",
    "using Distributed\n",
    "using LinearAlgebraicRepresentation\n",
    "Lar = LinearAlgebraicRepresentation"
   ]
  },
  {
   "cell_type": "code",
   "execution_count": 6,
   "metadata": {},
   "outputs": [
    {
     "data": {
      "text/plain": [
       "spatial_arrangement_1 (generic function with 2 methods)"
      ]
     },
     "metadata": {},
     "output_type": "display_data"
    }
   ],
   "source": [
    "function spatial_arrangement_1(\n",
    "    V::Lar.Points,\n",
    "    copEV::Lar.ChainOp,\n",
    "    copFE::Lar.ChainOp, multiproc::Bool=false)\n",
    "\n",
    "# spaceindex computation\n",
    "FV = Lar.compute_FV( copEV, copFE )\n",
    "model = (convert(Lar.Points,V'), FV)\n",
    "sp_idx = Lar.spaceindex(model)\n",
    "\n",
    "# initializations\n",
    "fs_num = size(copFE, 1)\n",
    "rV = Array{Float64,2}(undef,0,3)\n",
    "rEV = SparseArrays.spzeros(Int8,0,0)\n",
    "rFE = SparseArrays.spzeros(Int8,0,0)\n",
    "\n",
    "# multiprocessing of face fragmentation\n",
    "if (multiproc == true)\n",
    "    in_chan = Distributed.RemoteChannel(()->Channel{Int64}(0))\n",
    "    out_chan = Distributed.RemoteChannel(()->Channel{Tuple}(100))\n",
    "    @async begin\n",
    "        for sigma in 1:fs_num\n",
    "            \n",
    "            put!(in_chan, sigma)\n",
    "            @show sigma\n",
    "        end\n",
    "        for p in Distributed.workers()\n",
    "           @show p\n",
    "           put!(in_chan, -1)\n",
    "        end\n",
    "    end\n",
    "    for p in Distributed.workers()\n",
    "        \n",
    "        @async Base.remote_do(frag_face_channel, p, in_chan, out_chan, V, EV, FE, sp_idx)\n",
    "        \n",
    "    end\n",
    "    \n",
    "    for sigma in 1:fs_num\n",
    "            rV, rEV, rFE = Lar.skel_merge(rV, rEV, rFE, take!(out_chan)...)\n",
    "       \n",
    "\n",
    "    end\n",
    "else\n",
    "# sequential (iterative) processing of face fragmentation\n",
    "    for sigma in 1:fs_num\n",
    "        #print(sigma, \"/\", fs_num, \"\\r\")\n",
    "        nV, nEV, nFE = Lar.Arrangement.frag_face(V, copEV, copFE, sp_idx, sigma)\n",
    "        #nV, nEV, nFE = Lar.fragface(V, copEV, copFE, sp_idx, sigma)\n",
    "        nV = convert(Lar.Points, nV)\n",
    "        a,b,c = Lar.skel_merge( rV,rEV,rFE,  nV,nEV,nFE )\n",
    "        rV=a;  rEV=b;  rFE=c\n",
    "    end\n",
    "end\n",
    "# merging of close vertices, edges and faces (3D congruence)\n",
    "rV, rEV, rFE = Lar.Arrangement.merge_vertices(rV, rEV, rFE)\n",
    "return rV, rEV, rFE\n",
    "end"
   ]
  },
  {
   "cell_type": "code",
   "execution_count": 7,
   "metadata": {},
   "outputs": [
    {
     "data": {
      "text/plain": [
       "6×12 SparseMatrixCSC{Int8, Int64} with 24 stored entries:\n",
       "  1   1   1  -1   ⋅   ⋅   ⋅   ⋅   ⋅   ⋅   ⋅   ⋅\n",
       "  ⋅   ⋅   ⋅   ⋅   ⋅   ⋅   ⋅   ⋅  -1  -1  -1   1\n",
       " -1   ⋅   ⋅   ⋅   1  -1   ⋅   ⋅   1   ⋅   ⋅   ⋅\n",
       "  ⋅  -1   ⋅   ⋅   ⋅   1  -1   ⋅   ⋅   1   ⋅   ⋅\n",
       "  ⋅   ⋅  -1   ⋅   ⋅   ⋅   1  -1   ⋅   ⋅   1   ⋅\n",
       "  ⋅   ⋅   ⋅   1  -1   ⋅   ⋅   1   ⋅   ⋅   ⋅  -1"
      ]
     },
     "metadata": {},
     "output_type": "display_data"
    }
   ],
   "source": [
    "V = Float64[\n",
    "        0 0 0; 0 1 0;\n",
    "        1 1 0; 1 0 0;\n",
    "        0 0 1; 0 1 1;\n",
    "        1 1 1; 1 0 1\n",
    "    ]\n",
    "\n",
    "    EV = sparse(Int8[\n",
    "        -1  1  0  0  0  0  0  0;\n",
    "        0 -1  1  0  0  0  0  0;\n",
    "        0  0 -1  1  0  0  0  0;\n",
    "        -1  0  0  1  0  0  0  0;\n",
    "        -1  0  0  0  1  0  0  0;\n",
    "        0 -1  0  0  0  1  0  0;\n",
    "        0  0 -1  0  0  0  1  0;\n",
    "        0  0  0 -1  0  0  0  1;\n",
    "        0  0  0  0 -1  1  0  0;\n",
    "        0  0  0  0  0 -1  1  0;\n",
    "        0  0  0  0  0  0 -1  1;\n",
    "        0  0  0  0 -1  0  0  1;\n",
    "    ])\n",
    "\n",
    "    FE = sparse(Int8[\n",
    "        1  1  1 -1  0  0  0  0  0  0  0  0;\n",
    "        0  0  0  0  0  0  0  0 -1 -1 -1  1;\n",
    "        -1  0  0  0  1 -1  0  0  1  0  0  0;\n",
    "        0 -1  0  0  0  1 -1  0  0  1  0  0;\n",
    "        0  0 -1  0  0  0  1 -1  0  0  1  0;\n",
    "        0  0  0  1 -1  0  0  1  0  0  0 -1;\n",
    "    ])"
   ]
  },
  {
   "cell_type": "code",
   "execution_count": 8,
   "metadata": {},
   "outputs": [],
   "source": [
    "@btime spatial_arrangement_1(Lar.Points(V),Lar.ChainOp(EV),Lar.ChainOp(FE),true)"
   ]
  },
  {
   "cell_type": "code",
   "execution_count": null,
   "metadata": {},
   "outputs": [],
   "source": [
    "@time spatial_arrangement_1(Lar.Points(V),Lar.ChainOp(EV),Lar.ChainOp(FE),true)"
   ]
  },
  {
   "cell_type": "code",
   "execution_count": null,
   "metadata": {},
   "outputs": [],
   "source": []
  }
 ],
 "metadata": {
  "kernelspec": {
   "display_name": "Julia 1.7.2",
   "language": "julia",
   "name": "julia-1.7"
  },
  "language_info": {
   "file_extension": ".jl",
   "mimetype": "application/julia",
   "name": "julia",
   "version": "1.7.2"
  },
  "orig_nbformat": 4
 },
 "nbformat": 4,
 "nbformat_minor": 2
}
